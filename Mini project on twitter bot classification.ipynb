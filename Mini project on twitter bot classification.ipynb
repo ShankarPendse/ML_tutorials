{
 "cells": [
  {
   "cell_type": "markdown",
   "metadata": {},
   "source": [
    "# TWITTER BOT CLASSIFICATION"
   ]
  },
  {
   "cell_type": "code",
   "execution_count": 1,
   "metadata": {},
   "outputs": [],
   "source": [
    "import numpy as np\n",
    "import pandas as pd\n",
    "import seaborn as sns"
   ]
  },
  {
   "cell_type": "code",
   "execution_count": 2,
   "metadata": {},
   "outputs": [],
   "source": [
    "twitter_df = pd.read_csv(\"../dataset/twitter_human_bots_dataset.csv\")"
   ]
  },
  {
   "cell_type": "code",
   "execution_count": 3,
   "metadata": {},
   "outputs": [
    {
     "data": {
      "text/html": [
       "<div>\n",
       "<style scoped>\n",
       "    .dataframe tbody tr th:only-of-type {\n",
       "        vertical-align: middle;\n",
       "    }\n",
       "\n",
       "    .dataframe tbody tr th {\n",
       "        vertical-align: top;\n",
       "    }\n",
       "\n",
       "    .dataframe thead th {\n",
       "        text-align: right;\n",
       "    }\n",
       "</style>\n",
       "<table border=\"1\" class=\"dataframe\">\n",
       "  <thead>\n",
       "    <tr style=\"text-align: right;\">\n",
       "      <th></th>\n",
       "      <th>Unnamed: 0</th>\n",
       "      <th>created_at</th>\n",
       "      <th>default_profile</th>\n",
       "      <th>default_profile_image</th>\n",
       "      <th>description</th>\n",
       "      <th>favourites_count</th>\n",
       "      <th>followers_count</th>\n",
       "      <th>friends_count</th>\n",
       "      <th>geo_enabled</th>\n",
       "      <th>id</th>\n",
       "      <th>lang</th>\n",
       "      <th>location</th>\n",
       "      <th>profile_background_image_url</th>\n",
       "      <th>profile_image_url</th>\n",
       "      <th>screen_name</th>\n",
       "      <th>statuses_count</th>\n",
       "      <th>verified</th>\n",
       "      <th>average_tweets_per_day</th>\n",
       "      <th>account_age_days</th>\n",
       "      <th>account_type</th>\n",
       "    </tr>\n",
       "  </thead>\n",
       "  <tbody>\n",
       "    <tr>\n",
       "      <th>0</th>\n",
       "      <td>0</td>\n",
       "      <td>2016-10-15 21:32:11</td>\n",
       "      <td>False</td>\n",
       "      <td>False</td>\n",
       "      <td>Blame @xaiax, Inspired by @MakingInvisible, us...</td>\n",
       "      <td>4</td>\n",
       "      <td>1589</td>\n",
       "      <td>4</td>\n",
       "      <td>False</td>\n",
       "      <td>787405734442958848</td>\n",
       "      <td>en</td>\n",
       "      <td>unknown</td>\n",
       "      <td>http://abs.twimg.com/images/themes/theme1/bg.png</td>\n",
       "      <td>http://pbs.twimg.com/profile_images/7874121826...</td>\n",
       "      <td>best_in_dumbest</td>\n",
       "      <td>11041</td>\n",
       "      <td>False</td>\n",
       "      <td>7.870</td>\n",
       "      <td>1403</td>\n",
       "      <td>bot</td>\n",
       "    </tr>\n",
       "    <tr>\n",
       "      <th>1</th>\n",
       "      <td>1</td>\n",
       "      <td>2016-11-09 05:01:30</td>\n",
       "      <td>False</td>\n",
       "      <td>False</td>\n",
       "      <td>Photographing the American West since 1980. I ...</td>\n",
       "      <td>536</td>\n",
       "      <td>860</td>\n",
       "      <td>880</td>\n",
       "      <td>False</td>\n",
       "      <td>796216118331310080</td>\n",
       "      <td>en</td>\n",
       "      <td>Estados Unidos</td>\n",
       "      <td>http://abs.twimg.com/images/themes/theme1/bg.png</td>\n",
       "      <td>http://pbs.twimg.com/profile_images/8023296328...</td>\n",
       "      <td>CJRubinPhoto</td>\n",
       "      <td>252</td>\n",
       "      <td>False</td>\n",
       "      <td>0.183</td>\n",
       "      <td>1379</td>\n",
       "      <td>human</td>\n",
       "    </tr>\n",
       "    <tr>\n",
       "      <th>2</th>\n",
       "      <td>2</td>\n",
       "      <td>2017-06-17 05:34:27</td>\n",
       "      <td>False</td>\n",
       "      <td>False</td>\n",
       "      <td>Scruffy looking nerf herder and @twitch broadc...</td>\n",
       "      <td>3307</td>\n",
       "      <td>172</td>\n",
       "      <td>594</td>\n",
       "      <td>True</td>\n",
       "      <td>875949740503859204</td>\n",
       "      <td>en</td>\n",
       "      <td>Los Angeles, CA</td>\n",
       "      <td>http://abs.twimg.com/images/themes/theme1/bg.png</td>\n",
       "      <td>http://pbs.twimg.com/profile_images/1278890453...</td>\n",
       "      <td>SVGEGENT</td>\n",
       "      <td>1001</td>\n",
       "      <td>False</td>\n",
       "      <td>0.864</td>\n",
       "      <td>1159</td>\n",
       "      <td>human</td>\n",
       "    </tr>\n",
       "    <tr>\n",
       "      <th>3</th>\n",
       "      <td>3</td>\n",
       "      <td>2016-07-21 13:32:25</td>\n",
       "      <td>True</td>\n",
       "      <td>False</td>\n",
       "      <td>Wife.Godmother.Friend.Feline Fanatic! Assistan...</td>\n",
       "      <td>8433</td>\n",
       "      <td>517</td>\n",
       "      <td>633</td>\n",
       "      <td>True</td>\n",
       "      <td>756119643622735875</td>\n",
       "      <td>en</td>\n",
       "      <td>Birmingham, AL</td>\n",
       "      <td>NaN</td>\n",
       "      <td>http://pbs.twimg.com/profile_images/1284884924...</td>\n",
       "      <td>TinkerVHELPK5</td>\n",
       "      <td>1324</td>\n",
       "      <td>False</td>\n",
       "      <td>0.889</td>\n",
       "      <td>1489</td>\n",
       "      <td>human</td>\n",
       "    </tr>\n",
       "    <tr>\n",
       "      <th>4</th>\n",
       "      <td>4</td>\n",
       "      <td>2012-01-15 16:32:35</td>\n",
       "      <td>False</td>\n",
       "      <td>False</td>\n",
       "      <td>Loan coach at @mancity &amp; Aspiring DJ</td>\n",
       "      <td>88</td>\n",
       "      <td>753678</td>\n",
       "      <td>116</td>\n",
       "      <td>True</td>\n",
       "      <td>464781334</td>\n",
       "      <td>en</td>\n",
       "      <td>England, United Kingdom</td>\n",
       "      <td>http://abs.twimg.com/images/themes/theme1/bg.png</td>\n",
       "      <td>http://pbs.twimg.com/profile_images/9952566258...</td>\n",
       "      <td>JoleonLescott</td>\n",
       "      <td>4202</td>\n",
       "      <td>True</td>\n",
       "      <td>1.339</td>\n",
       "      <td>3138</td>\n",
       "      <td>human</td>\n",
       "    </tr>\n",
       "  </tbody>\n",
       "</table>\n",
       "</div>"
      ],
      "text/plain": [
       "   Unnamed: 0           created_at  default_profile  default_profile_image  \\\n",
       "0           0  2016-10-15 21:32:11            False                  False   \n",
       "1           1  2016-11-09 05:01:30            False                  False   \n",
       "2           2  2017-06-17 05:34:27            False                  False   \n",
       "3           3  2016-07-21 13:32:25             True                  False   \n",
       "4           4  2012-01-15 16:32:35            False                  False   \n",
       "\n",
       "                                         description  favourites_count  \\\n",
       "0  Blame @xaiax, Inspired by @MakingInvisible, us...                 4   \n",
       "1  Photographing the American West since 1980. I ...               536   \n",
       "2  Scruffy looking nerf herder and @twitch broadc...              3307   \n",
       "3  Wife.Godmother.Friend.Feline Fanatic! Assistan...              8433   \n",
       "4               Loan coach at @mancity & Aspiring DJ                88   \n",
       "\n",
       "   followers_count  friends_count  geo_enabled                  id lang  \\\n",
       "0             1589              4        False  787405734442958848   en   \n",
       "1              860            880        False  796216118331310080   en   \n",
       "2              172            594         True  875949740503859204   en   \n",
       "3              517            633         True  756119643622735875   en   \n",
       "4           753678            116         True           464781334   en   \n",
       "\n",
       "                  location                      profile_background_image_url  \\\n",
       "0                  unknown  http://abs.twimg.com/images/themes/theme1/bg.png   \n",
       "1           Estados Unidos  http://abs.twimg.com/images/themes/theme1/bg.png   \n",
       "2          Los Angeles, CA  http://abs.twimg.com/images/themes/theme1/bg.png   \n",
       "3           Birmingham, AL                                               NaN   \n",
       "4  England, United Kingdom  http://abs.twimg.com/images/themes/theme1/bg.png   \n",
       "\n",
       "                                   profile_image_url      screen_name  \\\n",
       "0  http://pbs.twimg.com/profile_images/7874121826...  best_in_dumbest   \n",
       "1  http://pbs.twimg.com/profile_images/8023296328...     CJRubinPhoto   \n",
       "2  http://pbs.twimg.com/profile_images/1278890453...         SVGEGENT   \n",
       "3  http://pbs.twimg.com/profile_images/1284884924...    TinkerVHELPK5   \n",
       "4  http://pbs.twimg.com/profile_images/9952566258...    JoleonLescott   \n",
       "\n",
       "   statuses_count  verified  average_tweets_per_day  account_age_days  \\\n",
       "0           11041     False                   7.870              1403   \n",
       "1             252     False                   0.183              1379   \n",
       "2            1001     False                   0.864              1159   \n",
       "3            1324     False                   0.889              1489   \n",
       "4            4202      True                   1.339              3138   \n",
       "\n",
       "  account_type  \n",
       "0          bot  \n",
       "1        human  \n",
       "2        human  \n",
       "3        human  \n",
       "4        human  "
      ]
     },
     "execution_count": 3,
     "metadata": {},
     "output_type": "execute_result"
    }
   ],
   "source": [
    "twitter_df.head()"
   ]
  },
  {
   "cell_type": "code",
   "execution_count": 4,
   "metadata": {},
   "outputs": [
    {
     "data": {
      "text/plain": [
       "(37438, 20)"
      ]
     },
     "execution_count": 4,
     "metadata": {},
     "output_type": "execute_result"
    }
   ],
   "source": [
    "twitter_df.shape"
   ]
  },
  {
   "cell_type": "markdown",
   "metadata": {},
   "source": [
    "# Steps to follow in any ML / Data Science Project\n",
    "\n",
    "## 1) EDA (Exploratory Data Analysis\n",
    "\n",
    "## ---------------------------------------------------------------------------------------------------------------------------\n",
    "\n",
    "### a) Clearly understand the task and the dataset that we have\n",
    "\n",
    "### b) Dependency between target and the features\n",
    "\n",
    "### c) Check for Missing values\n",
    "\n",
    "### d) Handle categorical features\n",
    "\n",
    "### e) Handle outliers\n",
    "\n",
    "### f) Scale the features\n",
    "\n",
    "### g) Check the correlation between the features and the target variable\n",
    "\n",
    "### h) Feature Engineering\n",
    "\n",
    "### i) Feature Selection\n",
    "\n",
    "### j) Shuffle and Split the data\n",
    "\n",
    "\n",
    "## 2) Train few ML models with default parameters and check the performance\n",
    "\n",
    "## 3) Fit the base model using KFold Cross validation with K splits, choose the Top 2-3 models from it and then fine tune them further (HyperParameter tuning)\n",
    "\n",
    "## 4) Experimentations:\n",
    "## ----------------------------------\n",
    "\n",
    "### a) Try out different scaling method\n",
    "\n",
    "### b) Try out a different way to identify and handle the outliers\n",
    "\n",
    "### c) Check if you can work more on feature engineering or feature selection process"
   ]
  },
  {
   "cell_type": "markdown",
   "metadata": {},
   "source": [
    "# Missing values count expressed in terms of percentage"
   ]
  },
  {
   "cell_type": "code",
   "execution_count": 5,
   "metadata": {},
   "outputs": [
    {
     "data": {
      "text/plain": [
       "Unnamed: 0                       0.000000\n",
       "created_at                       0.000000\n",
       "default_profile                  0.000000\n",
       "default_profile_image            0.000000\n",
       "description                     19.381377\n",
       "favourites_count                 0.000000\n",
       "followers_count                  0.000000\n",
       "friends_count                    0.000000\n",
       "geo_enabled                      0.000000\n",
       "id                               0.000000\n",
       "lang                            21.253806\n",
       "location                         0.008013\n",
       "profile_background_image_url    12.017202\n",
       "profile_image_url                0.002671\n",
       "screen_name                      0.000000\n",
       "statuses_count                   0.000000\n",
       "verified                         0.000000\n",
       "average_tweets_per_day           0.000000\n",
       "account_age_days                 0.000000\n",
       "account_type                     0.000000\n",
       "dtype: float64"
      ]
     },
     "execution_count": 5,
     "metadata": {},
     "output_type": "execute_result"
    }
   ],
   "source": [
    "(twitter_df.isnull().sum()/twitter_df.shape[0])*100"
   ]
  },
  {
   "cell_type": "code",
   "execution_count": 6,
   "metadata": {},
   "outputs": [],
   "source": [
    "twitter_df.drop('Unnamed: 0', axis = 1, inplace = True)"
   ]
  },
  {
   "cell_type": "code",
   "execution_count": 7,
   "metadata": {},
   "outputs": [
    {
     "data": {
      "text/html": [
       "<div>\n",
       "<style scoped>\n",
       "    .dataframe tbody tr th:only-of-type {\n",
       "        vertical-align: middle;\n",
       "    }\n",
       "\n",
       "    .dataframe tbody tr th {\n",
       "        vertical-align: top;\n",
       "    }\n",
       "\n",
       "    .dataframe thead th {\n",
       "        text-align: right;\n",
       "    }\n",
       "</style>\n",
       "<table border=\"1\" class=\"dataframe\">\n",
       "  <thead>\n",
       "    <tr style=\"text-align: right;\">\n",
       "      <th></th>\n",
       "      <th>created_at</th>\n",
       "      <th>default_profile</th>\n",
       "      <th>default_profile_image</th>\n",
       "      <th>description</th>\n",
       "      <th>favourites_count</th>\n",
       "      <th>followers_count</th>\n",
       "      <th>friends_count</th>\n",
       "      <th>geo_enabled</th>\n",
       "      <th>id</th>\n",
       "      <th>lang</th>\n",
       "      <th>location</th>\n",
       "      <th>profile_background_image_url</th>\n",
       "      <th>profile_image_url</th>\n",
       "      <th>screen_name</th>\n",
       "      <th>statuses_count</th>\n",
       "      <th>verified</th>\n",
       "      <th>average_tweets_per_day</th>\n",
       "      <th>account_age_days</th>\n",
       "      <th>account_type</th>\n",
       "    </tr>\n",
       "  </thead>\n",
       "  <tbody>\n",
       "    <tr>\n",
       "      <th>0</th>\n",
       "      <td>2016-10-15 21:32:11</td>\n",
       "      <td>False</td>\n",
       "      <td>False</td>\n",
       "      <td>Blame @xaiax, Inspired by @MakingInvisible, us...</td>\n",
       "      <td>4</td>\n",
       "      <td>1589</td>\n",
       "      <td>4</td>\n",
       "      <td>False</td>\n",
       "      <td>787405734442958848</td>\n",
       "      <td>en</td>\n",
       "      <td>unknown</td>\n",
       "      <td>http://abs.twimg.com/images/themes/theme1/bg.png</td>\n",
       "      <td>http://pbs.twimg.com/profile_images/7874121826...</td>\n",
       "      <td>best_in_dumbest</td>\n",
       "      <td>11041</td>\n",
       "      <td>False</td>\n",
       "      <td>7.870</td>\n",
       "      <td>1403</td>\n",
       "      <td>bot</td>\n",
       "    </tr>\n",
       "    <tr>\n",
       "      <th>1</th>\n",
       "      <td>2016-11-09 05:01:30</td>\n",
       "      <td>False</td>\n",
       "      <td>False</td>\n",
       "      <td>Photographing the American West since 1980. I ...</td>\n",
       "      <td>536</td>\n",
       "      <td>860</td>\n",
       "      <td>880</td>\n",
       "      <td>False</td>\n",
       "      <td>796216118331310080</td>\n",
       "      <td>en</td>\n",
       "      <td>Estados Unidos</td>\n",
       "      <td>http://abs.twimg.com/images/themes/theme1/bg.png</td>\n",
       "      <td>http://pbs.twimg.com/profile_images/8023296328...</td>\n",
       "      <td>CJRubinPhoto</td>\n",
       "      <td>252</td>\n",
       "      <td>False</td>\n",
       "      <td>0.183</td>\n",
       "      <td>1379</td>\n",
       "      <td>human</td>\n",
       "    </tr>\n",
       "    <tr>\n",
       "      <th>2</th>\n",
       "      <td>2017-06-17 05:34:27</td>\n",
       "      <td>False</td>\n",
       "      <td>False</td>\n",
       "      <td>Scruffy looking nerf herder and @twitch broadc...</td>\n",
       "      <td>3307</td>\n",
       "      <td>172</td>\n",
       "      <td>594</td>\n",
       "      <td>True</td>\n",
       "      <td>875949740503859204</td>\n",
       "      <td>en</td>\n",
       "      <td>Los Angeles, CA</td>\n",
       "      <td>http://abs.twimg.com/images/themes/theme1/bg.png</td>\n",
       "      <td>http://pbs.twimg.com/profile_images/1278890453...</td>\n",
       "      <td>SVGEGENT</td>\n",
       "      <td>1001</td>\n",
       "      <td>False</td>\n",
       "      <td>0.864</td>\n",
       "      <td>1159</td>\n",
       "      <td>human</td>\n",
       "    </tr>\n",
       "    <tr>\n",
       "      <th>3</th>\n",
       "      <td>2016-07-21 13:32:25</td>\n",
       "      <td>True</td>\n",
       "      <td>False</td>\n",
       "      <td>Wife.Godmother.Friend.Feline Fanatic! Assistan...</td>\n",
       "      <td>8433</td>\n",
       "      <td>517</td>\n",
       "      <td>633</td>\n",
       "      <td>True</td>\n",
       "      <td>756119643622735875</td>\n",
       "      <td>en</td>\n",
       "      <td>Birmingham, AL</td>\n",
       "      <td>NaN</td>\n",
       "      <td>http://pbs.twimg.com/profile_images/1284884924...</td>\n",
       "      <td>TinkerVHELPK5</td>\n",
       "      <td>1324</td>\n",
       "      <td>False</td>\n",
       "      <td>0.889</td>\n",
       "      <td>1489</td>\n",
       "      <td>human</td>\n",
       "    </tr>\n",
       "    <tr>\n",
       "      <th>4</th>\n",
       "      <td>2012-01-15 16:32:35</td>\n",
       "      <td>False</td>\n",
       "      <td>False</td>\n",
       "      <td>Loan coach at @mancity &amp; Aspiring DJ</td>\n",
       "      <td>88</td>\n",
       "      <td>753678</td>\n",
       "      <td>116</td>\n",
       "      <td>True</td>\n",
       "      <td>464781334</td>\n",
       "      <td>en</td>\n",
       "      <td>England, United Kingdom</td>\n",
       "      <td>http://abs.twimg.com/images/themes/theme1/bg.png</td>\n",
       "      <td>http://pbs.twimg.com/profile_images/9952566258...</td>\n",
       "      <td>JoleonLescott</td>\n",
       "      <td>4202</td>\n",
       "      <td>True</td>\n",
       "      <td>1.339</td>\n",
       "      <td>3138</td>\n",
       "      <td>human</td>\n",
       "    </tr>\n",
       "  </tbody>\n",
       "</table>\n",
       "</div>"
      ],
      "text/plain": [
       "            created_at  default_profile  default_profile_image  \\\n",
       "0  2016-10-15 21:32:11            False                  False   \n",
       "1  2016-11-09 05:01:30            False                  False   \n",
       "2  2017-06-17 05:34:27            False                  False   \n",
       "3  2016-07-21 13:32:25             True                  False   \n",
       "4  2012-01-15 16:32:35            False                  False   \n",
       "\n",
       "                                         description  favourites_count  \\\n",
       "0  Blame @xaiax, Inspired by @MakingInvisible, us...                 4   \n",
       "1  Photographing the American West since 1980. I ...               536   \n",
       "2  Scruffy looking nerf herder and @twitch broadc...              3307   \n",
       "3  Wife.Godmother.Friend.Feline Fanatic! Assistan...              8433   \n",
       "4               Loan coach at @mancity & Aspiring DJ                88   \n",
       "\n",
       "   followers_count  friends_count  geo_enabled                  id lang  \\\n",
       "0             1589              4        False  787405734442958848   en   \n",
       "1              860            880        False  796216118331310080   en   \n",
       "2              172            594         True  875949740503859204   en   \n",
       "3              517            633         True  756119643622735875   en   \n",
       "4           753678            116         True           464781334   en   \n",
       "\n",
       "                  location                      profile_background_image_url  \\\n",
       "0                  unknown  http://abs.twimg.com/images/themes/theme1/bg.png   \n",
       "1           Estados Unidos  http://abs.twimg.com/images/themes/theme1/bg.png   \n",
       "2          Los Angeles, CA  http://abs.twimg.com/images/themes/theme1/bg.png   \n",
       "3           Birmingham, AL                                               NaN   \n",
       "4  England, United Kingdom  http://abs.twimg.com/images/themes/theme1/bg.png   \n",
       "\n",
       "                                   profile_image_url      screen_name  \\\n",
       "0  http://pbs.twimg.com/profile_images/7874121826...  best_in_dumbest   \n",
       "1  http://pbs.twimg.com/profile_images/8023296328...     CJRubinPhoto   \n",
       "2  http://pbs.twimg.com/profile_images/1278890453...         SVGEGENT   \n",
       "3  http://pbs.twimg.com/profile_images/1284884924...    TinkerVHELPK5   \n",
       "4  http://pbs.twimg.com/profile_images/9952566258...    JoleonLescott   \n",
       "\n",
       "   statuses_count  verified  average_tweets_per_day  account_age_days  \\\n",
       "0           11041     False                   7.870              1403   \n",
       "1             252     False                   0.183              1379   \n",
       "2            1001     False                   0.864              1159   \n",
       "3            1324     False                   0.889              1489   \n",
       "4            4202      True                   1.339              3138   \n",
       "\n",
       "  account_type  \n",
       "0          bot  \n",
       "1        human  \n",
       "2        human  \n",
       "3        human  \n",
       "4        human  "
      ]
     },
     "execution_count": 7,
     "metadata": {},
     "output_type": "execute_result"
    }
   ],
   "source": [
    "twitter_df.head()"
   ]
  },
  {
   "cell_type": "code",
   "execution_count": 8,
   "metadata": {},
   "outputs": [
    {
     "data": {
      "text/plain": [
       "human    25013\n",
       "bot      12425\n",
       "Name: account_type, dtype: int64"
      ]
     },
     "execution_count": 8,
     "metadata": {},
     "output_type": "execute_result"
    }
   ],
   "source": [
    "twitter_df['account_type'].value_counts()"
   ]
  },
  {
   "cell_type": "code",
   "execution_count": 9,
   "metadata": {},
   "outputs": [
    {
     "data": {
      "text/plain": [
       "human    66.811796\n",
       "bot      33.188204\n",
       "Name: account_type, dtype: float64"
      ]
     },
     "execution_count": 9,
     "metadata": {},
     "output_type": "execute_result"
    }
   ],
   "source": [
    "(twitter_df['account_type'].value_counts()/twitter_df.shape[0])*100"
   ]
  },
  {
   "cell_type": "markdown",
   "metadata": {},
   "source": [
    "## The task at hand is binary classification and data is imbalanced\n",
    "\n",
    "## If we just predict every account as human account, we would be right 66% of times, so our base line accuracy will be 66%, whatever ML models that we train, we should get the accuracy more than 66%"
   ]
  },
  {
   "cell_type": "code",
   "execution_count": 10,
   "metadata": {},
   "outputs": [],
   "source": [
    "twitter_df['account_type'] = twitter_df['account_type'].map({'bot': 1, 'human': 0})"
   ]
  },
  {
   "cell_type": "code",
   "execution_count": 11,
   "metadata": {},
   "outputs": [
    {
     "data": {
      "text/html": [
       "<div>\n",
       "<style scoped>\n",
       "    .dataframe tbody tr th:only-of-type {\n",
       "        vertical-align: middle;\n",
       "    }\n",
       "\n",
       "    .dataframe tbody tr th {\n",
       "        vertical-align: top;\n",
       "    }\n",
       "\n",
       "    .dataframe thead th {\n",
       "        text-align: right;\n",
       "    }\n",
       "</style>\n",
       "<table border=\"1\" class=\"dataframe\">\n",
       "  <thead>\n",
       "    <tr style=\"text-align: right;\">\n",
       "      <th></th>\n",
       "      <th>created_at</th>\n",
       "      <th>default_profile</th>\n",
       "      <th>default_profile_image</th>\n",
       "      <th>description</th>\n",
       "      <th>favourites_count</th>\n",
       "      <th>followers_count</th>\n",
       "      <th>friends_count</th>\n",
       "      <th>geo_enabled</th>\n",
       "      <th>id</th>\n",
       "      <th>lang</th>\n",
       "      <th>location</th>\n",
       "      <th>profile_background_image_url</th>\n",
       "      <th>profile_image_url</th>\n",
       "      <th>screen_name</th>\n",
       "      <th>statuses_count</th>\n",
       "      <th>verified</th>\n",
       "      <th>average_tweets_per_day</th>\n",
       "      <th>account_age_days</th>\n",
       "      <th>account_type</th>\n",
       "    </tr>\n",
       "  </thead>\n",
       "  <tbody>\n",
       "    <tr>\n",
       "      <th>0</th>\n",
       "      <td>2016-10-15 21:32:11</td>\n",
       "      <td>False</td>\n",
       "      <td>False</td>\n",
       "      <td>Blame @xaiax, Inspired by @MakingInvisible, us...</td>\n",
       "      <td>4</td>\n",
       "      <td>1589</td>\n",
       "      <td>4</td>\n",
       "      <td>False</td>\n",
       "      <td>787405734442958848</td>\n",
       "      <td>en</td>\n",
       "      <td>unknown</td>\n",
       "      <td>http://abs.twimg.com/images/themes/theme1/bg.png</td>\n",
       "      <td>http://pbs.twimg.com/profile_images/7874121826...</td>\n",
       "      <td>best_in_dumbest</td>\n",
       "      <td>11041</td>\n",
       "      <td>False</td>\n",
       "      <td>7.870</td>\n",
       "      <td>1403</td>\n",
       "      <td>1</td>\n",
       "    </tr>\n",
       "    <tr>\n",
       "      <th>1</th>\n",
       "      <td>2016-11-09 05:01:30</td>\n",
       "      <td>False</td>\n",
       "      <td>False</td>\n",
       "      <td>Photographing the American West since 1980. I ...</td>\n",
       "      <td>536</td>\n",
       "      <td>860</td>\n",
       "      <td>880</td>\n",
       "      <td>False</td>\n",
       "      <td>796216118331310080</td>\n",
       "      <td>en</td>\n",
       "      <td>Estados Unidos</td>\n",
       "      <td>http://abs.twimg.com/images/themes/theme1/bg.png</td>\n",
       "      <td>http://pbs.twimg.com/profile_images/8023296328...</td>\n",
       "      <td>CJRubinPhoto</td>\n",
       "      <td>252</td>\n",
       "      <td>False</td>\n",
       "      <td>0.183</td>\n",
       "      <td>1379</td>\n",
       "      <td>0</td>\n",
       "    </tr>\n",
       "    <tr>\n",
       "      <th>2</th>\n",
       "      <td>2017-06-17 05:34:27</td>\n",
       "      <td>False</td>\n",
       "      <td>False</td>\n",
       "      <td>Scruffy looking nerf herder and @twitch broadc...</td>\n",
       "      <td>3307</td>\n",
       "      <td>172</td>\n",
       "      <td>594</td>\n",
       "      <td>True</td>\n",
       "      <td>875949740503859204</td>\n",
       "      <td>en</td>\n",
       "      <td>Los Angeles, CA</td>\n",
       "      <td>http://abs.twimg.com/images/themes/theme1/bg.png</td>\n",
       "      <td>http://pbs.twimg.com/profile_images/1278890453...</td>\n",
       "      <td>SVGEGENT</td>\n",
       "      <td>1001</td>\n",
       "      <td>False</td>\n",
       "      <td>0.864</td>\n",
       "      <td>1159</td>\n",
       "      <td>0</td>\n",
       "    </tr>\n",
       "    <tr>\n",
       "      <th>3</th>\n",
       "      <td>2016-07-21 13:32:25</td>\n",
       "      <td>True</td>\n",
       "      <td>False</td>\n",
       "      <td>Wife.Godmother.Friend.Feline Fanatic! Assistan...</td>\n",
       "      <td>8433</td>\n",
       "      <td>517</td>\n",
       "      <td>633</td>\n",
       "      <td>True</td>\n",
       "      <td>756119643622735875</td>\n",
       "      <td>en</td>\n",
       "      <td>Birmingham, AL</td>\n",
       "      <td>NaN</td>\n",
       "      <td>http://pbs.twimg.com/profile_images/1284884924...</td>\n",
       "      <td>TinkerVHELPK5</td>\n",
       "      <td>1324</td>\n",
       "      <td>False</td>\n",
       "      <td>0.889</td>\n",
       "      <td>1489</td>\n",
       "      <td>0</td>\n",
       "    </tr>\n",
       "    <tr>\n",
       "      <th>4</th>\n",
       "      <td>2012-01-15 16:32:35</td>\n",
       "      <td>False</td>\n",
       "      <td>False</td>\n",
       "      <td>Loan coach at @mancity &amp; Aspiring DJ</td>\n",
       "      <td>88</td>\n",
       "      <td>753678</td>\n",
       "      <td>116</td>\n",
       "      <td>True</td>\n",
       "      <td>464781334</td>\n",
       "      <td>en</td>\n",
       "      <td>England, United Kingdom</td>\n",
       "      <td>http://abs.twimg.com/images/themes/theme1/bg.png</td>\n",
       "      <td>http://pbs.twimg.com/profile_images/9952566258...</td>\n",
       "      <td>JoleonLescott</td>\n",
       "      <td>4202</td>\n",
       "      <td>True</td>\n",
       "      <td>1.339</td>\n",
       "      <td>3138</td>\n",
       "      <td>0</td>\n",
       "    </tr>\n",
       "  </tbody>\n",
       "</table>\n",
       "</div>"
      ],
      "text/plain": [
       "            created_at  default_profile  default_profile_image  \\\n",
       "0  2016-10-15 21:32:11            False                  False   \n",
       "1  2016-11-09 05:01:30            False                  False   \n",
       "2  2017-06-17 05:34:27            False                  False   \n",
       "3  2016-07-21 13:32:25             True                  False   \n",
       "4  2012-01-15 16:32:35            False                  False   \n",
       "\n",
       "                                         description  favourites_count  \\\n",
       "0  Blame @xaiax, Inspired by @MakingInvisible, us...                 4   \n",
       "1  Photographing the American West since 1980. I ...               536   \n",
       "2  Scruffy looking nerf herder and @twitch broadc...              3307   \n",
       "3  Wife.Godmother.Friend.Feline Fanatic! Assistan...              8433   \n",
       "4               Loan coach at @mancity & Aspiring DJ                88   \n",
       "\n",
       "   followers_count  friends_count  geo_enabled                  id lang  \\\n",
       "0             1589              4        False  787405734442958848   en   \n",
       "1              860            880        False  796216118331310080   en   \n",
       "2              172            594         True  875949740503859204   en   \n",
       "3              517            633         True  756119643622735875   en   \n",
       "4           753678            116         True           464781334   en   \n",
       "\n",
       "                  location                      profile_background_image_url  \\\n",
       "0                  unknown  http://abs.twimg.com/images/themes/theme1/bg.png   \n",
       "1           Estados Unidos  http://abs.twimg.com/images/themes/theme1/bg.png   \n",
       "2          Los Angeles, CA  http://abs.twimg.com/images/themes/theme1/bg.png   \n",
       "3           Birmingham, AL                                               NaN   \n",
       "4  England, United Kingdom  http://abs.twimg.com/images/themes/theme1/bg.png   \n",
       "\n",
       "                                   profile_image_url      screen_name  \\\n",
       "0  http://pbs.twimg.com/profile_images/7874121826...  best_in_dumbest   \n",
       "1  http://pbs.twimg.com/profile_images/8023296328...     CJRubinPhoto   \n",
       "2  http://pbs.twimg.com/profile_images/1278890453...         SVGEGENT   \n",
       "3  http://pbs.twimg.com/profile_images/1284884924...    TinkerVHELPK5   \n",
       "4  http://pbs.twimg.com/profile_images/9952566258...    JoleonLescott   \n",
       "\n",
       "   statuses_count  verified  average_tweets_per_day  account_age_days  \\\n",
       "0           11041     False                   7.870              1403   \n",
       "1             252     False                   0.183              1379   \n",
       "2            1001     False                   0.864              1159   \n",
       "3            1324     False                   0.889              1489   \n",
       "4            4202      True                   1.339              3138   \n",
       "\n",
       "   account_type  \n",
       "0             1  \n",
       "1             0  \n",
       "2             0  \n",
       "3             0  \n",
       "4             0  "
      ]
     },
     "execution_count": 11,
     "metadata": {},
     "output_type": "execute_result"
    }
   ],
   "source": [
    "twitter_df.head()"
   ]
  },
  {
   "cell_type": "code",
   "execution_count": 12,
   "metadata": {},
   "outputs": [
    {
     "data": {
      "text/html": [
       "<div>\n",
       "<style scoped>\n",
       "    .dataframe tbody tr th:only-of-type {\n",
       "        vertical-align: middle;\n",
       "    }\n",
       "\n",
       "    .dataframe tbody tr th {\n",
       "        vertical-align: top;\n",
       "    }\n",
       "\n",
       "    .dataframe thead th {\n",
       "        text-align: right;\n",
       "    }\n",
       "</style>\n",
       "<table border=\"1\" class=\"dataframe\">\n",
       "  <thead>\n",
       "    <tr style=\"text-align: right;\">\n",
       "      <th></th>\n",
       "      <th>default_profile</th>\n",
       "      <th>default_profile_image</th>\n",
       "      <th>favourites_count</th>\n",
       "      <th>followers_count</th>\n",
       "      <th>friends_count</th>\n",
       "      <th>geo_enabled</th>\n",
       "      <th>id</th>\n",
       "      <th>statuses_count</th>\n",
       "      <th>verified</th>\n",
       "      <th>average_tweets_per_day</th>\n",
       "      <th>account_age_days</th>\n",
       "      <th>account_type</th>\n",
       "    </tr>\n",
       "  </thead>\n",
       "  <tbody>\n",
       "    <tr>\n",
       "      <th>default_profile</th>\n",
       "      <td>1.000000</td>\n",
       "      <td>0.115994</td>\n",
       "      <td>-0.088897</td>\n",
       "      <td>-0.089969</td>\n",
       "      <td>-0.048898</td>\n",
       "      <td>-0.273882</td>\n",
       "      <td>0.309874</td>\n",
       "      <td>-0.131859</td>\n",
       "      <td>-0.264979</td>\n",
       "      <td>-0.082269</td>\n",
       "      <td>-0.459317</td>\n",
       "      <td>0.290070</td>\n",
       "    </tr>\n",
       "    <tr>\n",
       "      <th>default_profile_image</th>\n",
       "      <td>0.115994</td>\n",
       "      <td>1.000000</td>\n",
       "      <td>-0.035908</td>\n",
       "      <td>-0.018062</td>\n",
       "      <td>-0.010599</td>\n",
       "      <td>-0.095831</td>\n",
       "      <td>0.014099</td>\n",
       "      <td>-0.027591</td>\n",
       "      <td>-0.058531</td>\n",
       "      <td>-0.020461</td>\n",
       "      <td>-0.047478</td>\n",
       "      <td>0.092601</td>\n",
       "    </tr>\n",
       "    <tr>\n",
       "      <th>favourites_count</th>\n",
       "      <td>-0.088897</td>\n",
       "      <td>-0.035908</td>\n",
       "      <td>1.000000</td>\n",
       "      <td>-0.024431</td>\n",
       "      <td>0.066202</td>\n",
       "      <td>0.135524</td>\n",
       "      <td>-0.049557</td>\n",
       "      <td>0.264001</td>\n",
       "      <td>0.004998</td>\n",
       "      <td>0.275568</td>\n",
       "      <td>0.024098</td>\n",
       "      <td>-0.162448</td>\n",
       "    </tr>\n",
       "    <tr>\n",
       "      <th>followers_count</th>\n",
       "      <td>-0.089969</td>\n",
       "      <td>-0.018062</td>\n",
       "      <td>-0.024431</td>\n",
       "      <td>1.000000</td>\n",
       "      <td>0.048482</td>\n",
       "      <td>0.042550</td>\n",
       "      <td>-0.059866</td>\n",
       "      <td>0.031302</td>\n",
       "      <td>0.273493</td>\n",
       "      <td>0.010845</td>\n",
       "      <td>0.119114</td>\n",
       "      <td>-0.084665</td>\n",
       "    </tr>\n",
       "    <tr>\n",
       "      <th>friends_count</th>\n",
       "      <td>-0.048898</td>\n",
       "      <td>-0.010599</td>\n",
       "      <td>0.066202</td>\n",
       "      <td>0.048482</td>\n",
       "      <td>1.000000</td>\n",
       "      <td>0.028229</td>\n",
       "      <td>-0.029059</td>\n",
       "      <td>0.077872</td>\n",
       "      <td>0.051031</td>\n",
       "      <td>0.059842</td>\n",
       "      <td>0.043834</td>\n",
       "      <td>0.006825</td>\n",
       "    </tr>\n",
       "    <tr>\n",
       "      <th>geo_enabled</th>\n",
       "      <td>-0.273882</td>\n",
       "      <td>-0.095831</td>\n",
       "      <td>0.135524</td>\n",
       "      <td>0.042550</td>\n",
       "      <td>0.028229</td>\n",
       "      <td>1.000000</td>\n",
       "      <td>-0.248487</td>\n",
       "      <td>0.090194</td>\n",
       "      <td>0.196153</td>\n",
       "      <td>0.057770</td>\n",
       "      <td>0.280077</td>\n",
       "      <td>-0.336145</td>\n",
       "    </tr>\n",
       "    <tr>\n",
       "      <th>id</th>\n",
       "      <td>0.309874</td>\n",
       "      <td>0.014099</td>\n",
       "      <td>-0.049557</td>\n",
       "      <td>-0.059866</td>\n",
       "      <td>-0.029059</td>\n",
       "      <td>-0.248487</td>\n",
       "      <td>1.000000</td>\n",
       "      <td>-0.085928</td>\n",
       "      <td>-0.190821</td>\n",
       "      <td>-0.020604</td>\n",
       "      <td>-0.730933</td>\n",
       "      <td>0.106962</td>\n",
       "    </tr>\n",
       "    <tr>\n",
       "      <th>statuses_count</th>\n",
       "      <td>-0.131859</td>\n",
       "      <td>-0.027591</td>\n",
       "      <td>0.264001</td>\n",
       "      <td>0.031302</td>\n",
       "      <td>0.077872</td>\n",
       "      <td>0.090194</td>\n",
       "      <td>-0.085928</td>\n",
       "      <td>1.000000</td>\n",
       "      <td>0.079066</td>\n",
       "      <td>0.929172</td>\n",
       "      <td>0.115308</td>\n",
       "      <td>-0.008258</td>\n",
       "    </tr>\n",
       "    <tr>\n",
       "      <th>verified</th>\n",
       "      <td>-0.264979</td>\n",
       "      <td>-0.058531</td>\n",
       "      <td>0.004998</td>\n",
       "      <td>0.273493</td>\n",
       "      <td>0.051031</td>\n",
       "      <td>0.196153</td>\n",
       "      <td>-0.190821</td>\n",
       "      <td>0.079066</td>\n",
       "      <td>1.000000</td>\n",
       "      <td>0.027558</td>\n",
       "      <td>0.350272</td>\n",
       "      <td>-0.309593</td>\n",
       "    </tr>\n",
       "    <tr>\n",
       "      <th>average_tweets_per_day</th>\n",
       "      <td>-0.082269</td>\n",
       "      <td>-0.020461</td>\n",
       "      <td>0.275568</td>\n",
       "      <td>0.010845</td>\n",
       "      <td>0.059842</td>\n",
       "      <td>0.057770</td>\n",
       "      <td>-0.020604</td>\n",
       "      <td>0.929172</td>\n",
       "      <td>0.027558</td>\n",
       "      <td>1.000000</td>\n",
       "      <td>0.009868</td>\n",
       "      <td>0.010339</td>\n",
       "    </tr>\n",
       "    <tr>\n",
       "      <th>account_age_days</th>\n",
       "      <td>-0.459317</td>\n",
       "      <td>-0.047478</td>\n",
       "      <td>0.024098</td>\n",
       "      <td>0.119114</td>\n",
       "      <td>0.043834</td>\n",
       "      <td>0.280077</td>\n",
       "      <td>-0.730933</td>\n",
       "      <td>0.115308</td>\n",
       "      <td>0.350272</td>\n",
       "      <td>0.009868</td>\n",
       "      <td>1.000000</td>\n",
       "      <td>-0.211960</td>\n",
       "    </tr>\n",
       "    <tr>\n",
       "      <th>account_type</th>\n",
       "      <td>0.290070</td>\n",
       "      <td>0.092601</td>\n",
       "      <td>-0.162448</td>\n",
       "      <td>-0.084665</td>\n",
       "      <td>0.006825</td>\n",
       "      <td>-0.336145</td>\n",
       "      <td>0.106962</td>\n",
       "      <td>-0.008258</td>\n",
       "      <td>-0.309593</td>\n",
       "      <td>0.010339</td>\n",
       "      <td>-0.211960</td>\n",
       "      <td>1.000000</td>\n",
       "    </tr>\n",
       "  </tbody>\n",
       "</table>\n",
       "</div>"
      ],
      "text/plain": [
       "                        default_profile  default_profile_image  \\\n",
       "default_profile                1.000000               0.115994   \n",
       "default_profile_image          0.115994               1.000000   \n",
       "favourites_count              -0.088897              -0.035908   \n",
       "followers_count               -0.089969              -0.018062   \n",
       "friends_count                 -0.048898              -0.010599   \n",
       "geo_enabled                   -0.273882              -0.095831   \n",
       "id                             0.309874               0.014099   \n",
       "statuses_count                -0.131859              -0.027591   \n",
       "verified                      -0.264979              -0.058531   \n",
       "average_tweets_per_day        -0.082269              -0.020461   \n",
       "account_age_days              -0.459317              -0.047478   \n",
       "account_type                   0.290070               0.092601   \n",
       "\n",
       "                        favourites_count  followers_count  friends_count  \\\n",
       "default_profile                -0.088897        -0.089969      -0.048898   \n",
       "default_profile_image          -0.035908        -0.018062      -0.010599   \n",
       "favourites_count                1.000000        -0.024431       0.066202   \n",
       "followers_count                -0.024431         1.000000       0.048482   \n",
       "friends_count                   0.066202         0.048482       1.000000   \n",
       "geo_enabled                     0.135524         0.042550       0.028229   \n",
       "id                             -0.049557        -0.059866      -0.029059   \n",
       "statuses_count                  0.264001         0.031302       0.077872   \n",
       "verified                        0.004998         0.273493       0.051031   \n",
       "average_tweets_per_day          0.275568         0.010845       0.059842   \n",
       "account_age_days                0.024098         0.119114       0.043834   \n",
       "account_type                   -0.162448        -0.084665       0.006825   \n",
       "\n",
       "                        geo_enabled        id  statuses_count  verified  \\\n",
       "default_profile           -0.273882  0.309874       -0.131859 -0.264979   \n",
       "default_profile_image     -0.095831  0.014099       -0.027591 -0.058531   \n",
       "favourites_count           0.135524 -0.049557        0.264001  0.004998   \n",
       "followers_count            0.042550 -0.059866        0.031302  0.273493   \n",
       "friends_count              0.028229 -0.029059        0.077872  0.051031   \n",
       "geo_enabled                1.000000 -0.248487        0.090194  0.196153   \n",
       "id                        -0.248487  1.000000       -0.085928 -0.190821   \n",
       "statuses_count             0.090194 -0.085928        1.000000  0.079066   \n",
       "verified                   0.196153 -0.190821        0.079066  1.000000   \n",
       "average_tweets_per_day     0.057770 -0.020604        0.929172  0.027558   \n",
       "account_age_days           0.280077 -0.730933        0.115308  0.350272   \n",
       "account_type              -0.336145  0.106962       -0.008258 -0.309593   \n",
       "\n",
       "                        average_tweets_per_day  account_age_days  account_type  \n",
       "default_profile                      -0.082269         -0.459317      0.290070  \n",
       "default_profile_image                -0.020461         -0.047478      0.092601  \n",
       "favourites_count                      0.275568          0.024098     -0.162448  \n",
       "followers_count                       0.010845          0.119114     -0.084665  \n",
       "friends_count                         0.059842          0.043834      0.006825  \n",
       "geo_enabled                           0.057770          0.280077     -0.336145  \n",
       "id                                   -0.020604         -0.730933      0.106962  \n",
       "statuses_count                        0.929172          0.115308     -0.008258  \n",
       "verified                              0.027558          0.350272     -0.309593  \n",
       "average_tweets_per_day                1.000000          0.009868      0.010339  \n",
       "account_age_days                      0.009868          1.000000     -0.211960  \n",
       "account_type                          0.010339         -0.211960      1.000000  "
      ]
     },
     "execution_count": 12,
     "metadata": {},
     "output_type": "execute_result"
    }
   ],
   "source": [
    "twitter_df.corr()"
   ]
  },
  {
   "cell_type": "code",
   "execution_count": 13,
   "metadata": {},
   "outputs": [],
   "source": [
    "twitter_df.drop('id', axis = 1, inplace = True)"
   ]
  },
  {
   "cell_type": "code",
   "execution_count": 14,
   "metadata": {},
   "outputs": [
    {
     "data": {
      "text/html": [
       "<div>\n",
       "<style scoped>\n",
       "    .dataframe tbody tr th:only-of-type {\n",
       "        vertical-align: middle;\n",
       "    }\n",
       "\n",
       "    .dataframe tbody tr th {\n",
       "        vertical-align: top;\n",
       "    }\n",
       "\n",
       "    .dataframe thead th {\n",
       "        text-align: right;\n",
       "    }\n",
       "</style>\n",
       "<table border=\"1\" class=\"dataframe\">\n",
       "  <thead>\n",
       "    <tr style=\"text-align: right;\">\n",
       "      <th></th>\n",
       "      <th>created_at</th>\n",
       "      <th>default_profile</th>\n",
       "      <th>default_profile_image</th>\n",
       "      <th>description</th>\n",
       "      <th>favourites_count</th>\n",
       "      <th>followers_count</th>\n",
       "      <th>friends_count</th>\n",
       "      <th>geo_enabled</th>\n",
       "      <th>lang</th>\n",
       "      <th>location</th>\n",
       "      <th>profile_background_image_url</th>\n",
       "      <th>profile_image_url</th>\n",
       "      <th>screen_name</th>\n",
       "      <th>statuses_count</th>\n",
       "      <th>verified</th>\n",
       "      <th>average_tweets_per_day</th>\n",
       "      <th>account_age_days</th>\n",
       "      <th>account_type</th>\n",
       "    </tr>\n",
       "  </thead>\n",
       "  <tbody>\n",
       "    <tr>\n",
       "      <th>0</th>\n",
       "      <td>2016-10-15 21:32:11</td>\n",
       "      <td>False</td>\n",
       "      <td>False</td>\n",
       "      <td>Blame @xaiax, Inspired by @MakingInvisible, us...</td>\n",
       "      <td>4</td>\n",
       "      <td>1589</td>\n",
       "      <td>4</td>\n",
       "      <td>False</td>\n",
       "      <td>en</td>\n",
       "      <td>unknown</td>\n",
       "      <td>http://abs.twimg.com/images/themes/theme1/bg.png</td>\n",
       "      <td>http://pbs.twimg.com/profile_images/7874121826...</td>\n",
       "      <td>best_in_dumbest</td>\n",
       "      <td>11041</td>\n",
       "      <td>False</td>\n",
       "      <td>7.870</td>\n",
       "      <td>1403</td>\n",
       "      <td>1</td>\n",
       "    </tr>\n",
       "    <tr>\n",
       "      <th>1</th>\n",
       "      <td>2016-11-09 05:01:30</td>\n",
       "      <td>False</td>\n",
       "      <td>False</td>\n",
       "      <td>Photographing the American West since 1980. I ...</td>\n",
       "      <td>536</td>\n",
       "      <td>860</td>\n",
       "      <td>880</td>\n",
       "      <td>False</td>\n",
       "      <td>en</td>\n",
       "      <td>Estados Unidos</td>\n",
       "      <td>http://abs.twimg.com/images/themes/theme1/bg.png</td>\n",
       "      <td>http://pbs.twimg.com/profile_images/8023296328...</td>\n",
       "      <td>CJRubinPhoto</td>\n",
       "      <td>252</td>\n",
       "      <td>False</td>\n",
       "      <td>0.183</td>\n",
       "      <td>1379</td>\n",
       "      <td>0</td>\n",
       "    </tr>\n",
       "  </tbody>\n",
       "</table>\n",
       "</div>"
      ],
      "text/plain": [
       "            created_at  default_profile  default_profile_image  \\\n",
       "0  2016-10-15 21:32:11            False                  False   \n",
       "1  2016-11-09 05:01:30            False                  False   \n",
       "\n",
       "                                         description  favourites_count  \\\n",
       "0  Blame @xaiax, Inspired by @MakingInvisible, us...                 4   \n",
       "1  Photographing the American West since 1980. I ...               536   \n",
       "\n",
       "   followers_count  friends_count  geo_enabled lang        location  \\\n",
       "0             1589              4        False   en         unknown   \n",
       "1              860            880        False   en  Estados Unidos   \n",
       "\n",
       "                       profile_background_image_url  \\\n",
       "0  http://abs.twimg.com/images/themes/theme1/bg.png   \n",
       "1  http://abs.twimg.com/images/themes/theme1/bg.png   \n",
       "\n",
       "                                   profile_image_url      screen_name  \\\n",
       "0  http://pbs.twimg.com/profile_images/7874121826...  best_in_dumbest   \n",
       "1  http://pbs.twimg.com/profile_images/8023296328...     CJRubinPhoto   \n",
       "\n",
       "   statuses_count  verified  average_tweets_per_day  account_age_days  \\\n",
       "0           11041     False                   7.870              1403   \n",
       "1             252     False                   0.183              1379   \n",
       "\n",
       "   account_type  \n",
       "0             1  \n",
       "1             0  "
      ]
     },
     "execution_count": 14,
     "metadata": {},
     "output_type": "execute_result"
    }
   ],
   "source": [
    "twitter_df.head(2)"
   ]
  },
  {
   "cell_type": "markdown",
   "metadata": {},
   "source": [
    "## Created_at is a column which gives information on when and at what time the account was created, we will revisit to this particular column at later stage"
   ]
  },
  {
   "cell_type": "code",
   "execution_count": 15,
   "metadata": {},
   "outputs": [
    {
     "data": {
      "text/plain": [
       "False    21718\n",
       "True     15720\n",
       "Name: default_profile, dtype: int64"
      ]
     },
     "execution_count": 15,
     "metadata": {},
     "output_type": "execute_result"
    }
   ],
   "source": [
    "twitter_df['default_profile'].value_counts()"
   ]
  },
  {
   "cell_type": "code",
   "execution_count": 16,
   "metadata": {},
   "outputs": [
    {
     "data": {
      "text/plain": [
       "False    36880\n",
       "True       558\n",
       "Name: default_profile_image, dtype: int64"
      ]
     },
     "execution_count": 16,
     "metadata": {},
     "output_type": "execute_result"
    }
   ],
   "source": [
    "twitter_df['default_profile_image'].value_counts()"
   ]
  },
  {
   "cell_type": "code",
   "execution_count": 17,
   "metadata": {},
   "outputs": [
    {
     "data": {
      "text/plain": [
       "False    20361\n",
       "True     17077\n",
       "Name: geo_enabled, dtype: int64"
      ]
     },
     "execution_count": 17,
     "metadata": {},
     "output_type": "execute_result"
    }
   ],
   "source": [
    "twitter_df['geo_enabled'].value_counts()"
   ]
  },
  {
   "cell_type": "code",
   "execution_count": 18,
   "metadata": {},
   "outputs": [
    {
     "data": {
      "text/plain": [
       "False    29887\n",
       "True      7551\n",
       "Name: verified, dtype: int64"
      ]
     },
     "execution_count": 18,
     "metadata": {},
     "output_type": "execute_result"
    }
   ],
   "source": [
    "twitter_df['verified'].value_counts()"
   ]
  },
  {
   "cell_type": "code",
   "execution_count": 19,
   "metadata": {},
   "outputs": [
    {
     "data": {
      "text/html": [
       "<div>\n",
       "<style scoped>\n",
       "    .dataframe tbody tr th:only-of-type {\n",
       "        vertical-align: middle;\n",
       "    }\n",
       "\n",
       "    .dataframe tbody tr th {\n",
       "        vertical-align: top;\n",
       "    }\n",
       "\n",
       "    .dataframe thead th {\n",
       "        text-align: right;\n",
       "    }\n",
       "</style>\n",
       "<table border=\"1\" class=\"dataframe\">\n",
       "  <thead>\n",
       "    <tr style=\"text-align: right;\">\n",
       "      <th></th>\n",
       "      <th>default_profile</th>\n",
       "      <th>default_profile_image</th>\n",
       "      <th>geo_enabled</th>\n",
       "      <th>verified</th>\n",
       "      <th>account_type</th>\n",
       "    </tr>\n",
       "  </thead>\n",
       "  <tbody>\n",
       "    <tr>\n",
       "      <th>default_profile</th>\n",
       "      <td>1.000000</td>\n",
       "      <td>0.115994</td>\n",
       "      <td>-0.273882</td>\n",
       "      <td>-0.264979</td>\n",
       "      <td>0.290070</td>\n",
       "    </tr>\n",
       "    <tr>\n",
       "      <th>default_profile_image</th>\n",
       "      <td>0.115994</td>\n",
       "      <td>1.000000</td>\n",
       "      <td>-0.095831</td>\n",
       "      <td>-0.058531</td>\n",
       "      <td>0.092601</td>\n",
       "    </tr>\n",
       "    <tr>\n",
       "      <th>geo_enabled</th>\n",
       "      <td>-0.273882</td>\n",
       "      <td>-0.095831</td>\n",
       "      <td>1.000000</td>\n",
       "      <td>0.196153</td>\n",
       "      <td>-0.336145</td>\n",
       "    </tr>\n",
       "    <tr>\n",
       "      <th>verified</th>\n",
       "      <td>-0.264979</td>\n",
       "      <td>-0.058531</td>\n",
       "      <td>0.196153</td>\n",
       "      <td>1.000000</td>\n",
       "      <td>-0.309593</td>\n",
       "    </tr>\n",
       "    <tr>\n",
       "      <th>account_type</th>\n",
       "      <td>0.290070</td>\n",
       "      <td>0.092601</td>\n",
       "      <td>-0.336145</td>\n",
       "      <td>-0.309593</td>\n",
       "      <td>1.000000</td>\n",
       "    </tr>\n",
       "  </tbody>\n",
       "</table>\n",
       "</div>"
      ],
      "text/plain": [
       "                       default_profile  default_profile_image  geo_enabled  \\\n",
       "default_profile               1.000000               0.115994    -0.273882   \n",
       "default_profile_image         0.115994               1.000000    -0.095831   \n",
       "geo_enabled                  -0.273882              -0.095831     1.000000   \n",
       "verified                     -0.264979              -0.058531     0.196153   \n",
       "account_type                  0.290070               0.092601    -0.336145   \n",
       "\n",
       "                       verified  account_type  \n",
       "default_profile       -0.264979      0.290070  \n",
       "default_profile_image -0.058531      0.092601  \n",
       "geo_enabled            0.196153     -0.336145  \n",
       "verified               1.000000     -0.309593  \n",
       "account_type          -0.309593      1.000000  "
      ]
     },
     "execution_count": 19,
     "metadata": {},
     "output_type": "execute_result"
    }
   ],
   "source": [
    "twitter_df[['default_profile','default_profile_image', 'geo_enabled', 'verified', 'account_type']].corr()"
   ]
  },
  {
   "cell_type": "markdown",
   "metadata": {},
   "source": [
    "## default_profile_image has least or no correlation with account_type, so we will remove this particular column from our dataset"
   ]
  },
  {
   "cell_type": "code",
   "execution_count": 20,
   "metadata": {},
   "outputs": [],
   "source": [
    "twitter_df.drop(['default_profile_image'], axis = 1, inplace = True)"
   ]
  },
  {
   "cell_type": "code",
   "execution_count": 21,
   "metadata": {},
   "outputs": [
    {
     "data": {
      "text/html": [
       "<div>\n",
       "<style scoped>\n",
       "    .dataframe tbody tr th:only-of-type {\n",
       "        vertical-align: middle;\n",
       "    }\n",
       "\n",
       "    .dataframe tbody tr th {\n",
       "        vertical-align: top;\n",
       "    }\n",
       "\n",
       "    .dataframe thead th {\n",
       "        text-align: right;\n",
       "    }\n",
       "</style>\n",
       "<table border=\"1\" class=\"dataframe\">\n",
       "  <thead>\n",
       "    <tr style=\"text-align: right;\">\n",
       "      <th></th>\n",
       "      <th>created_at</th>\n",
       "      <th>default_profile</th>\n",
       "      <th>description</th>\n",
       "      <th>favourites_count</th>\n",
       "      <th>followers_count</th>\n",
       "      <th>friends_count</th>\n",
       "      <th>geo_enabled</th>\n",
       "      <th>lang</th>\n",
       "      <th>location</th>\n",
       "      <th>profile_background_image_url</th>\n",
       "      <th>profile_image_url</th>\n",
       "      <th>screen_name</th>\n",
       "      <th>statuses_count</th>\n",
       "      <th>verified</th>\n",
       "      <th>average_tweets_per_day</th>\n",
       "      <th>account_age_days</th>\n",
       "      <th>account_type</th>\n",
       "    </tr>\n",
       "  </thead>\n",
       "  <tbody>\n",
       "    <tr>\n",
       "      <th>0</th>\n",
       "      <td>2016-10-15 21:32:11</td>\n",
       "      <td>False</td>\n",
       "      <td>Blame @xaiax, Inspired by @MakingInvisible, us...</td>\n",
       "      <td>4</td>\n",
       "      <td>1589</td>\n",
       "      <td>4</td>\n",
       "      <td>False</td>\n",
       "      <td>en</td>\n",
       "      <td>unknown</td>\n",
       "      <td>http://abs.twimg.com/images/themes/theme1/bg.png</td>\n",
       "      <td>http://pbs.twimg.com/profile_images/7874121826...</td>\n",
       "      <td>best_in_dumbest</td>\n",
       "      <td>11041</td>\n",
       "      <td>False</td>\n",
       "      <td>7.870</td>\n",
       "      <td>1403</td>\n",
       "      <td>1</td>\n",
       "    </tr>\n",
       "    <tr>\n",
       "      <th>1</th>\n",
       "      <td>2016-11-09 05:01:30</td>\n",
       "      <td>False</td>\n",
       "      <td>Photographing the American West since 1980. I ...</td>\n",
       "      <td>536</td>\n",
       "      <td>860</td>\n",
       "      <td>880</td>\n",
       "      <td>False</td>\n",
       "      <td>en</td>\n",
       "      <td>Estados Unidos</td>\n",
       "      <td>http://abs.twimg.com/images/themes/theme1/bg.png</td>\n",
       "      <td>http://pbs.twimg.com/profile_images/8023296328...</td>\n",
       "      <td>CJRubinPhoto</td>\n",
       "      <td>252</td>\n",
       "      <td>False</td>\n",
       "      <td>0.183</td>\n",
       "      <td>1379</td>\n",
       "      <td>0</td>\n",
       "    </tr>\n",
       "  </tbody>\n",
       "</table>\n",
       "</div>"
      ],
      "text/plain": [
       "            created_at  default_profile  \\\n",
       "0  2016-10-15 21:32:11            False   \n",
       "1  2016-11-09 05:01:30            False   \n",
       "\n",
       "                                         description  favourites_count  \\\n",
       "0  Blame @xaiax, Inspired by @MakingInvisible, us...                 4   \n",
       "1  Photographing the American West since 1980. I ...               536   \n",
       "\n",
       "   followers_count  friends_count  geo_enabled lang        location  \\\n",
       "0             1589              4        False   en         unknown   \n",
       "1              860            880        False   en  Estados Unidos   \n",
       "\n",
       "                       profile_background_image_url  \\\n",
       "0  http://abs.twimg.com/images/themes/theme1/bg.png   \n",
       "1  http://abs.twimg.com/images/themes/theme1/bg.png   \n",
       "\n",
       "                                   profile_image_url      screen_name  \\\n",
       "0  http://pbs.twimg.com/profile_images/7874121826...  best_in_dumbest   \n",
       "1  http://pbs.twimg.com/profile_images/8023296328...     CJRubinPhoto   \n",
       "\n",
       "   statuses_count  verified  average_tweets_per_day  account_age_days  \\\n",
       "0           11041     False                   7.870              1403   \n",
       "1             252     False                   0.183              1379   \n",
       "\n",
       "   account_type  \n",
       "0             1  \n",
       "1             0  "
      ]
     },
     "execution_count": 21,
     "metadata": {},
     "output_type": "execute_result"
    }
   ],
   "source": [
    "twitter_df.head(2)"
   ]
  },
  {
   "cell_type": "code",
   "execution_count": 22,
   "metadata": {},
   "outputs": [
    {
     "name": "stderr",
     "output_type": "stream",
     "text": [
      "c:\\python3.7.8\\lib\\site-packages\\seaborn\\_decorators.py:43: FutureWarning: Pass the following variable as a keyword arg: x. From version 0.12, the only valid positional argument will be `data`, and passing other arguments without an explicit keyword will result in an error or misinterpretation.\n",
      "  FutureWarning\n"
     ]
    },
    {
     "data": {
      "text/plain": [
       "<AxesSubplot:xlabel='account_type', ylabel='count'>"
      ]
     },
     "execution_count": 22,
     "metadata": {},
     "output_type": "execute_result"
    },
    {
     "data": {
      "image/png": "[encoded data removed]",
      "text/plain": [
       "<Figure size 432x288 with 1 Axes>"
      ]
     },
     "metadata": {
      "needs_background": "light"
     },
     "output_type": "display_data"
    }
   ],
   "source": [
    "sns.countplot(twitter_df['account_type'], hue = twitter_df['default_profile'])"
   ]
  },
  {
   "cell_type": "code",
   "execution_count": 23,
   "metadata": {},
   "outputs": [
    {
     "name": "stderr",
     "output_type": "stream",
     "text": [
      "c:\\python3.7.8\\lib\\site-packages\\seaborn\\_decorators.py:43: FutureWarning: Pass the following variable as a keyword arg: x. From version 0.12, the only valid positional argument will be `data`, and passing other arguments without an explicit keyword will result in an error or misinterpretation.\n",
      "  FutureWarning\n"
     ]
    },
    {
     "data": {
      "text/plain": [
       "<AxesSubplot:xlabel='account_type', ylabel='count'>"
      ]
     },
     "execution_count": 23,
     "metadata": {},
     "output_type": "execute_result"
    },
    {
     "data": {
      "image/png": "[encoded data removed]",
      "text/plain": [
       "<Figure size 432x288 with 1 Axes>"
      ]
     },
     "metadata": {
      "needs_background": "light"
     },
     "output_type": "display_data"
    }
   ],
   "source": [
    "sns.countplot(twitter_df['account_type'], hue = twitter_df['geo_enabled'])"
   ]
  },
  {
   "cell_type": "code",
   "execution_count": 24,
   "metadata": {},
   "outputs": [
    {
     "name": "stderr",
     "output_type": "stream",
     "text": [
      "c:\\python3.7.8\\lib\\site-packages\\seaborn\\_decorators.py:43: FutureWarning: Pass the following variable as a keyword arg: x. From version 0.12, the only valid positional argument will be `data`, and passing other arguments without an explicit keyword will result in an error or misinterpretation.\n",
      "  FutureWarning\n"
     ]
    },
    {
     "data": {
      "text/plain": [
       "<AxesSubplot:xlabel='account_type', ylabel='count'>"
      ]
     },
     "execution_count": 24,
     "metadata": {},
     "output_type": "execute_result"
    },
    {
     "data": {
      "image/png": "[encoded data removed]",
      "text/plain": [
       "<Figure size 432x288 with 1 Axes>"
      ]
     },
     "metadata": {
      "needs_background": "light"
     },
     "output_type": "display_data"
    }
   ],
   "source": [
    "sns.countplot(twitter_df['account_type'], hue = twitter_df['verified'])"
   ]
  },
  {
   "cell_type": "code",
   "execution_count": 26,
   "metadata": {},
   "outputs": [
    {
     "data": {
      "text/plain": [
       "37438"
      ]
     },
     "execution_count": 26,
     "metadata": {},
     "output_type": "execute_result"
    }
   ],
   "source": [
    "twitter_df['screen_name'].nunique()"
   ]
  },
  {
   "cell_type": "code",
   "execution_count": 27,
   "metadata": {},
   "outputs": [
    {
     "data": {
      "text/plain": [
       "(37438, 17)"
      ]
     },
     "execution_count": 27,
     "metadata": {},
     "output_type": "execute_result"
    }
   ],
   "source": [
    "twitter_df.shape"
   ]
  },
  {
   "cell_type": "code",
   "execution_count": 28,
   "metadata": {},
   "outputs": [],
   "source": [
    "twitter_df.drop('screen_name', axis = 1, inplace = True)"
   ]
  },
  {
   "cell_type": "code",
   "execution_count": 29,
   "metadata": {},
   "outputs": [
    {
     "data": {
      "text/html": [
       "<div>\n",
       "<style scoped>\n",
       "    .dataframe tbody tr th:only-of-type {\n",
       "        vertical-align: middle;\n",
       "    }\n",
       "\n",
       "    .dataframe tbody tr th {\n",
       "        vertical-align: top;\n",
       "    }\n",
       "\n",
       "    .dataframe thead th {\n",
       "        text-align: right;\n",
       "    }\n",
       "</style>\n",
       "<table border=\"1\" class=\"dataframe\">\n",
       "  <thead>\n",
       "    <tr style=\"text-align: right;\">\n",
       "      <th></th>\n",
       "      <th>created_at</th>\n",
       "      <th>default_profile</th>\n",
       "      <th>description</th>\n",
       "      <th>favourites_count</th>\n",
       "      <th>followers_count</th>\n",
       "      <th>friends_count</th>\n",
       "      <th>geo_enabled</th>\n",
       "      <th>lang</th>\n",
       "      <th>location</th>\n",
       "      <th>profile_background_image_url</th>\n",
       "      <th>profile_image_url</th>\n",
       "      <th>statuses_count</th>\n",
       "      <th>verified</th>\n",
       "      <th>average_tweets_per_day</th>\n",
       "      <th>account_age_days</th>\n",
       "      <th>account_type</th>\n",
       "    </tr>\n",
       "  </thead>\n",
       "  <tbody>\n",
       "    <tr>\n",
       "      <th>0</th>\n",
       "      <td>2016-10-15 21:32:11</td>\n",
       "      <td>False</td>\n",
       "      <td>Blame @xaiax, Inspired by @MakingInvisible, us...</td>\n",
       "      <td>4</td>\n",
       "      <td>1589</td>\n",
       "      <td>4</td>\n",
       "      <td>False</td>\n",
       "      <td>en</td>\n",
       "      <td>unknown</td>\n",
       "      <td>http://abs.twimg.com/images/themes/theme1/bg.png</td>\n",
       "      <td>http://pbs.twimg.com/profile_images/7874121826...</td>\n",
       "      <td>11041</td>\n",
       "      <td>False</td>\n",
       "      <td>7.870</td>\n",
       "      <td>1403</td>\n",
       "      <td>1</td>\n",
       "    </tr>\n",
       "    <tr>\n",
       "      <th>1</th>\n",
       "      <td>2016-11-09 05:01:30</td>\n",
       "      <td>False</td>\n",
       "      <td>Photographing the American West since 1980. I ...</td>\n",
       "      <td>536</td>\n",
       "      <td>860</td>\n",
       "      <td>880</td>\n",
       "      <td>False</td>\n",
       "      <td>en</td>\n",
       "      <td>Estados Unidos</td>\n",
       "      <td>http://abs.twimg.com/images/themes/theme1/bg.png</td>\n",
       "      <td>http://pbs.twimg.com/profile_images/8023296328...</td>\n",
       "      <td>252</td>\n",
       "      <td>False</td>\n",
       "      <td>0.183</td>\n",
       "      <td>1379</td>\n",
       "      <td>0</td>\n",
       "    </tr>\n",
       "  </tbody>\n",
       "</table>\n",
       "</div>"
      ],
      "text/plain": [
       "            created_at  default_profile  \\\n",
       "0  2016-10-15 21:32:11            False   \n",
       "1  2016-11-09 05:01:30            False   \n",
       "\n",
       "                                         description  favourites_count  \\\n",
       "0  Blame @xaiax, Inspired by @MakingInvisible, us...                 4   \n",
       "1  Photographing the American West since 1980. I ...               536   \n",
       "\n",
       "   followers_count  friends_count  geo_enabled lang        location  \\\n",
       "0             1589              4        False   en         unknown   \n",
       "1              860            880        False   en  Estados Unidos   \n",
       "\n",
       "                       profile_background_image_url  \\\n",
       "0  http://abs.twimg.com/images/themes/theme1/bg.png   \n",
       "1  http://abs.twimg.com/images/themes/theme1/bg.png   \n",
       "\n",
       "                                   profile_image_url  statuses_count  \\\n",
       "0  http://pbs.twimg.com/profile_images/7874121826...           11041   \n",
       "1  http://pbs.twimg.com/profile_images/8023296328...             252   \n",
       "\n",
       "   verified  average_tweets_per_day  account_age_days  account_type  \n",
       "0     False                   7.870              1403             1  \n",
       "1     False                   0.183              1379             0  "
      ]
     },
     "execution_count": 29,
     "metadata": {},
     "output_type": "execute_result"
    }
   ],
   "source": [
    "twitter_df.head(2)"
   ]
  },
  {
   "cell_type": "markdown",
   "metadata": {},
   "source": [
    "# Let's check description column in detail"
   ]
  },
  {
   "cell_type": "code",
   "execution_count": 30,
   "metadata": {},
   "outputs": [],
   "source": [
    "bot_filt = (twitter_df['account_type'] == 1)\n",
    "human_filt = (twitter_df['account_type'] == 0)"
   ]
  },
  {
   "cell_type": "code",
   "execution_count": 32,
   "metadata": {},
   "outputs": [],
   "source": [
    "bot_bow = twitter_df.loc[bot_filt]['description'].str.strip().values\n",
    "human_bow = twitter_df.loc[human_filt]['description'].str.strip().values"
   ]
  },
  {
   "cell_type": "code",
   "execution_count": 35,
   "metadata": {},
   "outputs": [
    {
     "data": {
      "text/plain": [
       "7996"
      ]
     },
     "execution_count": 35,
     "metadata": {},
     "output_type": "execute_result"
    }
   ],
   "source": [
    "len(set(bot_bow))"
   ]
  },
  {
   "cell_type": "code",
   "execution_count": 36,
   "metadata": {},
   "outputs": [
    {
     "data": {
      "text/plain": [
       "21985"
      ]
     },
     "execution_count": 36,
     "metadata": {},
     "output_type": "execute_result"
    }
   ],
   "source": [
    "len(set(human_bow))"
   ]
  },
  {
   "cell_type": "code",
   "execution_count": 37,
   "metadata": {},
   "outputs": [
    {
     "data": {
      "text/plain": [
       "{'#BlackLivesMatter',\n",
       " '.',\n",
       " '...',\n",
       " '17',\n",
       " ':)',\n",
       " '?',\n",
       " 'Artist.',\n",
       " 'Blessed',\n",
       " 'Civil Engineer',\n",
       " 'Gamer',\n",
       " 'Hi',\n",
       " 'Hi.',\n",
       " 'Network Engineer',\n",
       " 'Project Manager',\n",
       " 'Rocket Ship Builder',\n",
       " 'Sup.',\n",
       " 'bye',\n",
       " 'good vibes only',\n",
       " 'happy',\n",
       " 'hi',\n",
       " 'idc',\n",
       " 'l',\n",
       " 'meow',\n",
       " 'n',\n",
       " nan,\n",
       " 'you already know.',\n",
       " '¯\\\\_(ツ)_/¯',\n",
       " '☕️',\n",
       " '☺',\n",
       " '♏',\n",
       " '♡',\n",
       " '🇲🇽',\n",
       " '👑',\n",
       " '💜💜',\n",
       " '🦋'}"
      ]
     },
     "execution_count": 37,
     "metadata": {},
     "output_type": "execute_result"
    }
   ],
   "source": [
    "set(bot_bow).intersection(set(human_bow))"
   ]
  },
  {
   "cell_type": "code",
   "execution_count": 38,
   "metadata": {},
   "outputs": [
    {
     "data": {
      "text/plain": [
       "35"
      ]
     },
     "execution_count": 38,
     "metadata": {},
     "output_type": "execute_result"
    }
   ],
   "source": [
    "len(set(bot_bow).intersection(set(human_bow)))"
   ]
  },
  {
   "cell_type": "markdown",
   "metadata": {},
   "source": [
    "# Description would be a useful feature in model training"
   ]
  },
  {
   "cell_type": "code",
   "execution_count": 39,
   "metadata": {},
   "outputs": [],
   "source": [
    "twitter_df['default_profile'] = twitter_df['default_profile'].map({True:1, False: 0})\n",
    "twitter_df['geo_enabled'] = twitter_df['geo_enabled'].map({True:1, False: 0})\n",
    "twitter_df['verified'] = twitter_df['geo_enabled'].map({True:1, False: 0})"
   ]
  },
  {
   "cell_type": "code",
   "execution_count": 40,
   "metadata": {},
   "outputs": [
    {
     "data": {
      "text/html": [
       "<div>\n",
       "<style scoped>\n",
       "    .dataframe tbody tr th:only-of-type {\n",
       "        vertical-align: middle;\n",
       "    }\n",
       "\n",
       "    .dataframe tbody tr th {\n",
       "        vertical-align: top;\n",
       "    }\n",
       "\n",
       "    .dataframe thead th {\n",
       "        text-align: right;\n",
       "    }\n",
       "</style>\n",
       "<table border=\"1\" class=\"dataframe\">\n",
       "  <thead>\n",
       "    <tr style=\"text-align: right;\">\n",
       "      <th></th>\n",
       "      <th>created_at</th>\n",
       "      <th>default_profile</th>\n",
       "      <th>description</th>\n",
       "      <th>favourites_count</th>\n",
       "      <th>followers_count</th>\n",
       "      <th>friends_count</th>\n",
       "      <th>geo_enabled</th>\n",
       "      <th>lang</th>\n",
       "      <th>location</th>\n",
       "      <th>profile_background_image_url</th>\n",
       "      <th>profile_image_url</th>\n",
       "      <th>statuses_count</th>\n",
       "      <th>verified</th>\n",
       "      <th>average_tweets_per_day</th>\n",
       "      <th>account_age_days</th>\n",
       "      <th>account_type</th>\n",
       "    </tr>\n",
       "  </thead>\n",
       "  <tbody>\n",
       "    <tr>\n",
       "      <th>0</th>\n",
       "      <td>2016-10-15 21:32:11</td>\n",
       "      <td>0</td>\n",
       "      <td>Blame @xaiax, Inspired by @MakingInvisible, us...</td>\n",
       "      <td>4</td>\n",
       "      <td>1589</td>\n",
       "      <td>4</td>\n",
       "      <td>0</td>\n",
       "      <td>en</td>\n",
       "      <td>unknown</td>\n",
       "      <td>http://abs.twimg.com/images/themes/theme1/bg.png</td>\n",
       "      <td>http://pbs.twimg.com/profile_images/7874121826...</td>\n",
       "      <td>11041</td>\n",
       "      <td>0</td>\n",
       "      <td>7.870</td>\n",
       "      <td>1403</td>\n",
       "      <td>1</td>\n",
       "    </tr>\n",
       "    <tr>\n",
       "      <th>1</th>\n",
       "      <td>2016-11-09 05:01:30</td>\n",
       "      <td>0</td>\n",
       "      <td>Photographing the American West since 1980. I ...</td>\n",
       "      <td>536</td>\n",
       "      <td>860</td>\n",
       "      <td>880</td>\n",
       "      <td>0</td>\n",
       "      <td>en</td>\n",
       "      <td>Estados Unidos</td>\n",
       "      <td>http://abs.twimg.com/images/themes/theme1/bg.png</td>\n",
       "      <td>http://pbs.twimg.com/profile_images/8023296328...</td>\n",
       "      <td>252</td>\n",
       "      <td>0</td>\n",
       "      <td>0.183</td>\n",
       "      <td>1379</td>\n",
       "      <td>0</td>\n",
       "    </tr>\n",
       "  </tbody>\n",
       "</table>\n",
       "</div>"
      ],
      "text/plain": [
       "            created_at  default_profile  \\\n",
       "0  2016-10-15 21:32:11                0   \n",
       "1  2016-11-09 05:01:30                0   \n",
       "\n",
       "                                         description  favourites_count  \\\n",
       "0  Blame @xaiax, Inspired by @MakingInvisible, us...                 4   \n",
       "1  Photographing the American West since 1980. I ...               536   \n",
       "\n",
       "   followers_count  friends_count  geo_enabled lang        location  \\\n",
       "0             1589              4            0   en         unknown   \n",
       "1              860            880            0   en  Estados Unidos   \n",
       "\n",
       "                       profile_background_image_url  \\\n",
       "0  http://abs.twimg.com/images/themes/theme1/bg.png   \n",
       "1  http://abs.twimg.com/images/themes/theme1/bg.png   \n",
       "\n",
       "                                   profile_image_url  statuses_count  \\\n",
       "0  http://pbs.twimg.com/profile_images/7874121826...           11041   \n",
       "1  http://pbs.twimg.com/profile_images/8023296328...             252   \n",
       "\n",
       "   verified  average_tweets_per_day  account_age_days  account_type  \n",
       "0         0                   7.870              1403             1  \n",
       "1         0                   0.183              1379             0  "
      ]
     },
     "execution_count": 40,
     "metadata": {},
     "output_type": "execute_result"
    }
   ],
   "source": [
    "twitter_df.head(2)"
   ]
  },
  {
   "cell_type": "code",
   "execution_count": 41,
   "metadata": {},
   "outputs": [],
   "source": [
    "twitter_df.drop(['profile_background_image_url', 'profile_image_url'], axis = 1, inplace = True)"
   ]
  },
  {
   "cell_type": "code",
   "execution_count": 42,
   "metadata": {},
   "outputs": [
    {
     "data": {
      "text/html": [
       "<div>\n",
       "<style scoped>\n",
       "    .dataframe tbody tr th:only-of-type {\n",
       "        vertical-align: middle;\n",
       "    }\n",
       "\n",
       "    .dataframe tbody tr th {\n",
       "        vertical-align: top;\n",
       "    }\n",
       "\n",
       "    .dataframe thead th {\n",
       "        text-align: right;\n",
       "    }\n",
       "</style>\n",
       "<table border=\"1\" class=\"dataframe\">\n",
       "  <thead>\n",
       "    <tr style=\"text-align: right;\">\n",
       "      <th></th>\n",
       "      <th>created_at</th>\n",
       "      <th>default_profile</th>\n",
       "      <th>description</th>\n",
       "      <th>favourites_count</th>\n",
       "      <th>followers_count</th>\n",
       "      <th>friends_count</th>\n",
       "      <th>geo_enabled</th>\n",
       "      <th>lang</th>\n",
       "      <th>location</th>\n",
       "      <th>statuses_count</th>\n",
       "      <th>verified</th>\n",
       "      <th>average_tweets_per_day</th>\n",
       "      <th>account_age_days</th>\n",
       "      <th>account_type</th>\n",
       "    </tr>\n",
       "  </thead>\n",
       "  <tbody>\n",
       "    <tr>\n",
       "      <th>0</th>\n",
       "      <td>2016-10-15 21:32:11</td>\n",
       "      <td>0</td>\n",
       "      <td>Blame @xaiax, Inspired by @MakingInvisible, us...</td>\n",
       "      <td>4</td>\n",
       "      <td>1589</td>\n",
       "      <td>4</td>\n",
       "      <td>0</td>\n",
       "      <td>en</td>\n",
       "      <td>unknown</td>\n",
       "      <td>11041</td>\n",
       "      <td>0</td>\n",
       "      <td>7.870</td>\n",
       "      <td>1403</td>\n",
       "      <td>1</td>\n",
       "    </tr>\n",
       "    <tr>\n",
       "      <th>1</th>\n",
       "      <td>2016-11-09 05:01:30</td>\n",
       "      <td>0</td>\n",
       "      <td>Photographing the American West since 1980. I ...</td>\n",
       "      <td>536</td>\n",
       "      <td>860</td>\n",
       "      <td>880</td>\n",
       "      <td>0</td>\n",
       "      <td>en</td>\n",
       "      <td>Estados Unidos</td>\n",
       "      <td>252</td>\n",
       "      <td>0</td>\n",
       "      <td>0.183</td>\n",
       "      <td>1379</td>\n",
       "      <td>0</td>\n",
       "    </tr>\n",
       "  </tbody>\n",
       "</table>\n",
       "</div>"
      ],
      "text/plain": [
       "            created_at  default_profile  \\\n",
       "0  2016-10-15 21:32:11                0   \n",
       "1  2016-11-09 05:01:30                0   \n",
       "\n",
       "                                         description  favourites_count  \\\n",
       "0  Blame @xaiax, Inspired by @MakingInvisible, us...                 4   \n",
       "1  Photographing the American West since 1980. I ...               536   \n",
       "\n",
       "   followers_count  friends_count  geo_enabled lang        location  \\\n",
       "0             1589              4            0   en         unknown   \n",
       "1              860            880            0   en  Estados Unidos   \n",
       "\n",
       "   statuses_count  verified  average_tweets_per_day  account_age_days  \\\n",
       "0           11041         0                   7.870              1403   \n",
       "1             252         0                   0.183              1379   \n",
       "\n",
       "   account_type  \n",
       "0             1  \n",
       "1             0  "
      ]
     },
     "execution_count": 42,
     "metadata": {},
     "output_type": "execute_result"
    }
   ],
   "source": [
    "twitter_df.head(2)"
   ]
  },
  {
   "cell_type": "code",
   "execution_count": 43,
   "metadata": {},
   "outputs": [
    {
     "name": "stdout",
     "output_type": "stream",
     "text": [
      "<class 'pandas.core.frame.DataFrame'>\n",
      "RangeIndex: 37438 entries, 0 to 37437\n",
      "Data columns (total 14 columns):\n",
      " #   Column                  Non-Null Count  Dtype  \n",
      "---  ------                  --------------  -----  \n",
      " 0   created_at              37438 non-null  object \n",
      " 1   default_profile         37438 non-null  int64  \n",
      " 2   description             30182 non-null  object \n",
      " 3   favourites_count        37438 non-null  int64  \n",
      " 4   followers_count         37438 non-null  int64  \n",
      " 5   friends_count           37438 non-null  int64  \n",
      " 6   geo_enabled             37438 non-null  int64  \n",
      " 7   lang                    29481 non-null  object \n",
      " 8   location                37435 non-null  object \n",
      " 9   statuses_count          37438 non-null  int64  \n",
      " 10  verified                37438 non-null  int64  \n",
      " 11  average_tweets_per_day  37438 non-null  float64\n",
      " 12  account_age_days        37438 non-null  int64  \n",
      " 13  account_type            37438 non-null  int64  \n",
      "dtypes: float64(1), int64(9), object(4)\n",
      "memory usage: 4.0+ MB\n"
     ]
    }
   ],
   "source": [
    "twitter_df.info()"
   ]
  },
  {
   "cell_type": "code",
   "execution_count": 44,
   "metadata": {},
   "outputs": [],
   "source": [
    "twitter_df['created_at'] = pd.to_datetime(twitter_df['created_at'])"
   ]
  },
  {
   "cell_type": "code",
   "execution_count": 45,
   "metadata": {},
   "outputs": [
    {
     "name": "stdout",
     "output_type": "stream",
     "text": [
      "<class 'pandas.core.frame.DataFrame'>\n",
      "RangeIndex: 37438 entries, 0 to 37437\n",
      "Data columns (total 14 columns):\n",
      " #   Column                  Non-Null Count  Dtype         \n",
      "---  ------                  --------------  -----         \n",
      " 0   created_at              37438 non-null  datetime64[ns]\n",
      " 1   default_profile         37438 non-null  int64         \n",
      " 2   description             30182 non-null  object        \n",
      " 3   favourites_count        37438 non-null  int64         \n",
      " 4   followers_count         37438 non-null  int64         \n",
      " 5   friends_count           37438 non-null  int64         \n",
      " 6   geo_enabled             37438 non-null  int64         \n",
      " 7   lang                    29481 non-null  object        \n",
      " 8   location                37435 non-null  object        \n",
      " 9   statuses_count          37438 non-null  int64         \n",
      " 10  verified                37438 non-null  int64         \n",
      " 11  average_tweets_per_day  37438 non-null  float64       \n",
      " 12  account_age_days        37438 non-null  int64         \n",
      " 13  account_type            37438 non-null  int64         \n",
      "dtypes: datetime64[ns](1), float64(1), int64(9), object(3)\n",
      "memory usage: 4.0+ MB\n"
     ]
    }
   ],
   "source": [
    "twitter_df.info()"
   ]
  },
  {
   "cell_type": "code",
   "execution_count": 46,
   "metadata": {},
   "outputs": [],
   "source": [
    "twitter_df['created_at'] = twitter_df['created_at'].dt.strftime('%H').astype(int)"
   ]
  },
  {
   "cell_type": "code",
   "execution_count": 47,
   "metadata": {},
   "outputs": [
    {
     "data": {
      "text/html": [
       "<div>\n",
       "<style scoped>\n",
       "    .dataframe tbody tr th:only-of-type {\n",
       "        vertical-align: middle;\n",
       "    }\n",
       "\n",
       "    .dataframe tbody tr th {\n",
       "        vertical-align: top;\n",
       "    }\n",
       "\n",
       "    .dataframe thead th {\n",
       "        text-align: right;\n",
       "    }\n",
       "</style>\n",
       "<table border=\"1\" class=\"dataframe\">\n",
       "  <thead>\n",
       "    <tr style=\"text-align: right;\">\n",
       "      <th></th>\n",
       "      <th>created_at</th>\n",
       "      <th>default_profile</th>\n",
       "      <th>description</th>\n",
       "      <th>favourites_count</th>\n",
       "      <th>followers_count</th>\n",
       "      <th>friends_count</th>\n",
       "      <th>geo_enabled</th>\n",
       "      <th>lang</th>\n",
       "      <th>location</th>\n",
       "      <th>statuses_count</th>\n",
       "      <th>verified</th>\n",
       "      <th>average_tweets_per_day</th>\n",
       "      <th>account_age_days</th>\n",
       "      <th>account_type</th>\n",
       "    </tr>\n",
       "  </thead>\n",
       "  <tbody>\n",
       "    <tr>\n",
       "      <th>0</th>\n",
       "      <td>21</td>\n",
       "      <td>0</td>\n",
       "      <td>Blame @xaiax, Inspired by @MakingInvisible, us...</td>\n",
       "      <td>4</td>\n",
       "      <td>1589</td>\n",
       "      <td>4</td>\n",
       "      <td>0</td>\n",
       "      <td>en</td>\n",
       "      <td>unknown</td>\n",
       "      <td>11041</td>\n",
       "      <td>0</td>\n",
       "      <td>7.870</td>\n",
       "      <td>1403</td>\n",
       "      <td>1</td>\n",
       "    </tr>\n",
       "    <tr>\n",
       "      <th>1</th>\n",
       "      <td>5</td>\n",
       "      <td>0</td>\n",
       "      <td>Photographing the American West since 1980. I ...</td>\n",
       "      <td>536</td>\n",
       "      <td>860</td>\n",
       "      <td>880</td>\n",
       "      <td>0</td>\n",
       "      <td>en</td>\n",
       "      <td>Estados Unidos</td>\n",
       "      <td>252</td>\n",
       "      <td>0</td>\n",
       "      <td>0.183</td>\n",
       "      <td>1379</td>\n",
       "      <td>0</td>\n",
       "    </tr>\n",
       "  </tbody>\n",
       "</table>\n",
       "</div>"
      ],
      "text/plain": [
       "   created_at  default_profile  \\\n",
       "0          21                0   \n",
       "1           5                0   \n",
       "\n",
       "                                         description  favourites_count  \\\n",
       "0  Blame @xaiax, Inspired by @MakingInvisible, us...                 4   \n",
       "1  Photographing the American West since 1980. I ...               536   \n",
       "\n",
       "   followers_count  friends_count  geo_enabled lang        location  \\\n",
       "0             1589              4            0   en         unknown   \n",
       "1              860            880            0   en  Estados Unidos   \n",
       "\n",
       "   statuses_count  verified  average_tweets_per_day  account_age_days  \\\n",
       "0           11041         0                   7.870              1403   \n",
       "1             252         0                   0.183              1379   \n",
       "\n",
       "   account_type  \n",
       "0             1  \n",
       "1             0  "
      ]
     },
     "execution_count": 47,
     "metadata": {},
     "output_type": "execute_result"
    }
   ],
   "source": [
    "twitter_df.head(2)"
   ]
  },
  {
   "cell_type": "markdown",
   "metadata": {},
   "source": [
    "## Dividing a day into 6 different time categories: Late night, early morning, morning, noon, evening and night"
   ]
  },
  {
   "cell_type": "code",
   "execution_count": 48,
   "metadata": {},
   "outputs": [],
   "source": [
    "twitter_df['period'] = (twitter_df['created_at'] % 24 + 4) // 4"
   ]
  },
  {
   "cell_type": "code",
   "execution_count": 49,
   "metadata": {},
   "outputs": [
    {
     "data": {
      "text/html": [
       "<div>\n",
       "<style scoped>\n",
       "    .dataframe tbody tr th:only-of-type {\n",
       "        vertical-align: middle;\n",
       "    }\n",
       "\n",
       "    .dataframe tbody tr th {\n",
       "        vertical-align: top;\n",
       "    }\n",
       "\n",
       "    .dataframe thead th {\n",
       "        text-align: right;\n",
       "    }\n",
       "</style>\n",
       "<table border=\"1\" class=\"dataframe\">\n",
       "  <thead>\n",
       "    <tr style=\"text-align: right;\">\n",
       "      <th></th>\n",
       "      <th>created_at</th>\n",
       "      <th>default_profile</th>\n",
       "      <th>description</th>\n",
       "      <th>favourites_count</th>\n",
       "      <th>followers_count</th>\n",
       "      <th>friends_count</th>\n",
       "      <th>geo_enabled</th>\n",
       "      <th>lang</th>\n",
       "      <th>location</th>\n",
       "      <th>statuses_count</th>\n",
       "      <th>verified</th>\n",
       "      <th>average_tweets_per_day</th>\n",
       "      <th>account_age_days</th>\n",
       "      <th>account_type</th>\n",
       "      <th>period</th>\n",
       "    </tr>\n",
       "  </thead>\n",
       "  <tbody>\n",
       "    <tr>\n",
       "      <th>0</th>\n",
       "      <td>21</td>\n",
       "      <td>0</td>\n",
       "      <td>Blame @xaiax, Inspired by @MakingInvisible, us...</td>\n",
       "      <td>4</td>\n",
       "      <td>1589</td>\n",
       "      <td>4</td>\n",
       "      <td>0</td>\n",
       "      <td>en</td>\n",
       "      <td>unknown</td>\n",
       "      <td>11041</td>\n",
       "      <td>0</td>\n",
       "      <td>7.870</td>\n",
       "      <td>1403</td>\n",
       "      <td>1</td>\n",
       "      <td>6</td>\n",
       "    </tr>\n",
       "    <tr>\n",
       "      <th>1</th>\n",
       "      <td>5</td>\n",
       "      <td>0</td>\n",
       "      <td>Photographing the American West since 1980. I ...</td>\n",
       "      <td>536</td>\n",
       "      <td>860</td>\n",
       "      <td>880</td>\n",
       "      <td>0</td>\n",
       "      <td>en</td>\n",
       "      <td>Estados Unidos</td>\n",
       "      <td>252</td>\n",
       "      <td>0</td>\n",
       "      <td>0.183</td>\n",
       "      <td>1379</td>\n",
       "      <td>0</td>\n",
       "      <td>2</td>\n",
       "    </tr>\n",
       "    <tr>\n",
       "      <th>2</th>\n",
       "      <td>5</td>\n",
       "      <td>0</td>\n",
       "      <td>Scruffy looking nerf herder and @twitch broadc...</td>\n",
       "      <td>3307</td>\n",
       "      <td>172</td>\n",
       "      <td>594</td>\n",
       "      <td>1</td>\n",
       "      <td>en</td>\n",
       "      <td>Los Angeles, CA</td>\n",
       "      <td>1001</td>\n",
       "      <td>1</td>\n",
       "      <td>0.864</td>\n",
       "      <td>1159</td>\n",
       "      <td>0</td>\n",
       "      <td>2</td>\n",
       "    </tr>\n",
       "  </tbody>\n",
       "</table>\n",
       "</div>"
      ],
      "text/plain": [
       "   created_at  default_profile  \\\n",
       "0          21                0   \n",
       "1           5                0   \n",
       "2           5                0   \n",
       "\n",
       "                                         description  favourites_count  \\\n",
       "0  Blame @xaiax, Inspired by @MakingInvisible, us...                 4   \n",
       "1  Photographing the American West since 1980. I ...               536   \n",
       "2  Scruffy looking nerf herder and @twitch broadc...              3307   \n",
       "\n",
       "   followers_count  friends_count  geo_enabled lang         location  \\\n",
       "0             1589              4            0   en          unknown   \n",
       "1              860            880            0   en   Estados Unidos   \n",
       "2              172            594            1   en  Los Angeles, CA   \n",
       "\n",
       "   statuses_count  verified  average_tweets_per_day  account_age_days  \\\n",
       "0           11041         0                   7.870              1403   \n",
       "1             252         0                   0.183              1379   \n",
       "2            1001         1                   0.864              1159   \n",
       "\n",
       "   account_type  period  \n",
       "0             1       6  \n",
       "1             0       2  \n",
       "2             0       2  "
      ]
     },
     "execution_count": 49,
     "metadata": {},
     "output_type": "execute_result"
    }
   ],
   "source": [
    "twitter_df.head(3)"
   ]
  },
  {
   "cell_type": "code",
   "execution_count": 50,
   "metadata": {},
   "outputs": [
    {
     "data": {
      "text/plain": [
       "6"
      ]
     },
     "execution_count": 50,
     "metadata": {},
     "output_type": "execute_result"
    }
   ],
   "source": [
    "twitter_df['period'].nunique()"
   ]
  },
  {
   "cell_type": "code",
   "execution_count": 51,
   "metadata": {},
   "outputs": [
    {
     "data": {
      "text/plain": [
       "5    8016\n",
       "6    7869\n",
       "1    6929\n",
       "4    5994\n",
       "2    4866\n",
       "3    3764\n",
       "Name: period, dtype: int64"
      ]
     },
     "execution_count": 51,
     "metadata": {},
     "output_type": "execute_result"
    }
   ],
   "source": [
    "twitter_df['period'].value_counts()"
   ]
  },
  {
   "cell_type": "code",
   "execution_count": 52,
   "metadata": {},
   "outputs": [],
   "source": [
    "twitter_df['period'].replace({1: 'Late Night',\n",
    "                              2: 'Early Morning',\n",
    "                              3: 'Morning',\n",
    "                              4: 'Noon',\n",
    "                              5: 'Evening',\n",
    "                              6: 'Night'\n",
    "                             }, inplace = True)"
   ]
  },
  {
   "cell_type": "code",
   "execution_count": 53,
   "metadata": {},
   "outputs": [
    {
     "data": {
      "text/html": [
       "<div>\n",
       "<style scoped>\n",
       "    .dataframe tbody tr th:only-of-type {\n",
       "        vertical-align: middle;\n",
       "    }\n",
       "\n",
       "    .dataframe tbody tr th {\n",
       "        vertical-align: top;\n",
       "    }\n",
       "\n",
       "    .dataframe thead th {\n",
       "        text-align: right;\n",
       "    }\n",
       "</style>\n",
       "<table border=\"1\" class=\"dataframe\">\n",
       "  <thead>\n",
       "    <tr style=\"text-align: right;\">\n",
       "      <th></th>\n",
       "      <th>created_at</th>\n",
       "      <th>default_profile</th>\n",
       "      <th>description</th>\n",
       "      <th>favourites_count</th>\n",
       "      <th>followers_count</th>\n",
       "      <th>friends_count</th>\n",
       "      <th>geo_enabled</th>\n",
       "      <th>lang</th>\n",
       "      <th>location</th>\n",
       "      <th>statuses_count</th>\n",
       "      <th>verified</th>\n",
       "      <th>average_tweets_per_day</th>\n",
       "      <th>account_age_days</th>\n",
       "      <th>account_type</th>\n",
       "      <th>period</th>\n",
       "    </tr>\n",
       "  </thead>\n",
       "  <tbody>\n",
       "    <tr>\n",
       "      <th>0</th>\n",
       "      <td>21</td>\n",
       "      <td>0</td>\n",
       "      <td>Blame @xaiax, Inspired by @MakingInvisible, us...</td>\n",
       "      <td>4</td>\n",
       "      <td>1589</td>\n",
       "      <td>4</td>\n",
       "      <td>0</td>\n",
       "      <td>en</td>\n",
       "      <td>unknown</td>\n",
       "      <td>11041</td>\n",
       "      <td>0</td>\n",
       "      <td>7.870</td>\n",
       "      <td>1403</td>\n",
       "      <td>1</td>\n",
       "      <td>Night</td>\n",
       "    </tr>\n",
       "    <tr>\n",
       "      <th>1</th>\n",
       "      <td>5</td>\n",
       "      <td>0</td>\n",
       "      <td>Photographing the American West since 1980. I ...</td>\n",
       "      <td>536</td>\n",
       "      <td>860</td>\n",
       "      <td>880</td>\n",
       "      <td>0</td>\n",
       "      <td>en</td>\n",
       "      <td>Estados Unidos</td>\n",
       "      <td>252</td>\n",
       "      <td>0</td>\n",
       "      <td>0.183</td>\n",
       "      <td>1379</td>\n",
       "      <td>0</td>\n",
       "      <td>Early Morning</td>\n",
       "    </tr>\n",
       "    <tr>\n",
       "      <th>2</th>\n",
       "      <td>5</td>\n",
       "      <td>0</td>\n",
       "      <td>Scruffy looking nerf herder and @twitch broadc...</td>\n",
       "      <td>3307</td>\n",
       "      <td>172</td>\n",
       "      <td>594</td>\n",
       "      <td>1</td>\n",
       "      <td>en</td>\n",
       "      <td>Los Angeles, CA</td>\n",
       "      <td>1001</td>\n",
       "      <td>1</td>\n",
       "      <td>0.864</td>\n",
       "      <td>1159</td>\n",
       "      <td>0</td>\n",
       "      <td>Early Morning</td>\n",
       "    </tr>\n",
       "  </tbody>\n",
       "</table>\n",
       "</div>"
      ],
      "text/plain": [
       "   created_at  default_profile  \\\n",
       "0          21                0   \n",
       "1           5                0   \n",
       "2           5                0   \n",
       "\n",
       "                                         description  favourites_count  \\\n",
       "0  Blame @xaiax, Inspired by @MakingInvisible, us...                 4   \n",
       "1  Photographing the American West since 1980. I ...               536   \n",
       "2  Scruffy looking nerf herder and @twitch broadc...              3307   \n",
       "\n",
       "   followers_count  friends_count  geo_enabled lang         location  \\\n",
       "0             1589              4            0   en          unknown   \n",
       "1              860            880            0   en   Estados Unidos   \n",
       "2              172            594            1   en  Los Angeles, CA   \n",
       "\n",
       "   statuses_count  verified  average_tweets_per_day  account_age_days  \\\n",
       "0           11041         0                   7.870              1403   \n",
       "1             252         0                   0.183              1379   \n",
       "2            1001         1                   0.864              1159   \n",
       "\n",
       "   account_type         period  \n",
       "0             1          Night  \n",
       "1             0  Early Morning  \n",
       "2             0  Early Morning  "
      ]
     },
     "execution_count": 53,
     "metadata": {},
     "output_type": "execute_result"
    }
   ],
   "source": [
    "twitter_df.head(3)"
   ]
  },
  {
   "cell_type": "code",
   "execution_count": 54,
   "metadata": {},
   "outputs": [
    {
     "name": "stderr",
     "output_type": "stream",
     "text": [
      "c:\\python3.7.8\\lib\\site-packages\\seaborn\\_decorators.py:43: FutureWarning: Pass the following variable as a keyword arg: x. From version 0.12, the only valid positional argument will be `data`, and passing other arguments without an explicit keyword will result in an error or misinterpretation.\n",
      "  FutureWarning\n"
     ]
    },
    {
     "data": {
      "text/plain": [
       "<AxesSubplot:xlabel='account_type', ylabel='count'>"
      ]
     },
     "execution_count": 54,
     "metadata": {},
     "output_type": "execute_result"
    },
    {
     "data": {
      "image/png": "[encoded data removed]",
      "text/plain": [
       "<Figure size 432x288 with 1 Axes>"
      ]
     },
     "metadata": {
      "needs_background": "light"
     },
     "output_type": "display_data"
    }
   ],
   "source": [
    "sns.countplot(twitter_df['account_type'], hue = twitter_df['period'])"
   ]
  },
  {
   "cell_type": "code",
   "execution_count": 55,
   "metadata": {},
   "outputs": [
    {
     "data": {
      "text/plain": [
       "period         account_type\n",
       "Early Morning  0               3065\n",
       "               1               1801\n",
       "Evening        0               5653\n",
       "               1               2363\n",
       "Late Night     0               4870\n",
       "               1               2059\n",
       "Morning        0               2085\n",
       "               1               1679\n",
       "Night          0               5570\n",
       "               1               2299\n",
       "Noon           0               3770\n",
       "               1               2224\n",
       "Name: account_type, dtype: int64"
      ]
     },
     "execution_count": 55,
     "metadata": {},
     "output_type": "execute_result"
    }
   ],
   "source": [
    "twitter_df.groupby('period')['account_type'].value_counts()"
   ]
  },
  {
   "cell_type": "code",
   "execution_count": 56,
   "metadata": {},
   "outputs": [],
   "source": [
    "twitter_df.drop(['period', 'created_at'], axis = 1, inplace = True)"
   ]
  },
  {
   "cell_type": "code",
   "execution_count": 57,
   "metadata": {},
   "outputs": [
    {
     "data": {
      "text/html": [
       "<div>\n",
       "<style scoped>\n",
       "    .dataframe tbody tr th:only-of-type {\n",
       "        vertical-align: middle;\n",
       "    }\n",
       "\n",
       "    .dataframe tbody tr th {\n",
       "        vertical-align: top;\n",
       "    }\n",
       "\n",
       "    .dataframe thead th {\n",
       "        text-align: right;\n",
       "    }\n",
       "</style>\n",
       "<table border=\"1\" class=\"dataframe\">\n",
       "  <thead>\n",
       "    <tr style=\"text-align: right;\">\n",
       "      <th></th>\n",
       "      <th>default_profile</th>\n",
       "      <th>description</th>\n",
       "      <th>favourites_count</th>\n",
       "      <th>followers_count</th>\n",
       "      <th>friends_count</th>\n",
       "      <th>geo_enabled</th>\n",
       "      <th>lang</th>\n",
       "      <th>location</th>\n",
       "      <th>statuses_count</th>\n",
       "      <th>verified</th>\n",
       "      <th>average_tweets_per_day</th>\n",
       "      <th>account_age_days</th>\n",
       "      <th>account_type</th>\n",
       "    </tr>\n",
       "  </thead>\n",
       "  <tbody>\n",
       "    <tr>\n",
       "      <th>0</th>\n",
       "      <td>0</td>\n",
       "      <td>Blame @xaiax, Inspired by @MakingInvisible, us...</td>\n",
       "      <td>4</td>\n",
       "      <td>1589</td>\n",
       "      <td>4</td>\n",
       "      <td>0</td>\n",
       "      <td>en</td>\n",
       "      <td>unknown</td>\n",
       "      <td>11041</td>\n",
       "      <td>0</td>\n",
       "      <td>7.870</td>\n",
       "      <td>1403</td>\n",
       "      <td>1</td>\n",
       "    </tr>\n",
       "    <tr>\n",
       "      <th>1</th>\n",
       "      <td>0</td>\n",
       "      <td>Photographing the American West since 1980. I ...</td>\n",
       "      <td>536</td>\n",
       "      <td>860</td>\n",
       "      <td>880</td>\n",
       "      <td>0</td>\n",
       "      <td>en</td>\n",
       "      <td>Estados Unidos</td>\n",
       "      <td>252</td>\n",
       "      <td>0</td>\n",
       "      <td>0.183</td>\n",
       "      <td>1379</td>\n",
       "      <td>0</td>\n",
       "    </tr>\n",
       "  </tbody>\n",
       "</table>\n",
       "</div>"
      ],
      "text/plain": [
       "   default_profile                                        description  \\\n",
       "0                0  Blame @xaiax, Inspired by @MakingInvisible, us...   \n",
       "1                0  Photographing the American West since 1980. I ...   \n",
       "\n",
       "   favourites_count  followers_count  friends_count  geo_enabled lang  \\\n",
       "0                 4             1589              4            0   en   \n",
       "1               536              860            880            0   en   \n",
       "\n",
       "         location  statuses_count  verified  average_tweets_per_day  \\\n",
       "0         unknown           11041         0                   7.870   \n",
       "1  Estados Unidos             252         0                   0.183   \n",
       "\n",
       "   account_age_days  account_type  \n",
       "0              1403             1  \n",
       "1              1379             0  "
      ]
     },
     "execution_count": 57,
     "metadata": {},
     "output_type": "execute_result"
    }
   ],
   "source": [
    "twitter_df.head(2)"
   ]
  },
  {
   "cell_type": "code",
   "execution_count": 58,
   "metadata": {},
   "outputs": [],
   "source": [
    "grouped_twitter_df = twitter_df.groupby('account_type')"
   ]
  },
  {
   "cell_type": "code",
   "execution_count": 59,
   "metadata": {},
   "outputs": [
    {
     "data": {
      "text/html": [
       "<div>\n",
       "<style scoped>\n",
       "    .dataframe tbody tr th:only-of-type {\n",
       "        vertical-align: middle;\n",
       "    }\n",
       "\n",
       "    .dataframe tbody tr th {\n",
       "        vertical-align: top;\n",
       "    }\n",
       "\n",
       "    .dataframe thead th {\n",
       "        text-align: right;\n",
       "    }\n",
       "</style>\n",
       "<table border=\"1\" class=\"dataframe\">\n",
       "  <thead>\n",
       "    <tr style=\"text-align: right;\">\n",
       "      <th></th>\n",
       "      <th>default_profile</th>\n",
       "      <th>favourites_count</th>\n",
       "      <th>followers_count</th>\n",
       "      <th>friends_count</th>\n",
       "      <th>geo_enabled</th>\n",
       "      <th>statuses_count</th>\n",
       "      <th>verified</th>\n",
       "      <th>average_tweets_per_day</th>\n",
       "      <th>account_age_days</th>\n",
       "      <th>account_type</th>\n",
       "    </tr>\n",
       "  </thead>\n",
       "  <tbody>\n",
       "    <tr>\n",
       "      <th>count</th>\n",
       "      <td>25013.000000</td>\n",
       "      <td>25013.000000</td>\n",
       "      <td>2.501300e+04</td>\n",
       "      <td>2.501300e+04</td>\n",
       "      <td>25013.000000</td>\n",
       "      <td>2.501300e+04</td>\n",
       "      <td>25013.000000</td>\n",
       "      <td>25013.000000</td>\n",
       "      <td>25013.000000</td>\n",
       "      <td>25013.0</td>\n",
       "    </tr>\n",
       "    <tr>\n",
       "      <th>mean</th>\n",
       "      <td>0.318994</td>\n",
       "      <td>16186.048455</td>\n",
       "      <td>5.177475e+05</td>\n",
       "      <td>4.207621e+03</td>\n",
       "      <td>0.574141</td>\n",
       "      <td>2.146526e+04</td>\n",
       "      <td>0.574141</td>\n",
       "      <td>6.712556</td>\n",
       "      <td>3173.561308</td>\n",
       "      <td>0.0</td>\n",
       "    </tr>\n",
       "    <tr>\n",
       "      <th>std</th>\n",
       "      <td>0.466096</td>\n",
       "      <td>37322.654404</td>\n",
       "      <td>2.916633e+06</td>\n",
       "      <td>4.764074e+04</td>\n",
       "      <td>0.494482</td>\n",
       "      <td>4.694461e+04</td>\n",
       "      <td>0.494482</td>\n",
       "      <td>14.585320</td>\n",
       "      <td>995.928741</td>\n",
       "      <td>0.0</td>\n",
       "    </tr>\n",
       "    <tr>\n",
       "      <th>min</th>\n",
       "      <td>0.000000</td>\n",
       "      <td>0.000000</td>\n",
       "      <td>0.000000e+00</td>\n",
       "      <td>0.000000e+00</td>\n",
       "      <td>0.000000</td>\n",
       "      <td>0.000000e+00</td>\n",
       "      <td>0.000000</td>\n",
       "      <td>0.000000</td>\n",
       "      <td>606.000000</td>\n",
       "      <td>0.0</td>\n",
       "    </tr>\n",
       "    <tr>\n",
       "      <th>25%</th>\n",
       "      <td>0.000000</td>\n",
       "      <td>649.000000</td>\n",
       "      <td>1.840000e+02</td>\n",
       "      <td>1.720000e+02</td>\n",
       "      <td>0.000000</td>\n",
       "      <td>2.093000e+03</td>\n",
       "      <td>0.000000</td>\n",
       "      <td>0.715000</td>\n",
       "      <td>2542.000000</td>\n",
       "      <td>0.0</td>\n",
       "    </tr>\n",
       "    <tr>\n",
       "      <th>50%</th>\n",
       "      <td>0.000000</td>\n",
       "      <td>3649.000000</td>\n",
       "      <td>1.046000e+03</td>\n",
       "      <td>4.740000e+02</td>\n",
       "      <td>1.000000</td>\n",
       "      <td>7.551000e+03</td>\n",
       "      <td>1.000000</td>\n",
       "      <td>2.410000</td>\n",
       "      <td>3395.000000</td>\n",
       "      <td>0.0</td>\n",
       "    </tr>\n",
       "    <tr>\n",
       "      <th>75%</th>\n",
       "      <td>1.000000</td>\n",
       "      <td>14955.000000</td>\n",
       "      <td>7.224600e+04</td>\n",
       "      <td>1.153000e+03</td>\n",
       "      <td>1.000000</td>\n",
       "      <td>2.238000e+04</td>\n",
       "      <td>1.000000</td>\n",
       "      <td>6.933000</td>\n",
       "      <td>4032.000000</td>\n",
       "      <td>0.0</td>\n",
       "    </tr>\n",
       "    <tr>\n",
       "      <th>max</th>\n",
       "      <td>1.000000</td>\n",
       "      <td>885123.000000</td>\n",
       "      <td>1.216415e+08</td>\n",
       "      <td>4.343060e+06</td>\n",
       "      <td>1.000000</td>\n",
       "      <td>2.129049e+06</td>\n",
       "      <td>1.000000</td>\n",
       "      <td>557.927000</td>\n",
       "      <td>5158.000000</td>\n",
       "      <td>0.0</td>\n",
       "    </tr>\n",
       "  </tbody>\n",
       "</table>\n",
       "</div>"
      ],
      "text/plain": [
       "       default_profile  favourites_count  followers_count  friends_count  \\\n",
       "count     25013.000000      25013.000000     2.501300e+04   2.501300e+04   \n",
       "mean          0.318994      16186.048455     5.177475e+05   4.207621e+03   \n",
       "std           0.466096      37322.654404     2.916633e+06   4.764074e+04   \n",
       "min           0.000000          0.000000     0.000000e+00   0.000000e+00   \n",
       "25%           0.000000        649.000000     1.840000e+02   1.720000e+02   \n",
       "50%           0.000000       3649.000000     1.046000e+03   4.740000e+02   \n",
       "75%           1.000000      14955.000000     7.224600e+04   1.153000e+03   \n",
       "max           1.000000     885123.000000     1.216415e+08   4.343060e+06   \n",
       "\n",
       "        geo_enabled  statuses_count      verified  average_tweets_per_day  \\\n",
       "count  25013.000000    2.501300e+04  25013.000000            25013.000000   \n",
       "mean       0.574141    2.146526e+04      0.574141                6.712556   \n",
       "std        0.494482    4.694461e+04      0.494482               14.585320   \n",
       "min        0.000000    0.000000e+00      0.000000                0.000000   \n",
       "25%        0.000000    2.093000e+03      0.000000                0.715000   \n",
       "50%        1.000000    7.551000e+03      1.000000                2.410000   \n",
       "75%        1.000000    2.238000e+04      1.000000                6.933000   \n",
       "max        1.000000    2.129049e+06      1.000000              557.927000   \n",
       "\n",
       "       account_age_days  account_type  \n",
       "count      25013.000000       25013.0  \n",
       "mean        3173.561308           0.0  \n",
       "std          995.928741           0.0  \n",
       "min          606.000000           0.0  \n",
       "25%         2542.000000           0.0  \n",
       "50%         3395.000000           0.0  \n",
       "75%         4032.000000           0.0  \n",
       "max         5158.000000           0.0  "
      ]
     },
     "execution_count": 59,
     "metadata": {},
     "output_type": "execute_result"
    }
   ],
   "source": [
    "grouped_twitter_df.get_group(0).describe()"
   ]
  },
  {
   "cell_type": "code",
   "execution_count": 60,
   "metadata": {},
   "outputs": [
    {
     "data": {
      "text/html": [
       "<div>\n",
       "<style scoped>\n",
       "    .dataframe tbody tr th:only-of-type {\n",
       "        vertical-align: middle;\n",
       "    }\n",
       "\n",
       "    .dataframe tbody tr th {\n",
       "        vertical-align: top;\n",
       "    }\n",
       "\n",
       "    .dataframe thead th {\n",
       "        text-align: right;\n",
       "    }\n",
       "</style>\n",
       "<table border=\"1\" class=\"dataframe\">\n",
       "  <thead>\n",
       "    <tr style=\"text-align: right;\">\n",
       "      <th></th>\n",
       "      <th>default_profile</th>\n",
       "      <th>favourites_count</th>\n",
       "      <th>followers_count</th>\n",
       "      <th>friends_count</th>\n",
       "      <th>geo_enabled</th>\n",
       "      <th>statuses_count</th>\n",
       "      <th>verified</th>\n",
       "      <th>average_tweets_per_day</th>\n",
       "      <th>account_age_days</th>\n",
       "      <th>account_type</th>\n",
       "    </tr>\n",
       "  </thead>\n",
       "  <tbody>\n",
       "    <tr>\n",
       "      <th>count</th>\n",
       "      <td>12425.000000</td>\n",
       "      <td>12425.000000</td>\n",
       "      <td>1.242500e+04</td>\n",
       "      <td>1.242500e+04</td>\n",
       "      <td>12425.000000</td>\n",
       "      <td>1.242500e+04</td>\n",
       "      <td>12425.000000</td>\n",
       "      <td>12425.000000</td>\n",
       "      <td>12425.000000</td>\n",
       "      <td>12425.0</td>\n",
       "    </tr>\n",
       "    <tr>\n",
       "      <th>mean</th>\n",
       "      <td>0.623018</td>\n",
       "      <td>4483.136740</td>\n",
       "      <td>7.350027e+04</td>\n",
       "      <td>4.925660e+03</td>\n",
       "      <td>0.218592</td>\n",
       "      <td>2.028449e+04</td>\n",
       "      <td>0.218592</td>\n",
       "      <td>7.252241</td>\n",
       "      <td>2717.274930</td>\n",
       "      <td>1.0</td>\n",
       "    </tr>\n",
       "    <tr>\n",
       "      <th>std</th>\n",
       "      <td>0.484650</td>\n",
       "      <td>23913.709073</td>\n",
       "      <td>1.066970e+06</td>\n",
       "      <td>5.317140e+04</td>\n",
       "      <td>0.413307</td>\n",
       "      <td>9.603377e+04</td>\n",
       "      <td>0.413307</td>\n",
       "      <td>37.310915</td>\n",
       "      <td>980.016502</td>\n",
       "      <td>0.0</td>\n",
       "    </tr>\n",
       "    <tr>\n",
       "      <th>min</th>\n",
       "      <td>0.000000</td>\n",
       "      <td>0.000000</td>\n",
       "      <td>0.000000e+00</td>\n",
       "      <td>0.000000e+00</td>\n",
       "      <td>0.000000</td>\n",
       "      <td>0.000000e+00</td>\n",
       "      <td>0.000000</td>\n",
       "      <td>0.000000</td>\n",
       "      <td>483.000000</td>\n",
       "      <td>1.0</td>\n",
       "    </tr>\n",
       "    <tr>\n",
       "      <th>25%</th>\n",
       "      <td>0.000000</td>\n",
       "      <td>140.000000</td>\n",
       "      <td>8.000000e+00</td>\n",
       "      <td>0.000000e+00</td>\n",
       "      <td>0.000000</td>\n",
       "      <td>4.050000e+02</td>\n",
       "      <td>0.000000</td>\n",
       "      <td>0.222000</td>\n",
       "      <td>1900.000000</td>\n",
       "      <td>1.0</td>\n",
       "    </tr>\n",
       "    <tr>\n",
       "      <th>50%</th>\n",
       "      <td>1.000000</td>\n",
       "      <td>1131.000000</td>\n",
       "      <td>2.500000e+01</td>\n",
       "      <td>3.100000e+01</td>\n",
       "      <td>0.000000</td>\n",
       "      <td>2.178000e+03</td>\n",
       "      <td>0.000000</td>\n",
       "      <td>0.817000</td>\n",
       "      <td>2882.000000</td>\n",
       "      <td>1.0</td>\n",
       "    </tr>\n",
       "    <tr>\n",
       "      <th>75%</th>\n",
       "      <td>1.000000</td>\n",
       "      <td>2231.000000</td>\n",
       "      <td>1.930000e+02</td>\n",
       "      <td>2.470000e+02</td>\n",
       "      <td>0.000000</td>\n",
       "      <td>4.481000e+03</td>\n",
       "      <td>0.000000</td>\n",
       "      <td>1.949000</td>\n",
       "      <td>3467.000000</td>\n",
       "      <td>1.0</td>\n",
       "    </tr>\n",
       "    <tr>\n",
       "      <th>max</th>\n",
       "      <td>1.000000</td>\n",
       "      <td>839929.000000</td>\n",
       "      <td>4.955794e+07</td>\n",
       "      <td>2.169597e+06</td>\n",
       "      <td>1.000000</td>\n",
       "      <td>2.771910e+06</td>\n",
       "      <td>1.000000</td>\n",
       "      <td>1269.055000</td>\n",
       "      <td>5011.000000</td>\n",
       "      <td>1.0</td>\n",
       "    </tr>\n",
       "  </tbody>\n",
       "</table>\n",
       "</div>"
      ],
      "text/plain": [
       "       default_profile  favourites_count  followers_count  friends_count  \\\n",
       "count     12425.000000      12425.000000     1.242500e+04   1.242500e+04   \n",
       "mean          0.623018       4483.136740     7.350027e+04   4.925660e+03   \n",
       "std           0.484650      23913.709073     1.066970e+06   5.317140e+04   \n",
       "min           0.000000          0.000000     0.000000e+00   0.000000e+00   \n",
       "25%           0.000000        140.000000     8.000000e+00   0.000000e+00   \n",
       "50%           1.000000       1131.000000     2.500000e+01   3.100000e+01   \n",
       "75%           1.000000       2231.000000     1.930000e+02   2.470000e+02   \n",
       "max           1.000000     839929.000000     4.955794e+07   2.169597e+06   \n",
       "\n",
       "        geo_enabled  statuses_count      verified  average_tweets_per_day  \\\n",
       "count  12425.000000    1.242500e+04  12425.000000            12425.000000   \n",
       "mean       0.218592    2.028449e+04      0.218592                7.252241   \n",
       "std        0.413307    9.603377e+04      0.413307               37.310915   \n",
       "min        0.000000    0.000000e+00      0.000000                0.000000   \n",
       "25%        0.000000    4.050000e+02      0.000000                0.222000   \n",
       "50%        0.000000    2.178000e+03      0.000000                0.817000   \n",
       "75%        0.000000    4.481000e+03      0.000000                1.949000   \n",
       "max        1.000000    2.771910e+06      1.000000             1269.055000   \n",
       "\n",
       "       account_age_days  account_type  \n",
       "count      12425.000000       12425.0  \n",
       "mean        2717.274930           1.0  \n",
       "std          980.016502           0.0  \n",
       "min          483.000000           1.0  \n",
       "25%         1900.000000           1.0  \n",
       "50%         2882.000000           1.0  \n",
       "75%         3467.000000           1.0  \n",
       "max         5011.000000           1.0  "
      ]
     },
     "execution_count": 60,
     "metadata": {},
     "output_type": "execute_result"
    }
   ],
   "source": [
    "grouped_twitter_df.get_group(1).describe()"
   ]
  },
  {
   "cell_type": "code",
   "execution_count": 61,
   "metadata": {},
   "outputs": [],
   "source": [
    "twitter_df.drop('description', axis = 1, inplace = True)"
   ]
  },
  {
   "cell_type": "code",
   "execution_count": 62,
   "metadata": {},
   "outputs": [
    {
     "data": {
      "text/plain": [
       "48"
      ]
     },
     "execution_count": 62,
     "metadata": {},
     "output_type": "execute_result"
    }
   ],
   "source": [
    "twitter_df['lang'].nunique()"
   ]
  },
  {
   "cell_type": "code",
   "execution_count": 63,
   "metadata": {
    "scrolled": true
   },
   "outputs": [
    {
     "data": {
      "text/plain": [
       "en       21450\n",
       "es        1213\n",
       "pt         704\n",
       "it         637\n",
       "ar         594\n",
       "de         536\n",
       "ja         378\n",
       "fr         375\n",
       "af         333\n",
       "id         313\n",
       "ru         250\n",
       "tr         220\n",
       "ca         198\n",
       "tl         192\n",
       "sw         182\n",
       "da         174\n",
       "no         172\n",
       "nl         165\n",
       "ro         148\n",
       "cy         143\n",
       "sv         126\n",
       "so         125\n",
       "ko         115\n",
       "et          95\n",
       "zh-cn       91\n",
       "fi          72\n",
       "pl          62\n",
       "vi          55\n",
       "hr          50\n",
       "sl          43\n",
       "hu          35\n",
       "th          31\n",
       "sk          31\n",
       "lt          28\n",
       "sq          23\n",
       "bg          20\n",
       "el          18\n",
       "mk          16\n",
       "uk          13\n",
       "fa          12\n",
       "cs          12\n",
       "ur           9\n",
       "hi           8\n",
       "lv           6\n",
       "zh-tw        3\n",
       "he           2\n",
       "ne           2\n",
       "pa           1\n",
       "Name: lang, dtype: int64"
      ]
     },
     "execution_count": 63,
     "metadata": {},
     "output_type": "execute_result"
    }
   ],
   "source": [
    "twitter_df['lang'].value_counts()"
   ]
  },
  {
   "cell_type": "code",
   "execution_count": 64,
   "metadata": {},
   "outputs": [
    {
     "data": {
      "text/plain": [
       "12050"
      ]
     },
     "execution_count": 64,
     "metadata": {},
     "output_type": "execute_result"
    }
   ],
   "source": [
    "twitter_df['location'].nunique()"
   ]
  },
  {
   "cell_type": "code",
   "execution_count": 65,
   "metadata": {},
   "outputs": [],
   "source": [
    "twitter_df.drop(['lang', 'location'], axis = 1, inplace = True)"
   ]
  },
  {
   "cell_type": "code",
   "execution_count": 66,
   "metadata": {},
   "outputs": [
    {
     "data": {
      "text/html": [
       "<div>\n",
       "<style scoped>\n",
       "    .dataframe tbody tr th:only-of-type {\n",
       "        vertical-align: middle;\n",
       "    }\n",
       "\n",
       "    .dataframe tbody tr th {\n",
       "        vertical-align: top;\n",
       "    }\n",
       "\n",
       "    .dataframe thead th {\n",
       "        text-align: right;\n",
       "    }\n",
       "</style>\n",
       "<table border=\"1\" class=\"dataframe\">\n",
       "  <thead>\n",
       "    <tr style=\"text-align: right;\">\n",
       "      <th></th>\n",
       "      <th>default_profile</th>\n",
       "      <th>favourites_count</th>\n",
       "      <th>followers_count</th>\n",
       "      <th>friends_count</th>\n",
       "      <th>geo_enabled</th>\n",
       "      <th>statuses_count</th>\n",
       "      <th>verified</th>\n",
       "      <th>average_tweets_per_day</th>\n",
       "      <th>account_age_days</th>\n",
       "      <th>account_type</th>\n",
       "    </tr>\n",
       "  </thead>\n",
       "  <tbody>\n",
       "    <tr>\n",
       "      <th>0</th>\n",
       "      <td>0</td>\n",
       "      <td>4</td>\n",
       "      <td>1589</td>\n",
       "      <td>4</td>\n",
       "      <td>0</td>\n",
       "      <td>11041</td>\n",
       "      <td>0</td>\n",
       "      <td>7.870</td>\n",
       "      <td>1403</td>\n",
       "      <td>1</td>\n",
       "    </tr>\n",
       "    <tr>\n",
       "      <th>1</th>\n",
       "      <td>0</td>\n",
       "      <td>536</td>\n",
       "      <td>860</td>\n",
       "      <td>880</td>\n",
       "      <td>0</td>\n",
       "      <td>252</td>\n",
       "      <td>0</td>\n",
       "      <td>0.183</td>\n",
       "      <td>1379</td>\n",
       "      <td>0</td>\n",
       "    </tr>\n",
       "    <tr>\n",
       "      <th>2</th>\n",
       "      <td>0</td>\n",
       "      <td>3307</td>\n",
       "      <td>172</td>\n",
       "      <td>594</td>\n",
       "      <td>1</td>\n",
       "      <td>1001</td>\n",
       "      <td>1</td>\n",
       "      <td>0.864</td>\n",
       "      <td>1159</td>\n",
       "      <td>0</td>\n",
       "    </tr>\n",
       "  </tbody>\n",
       "</table>\n",
       "</div>"
      ],
      "text/plain": [
       "   default_profile  favourites_count  followers_count  friends_count  \\\n",
       "0                0                 4             1589              4   \n",
       "1                0               536              860            880   \n",
       "2                0              3307              172            594   \n",
       "\n",
       "   geo_enabled  statuses_count  verified  average_tweets_per_day  \\\n",
       "0            0           11041         0                   7.870   \n",
       "1            0             252         0                   0.183   \n",
       "2            1            1001         1                   0.864   \n",
       "\n",
       "   account_age_days  account_type  \n",
       "0              1403             1  \n",
       "1              1379             0  \n",
       "2              1159             0  "
      ]
     },
     "execution_count": 66,
     "metadata": {},
     "output_type": "execute_result"
    }
   ],
   "source": [
    "twitter_df.head(3)"
   ]
  },
  {
   "cell_type": "code",
   "execution_count": 67,
   "metadata": {},
   "outputs": [
    {
     "data": {
      "text/plain": [
       "default_profile           0\n",
       "favourites_count          0\n",
       "followers_count           0\n",
       "friends_count             0\n",
       "geo_enabled               0\n",
       "statuses_count            0\n",
       "verified                  0\n",
       "average_tweets_per_day    0\n",
       "account_age_days          0\n",
       "account_type              0\n",
       "dtype: int64"
      ]
     },
     "execution_count": 67,
     "metadata": {},
     "output_type": "execute_result"
    }
   ],
   "source": [
    "twitter_df.isnull().sum()"
   ]
  },
  {
   "cell_type": "markdown",
   "metadata": {},
   "source": [
    "## Let's shuffle the data"
   ]
  },
  {
   "cell_type": "code",
   "execution_count": null,
   "metadata": {},
   "outputs": [],
   "source": [
    "twitter_df = twitter_df.sample(frac=1.0, random_state=42)"
   ]
  },
  {
   "cell_type": "code",
   "execution_count": 69,
   "metadata": {},
   "outputs": [
    {
     "data": {
      "text/html": [
       "<div>\n",
       "<style scoped>\n",
       "    .dataframe tbody tr th:only-of-type {\n",
       "        vertical-align: middle;\n",
       "    }\n",
       "\n",
       "    .dataframe tbody tr th {\n",
       "        vertical-align: top;\n",
       "    }\n",
       "\n",
       "    .dataframe thead th {\n",
       "        text-align: right;\n",
       "    }\n",
       "</style>\n",
       "<table border=\"1\" class=\"dataframe\">\n",
       "  <thead>\n",
       "    <tr style=\"text-align: right;\">\n",
       "      <th></th>\n",
       "      <th>default_profile</th>\n",
       "      <th>favourites_count</th>\n",
       "      <th>followers_count</th>\n",
       "      <th>friends_count</th>\n",
       "      <th>geo_enabled</th>\n",
       "      <th>statuses_count</th>\n",
       "      <th>verified</th>\n",
       "      <th>average_tweets_per_day</th>\n",
       "      <th>account_age_days</th>\n",
       "      <th>account_type</th>\n",
       "    </tr>\n",
       "  </thead>\n",
       "  <tbody>\n",
       "    <tr>\n",
       "      <th>36730</th>\n",
       "      <td>0</td>\n",
       "      <td>48</td>\n",
       "      <td>42</td>\n",
       "      <td>0</td>\n",
       "      <td>0</td>\n",
       "      <td>3458</td>\n",
       "      <td>0</td>\n",
       "      <td>1.006</td>\n",
       "      <td>3437</td>\n",
       "      <td>1</td>\n",
       "    </tr>\n",
       "    <tr>\n",
       "      <th>25960</th>\n",
       "      <td>1</td>\n",
       "      <td>609</td>\n",
       "      <td>264</td>\n",
       "      <td>345</td>\n",
       "      <td>0</td>\n",
       "      <td>4488</td>\n",
       "      <td>0</td>\n",
       "      <td>2.200</td>\n",
       "      <td>2040</td>\n",
       "      <td>1</td>\n",
       "    </tr>\n",
       "    <tr>\n",
       "      <th>12307</th>\n",
       "      <td>0</td>\n",
       "      <td>11283</td>\n",
       "      <td>1625</td>\n",
       "      <td>709</td>\n",
       "      <td>0</td>\n",
       "      <td>5527</td>\n",
       "      <td>0</td>\n",
       "      <td>3.685</td>\n",
       "      <td>1500</td>\n",
       "      <td>0</td>\n",
       "    </tr>\n",
       "  </tbody>\n",
       "</table>\n",
       "</div>"
      ],
      "text/plain": [
       "       default_profile  favourites_count  followers_count  friends_count  \\\n",
       "36730                0                48               42              0   \n",
       "25960                1               609              264            345   \n",
       "12307                0             11283             1625            709   \n",
       "\n",
       "       geo_enabled  statuses_count  verified  average_tweets_per_day  \\\n",
       "36730            0            3458         0                   1.006   \n",
       "25960            0            4488         0                   2.200   \n",
       "12307            0            5527         0                   3.685   \n",
       "\n",
       "       account_age_days  account_type  \n",
       "36730              3437             1  \n",
       "25960              2040             1  \n",
       "12307              1500             0  "
      ]
     },
     "execution_count": 69,
     "metadata": {},
     "output_type": "execute_result"
    }
   ],
   "source": [
    "twitter_df.head(3)"
   ]
  },
  {
   "cell_type": "code",
   "execution_count": 70,
   "metadata": {},
   "outputs": [],
   "source": [
    "twitter_df.reset_index(inplace = True)"
   ]
  },
  {
   "cell_type": "code",
   "execution_count": 71,
   "metadata": {},
   "outputs": [
    {
     "data": {
      "text/html": [
       "<div>\n",
       "<style scoped>\n",
       "    .dataframe tbody tr th:only-of-type {\n",
       "        vertical-align: middle;\n",
       "    }\n",
       "\n",
       "    .dataframe tbody tr th {\n",
       "        vertical-align: top;\n",
       "    }\n",
       "\n",
       "    .dataframe thead th {\n",
       "        text-align: right;\n",
       "    }\n",
       "</style>\n",
       "<table border=\"1\" class=\"dataframe\">\n",
       "  <thead>\n",
       "    <tr style=\"text-align: right;\">\n",
       "      <th></th>\n",
       "      <th>index</th>\n",
       "      <th>default_profile</th>\n",
       "      <th>favourites_count</th>\n",
       "      <th>followers_count</th>\n",
       "      <th>friends_count</th>\n",
       "      <th>geo_enabled</th>\n",
       "      <th>statuses_count</th>\n",
       "      <th>verified</th>\n",
       "      <th>average_tweets_per_day</th>\n",
       "      <th>account_age_days</th>\n",
       "      <th>account_type</th>\n",
       "    </tr>\n",
       "  </thead>\n",
       "  <tbody>\n",
       "    <tr>\n",
       "      <th>0</th>\n",
       "      <td>36730</td>\n",
       "      <td>0</td>\n",
       "      <td>48</td>\n",
       "      <td>42</td>\n",
       "      <td>0</td>\n",
       "      <td>0</td>\n",
       "      <td>3458</td>\n",
       "      <td>0</td>\n",
       "      <td>1.006</td>\n",
       "      <td>3437</td>\n",
       "      <td>1</td>\n",
       "    </tr>\n",
       "    <tr>\n",
       "      <th>1</th>\n",
       "      <td>25960</td>\n",
       "      <td>1</td>\n",
       "      <td>609</td>\n",
       "      <td>264</td>\n",
       "      <td>345</td>\n",
       "      <td>0</td>\n",
       "      <td>4488</td>\n",
       "      <td>0</td>\n",
       "      <td>2.200</td>\n",
       "      <td>2040</td>\n",
       "      <td>1</td>\n",
       "    </tr>\n",
       "    <tr>\n",
       "      <th>2</th>\n",
       "      <td>12307</td>\n",
       "      <td>0</td>\n",
       "      <td>11283</td>\n",
       "      <td>1625</td>\n",
       "      <td>709</td>\n",
       "      <td>0</td>\n",
       "      <td>5527</td>\n",
       "      <td>0</td>\n",
       "      <td>3.685</td>\n",
       "      <td>1500</td>\n",
       "      <td>0</td>\n",
       "    </tr>\n",
       "  </tbody>\n",
       "</table>\n",
       "</div>"
      ],
      "text/plain": [
       "   index  default_profile  favourites_count  followers_count  friends_count  \\\n",
       "0  36730                0                48               42              0   \n",
       "1  25960                1               609              264            345   \n",
       "2  12307                0             11283             1625            709   \n",
       "\n",
       "   geo_enabled  statuses_count  verified  average_tweets_per_day  \\\n",
       "0            0            3458         0                   1.006   \n",
       "1            0            4488         0                   2.200   \n",
       "2            0            5527         0                   3.685   \n",
       "\n",
       "   account_age_days  account_type  \n",
       "0              3437             1  \n",
       "1              2040             1  \n",
       "2              1500             0  "
      ]
     },
     "execution_count": 71,
     "metadata": {},
     "output_type": "execute_result"
    }
   ],
   "source": [
    "twitter_df.head(3)"
   ]
  },
  {
   "cell_type": "code",
   "execution_count": 72,
   "metadata": {},
   "outputs": [],
   "source": [
    "twitter_df.drop('index', axis = 1, inplace = True)"
   ]
  },
  {
   "cell_type": "code",
   "execution_count": 73,
   "metadata": {},
   "outputs": [
    {
     "data": {
      "text/html": [
       "<div>\n",
       "<style scoped>\n",
       "    .dataframe tbody tr th:only-of-type {\n",
       "        vertical-align: middle;\n",
       "    }\n",
       "\n",
       "    .dataframe tbody tr th {\n",
       "        vertical-align: top;\n",
       "    }\n",
       "\n",
       "    .dataframe thead th {\n",
       "        text-align: right;\n",
       "    }\n",
       "</style>\n",
       "<table border=\"1\" class=\"dataframe\">\n",
       "  <thead>\n",
       "    <tr style=\"text-align: right;\">\n",
       "      <th></th>\n",
       "      <th>default_profile</th>\n",
       "      <th>favourites_count</th>\n",
       "      <th>followers_count</th>\n",
       "      <th>friends_count</th>\n",
       "      <th>geo_enabled</th>\n",
       "      <th>statuses_count</th>\n",
       "      <th>verified</th>\n",
       "      <th>average_tweets_per_day</th>\n",
       "      <th>account_age_days</th>\n",
       "      <th>account_type</th>\n",
       "    </tr>\n",
       "  </thead>\n",
       "  <tbody>\n",
       "    <tr>\n",
       "      <th>0</th>\n",
       "      <td>0</td>\n",
       "      <td>48</td>\n",
       "      <td>42</td>\n",
       "      <td>0</td>\n",
       "      <td>0</td>\n",
       "      <td>3458</td>\n",
       "      <td>0</td>\n",
       "      <td>1.006</td>\n",
       "      <td>3437</td>\n",
       "      <td>1</td>\n",
       "    </tr>\n",
       "    <tr>\n",
       "      <th>1</th>\n",
       "      <td>1</td>\n",
       "      <td>609</td>\n",
       "      <td>264</td>\n",
       "      <td>345</td>\n",
       "      <td>0</td>\n",
       "      <td>4488</td>\n",
       "      <td>0</td>\n",
       "      <td>2.200</td>\n",
       "      <td>2040</td>\n",
       "      <td>1</td>\n",
       "    </tr>\n",
       "    <tr>\n",
       "      <th>2</th>\n",
       "      <td>0</td>\n",
       "      <td>11283</td>\n",
       "      <td>1625</td>\n",
       "      <td>709</td>\n",
       "      <td>0</td>\n",
       "      <td>5527</td>\n",
       "      <td>0</td>\n",
       "      <td>3.685</td>\n",
       "      <td>1500</td>\n",
       "      <td>0</td>\n",
       "    </tr>\n",
       "  </tbody>\n",
       "</table>\n",
       "</div>"
      ],
      "text/plain": [
       "   default_profile  favourites_count  followers_count  friends_count  \\\n",
       "0                0                48               42              0   \n",
       "1                1               609              264            345   \n",
       "2                0             11283             1625            709   \n",
       "\n",
       "   geo_enabled  statuses_count  verified  average_tweets_per_day  \\\n",
       "0            0            3458         0                   1.006   \n",
       "1            0            4488         0                   2.200   \n",
       "2            0            5527         0                   3.685   \n",
       "\n",
       "   account_age_days  account_type  \n",
       "0              3437             1  \n",
       "1              2040             1  \n",
       "2              1500             0  "
      ]
     },
     "execution_count": 73,
     "metadata": {},
     "output_type": "execute_result"
    }
   ],
   "source": [
    "twitter_df.head(3)"
   ]
  },
  {
   "cell_type": "markdown",
   "metadata": {},
   "source": [
    "# Let's start building machine learning models"
   ]
  },
  {
   "cell_type": "code",
   "execution_count": 74,
   "metadata": {},
   "outputs": [],
   "source": [
    "from sklearn.model_selection import train_test_split"
   ]
  },
  {
   "cell_type": "code",
   "execution_count": 75,
   "metadata": {},
   "outputs": [],
   "source": [
    "def split_data(twitter_df):\n",
    "    X_train, X_test, y_train, y_test = train_test_split(twitter_df.drop('account_type', axis = 1), twitter_df['account_type'], \n",
    "                                                        test_size=0.33, random_state=42, stratify = twitter_df['account_type'])\n",
    "    return X_train, X_test, y_train, y_test"
   ]
  },
  {
   "cell_type": "code",
   "execution_count": 76,
   "metadata": {},
   "outputs": [],
   "source": [
    "X_train, X_test, y_train, y_test = split_data(twitter_df)"
   ]
  },
  {
   "cell_type": "code",
   "execution_count": 77,
   "metadata": {},
   "outputs": [
    {
     "data": {
      "text/html": [
       "<div>\n",
       "<style scoped>\n",
       "    .dataframe tbody tr th:only-of-type {\n",
       "        vertical-align: middle;\n",
       "    }\n",
       "\n",
       "    .dataframe tbody tr th {\n",
       "        vertical-align: top;\n",
       "    }\n",
       "\n",
       "    .dataframe thead th {\n",
       "        text-align: right;\n",
       "    }\n",
       "</style>\n",
       "<table border=\"1\" class=\"dataframe\">\n",
       "  <thead>\n",
       "    <tr style=\"text-align: right;\">\n",
       "      <th></th>\n",
       "      <th>default_profile</th>\n",
       "      <th>favourites_count</th>\n",
       "      <th>followers_count</th>\n",
       "      <th>friends_count</th>\n",
       "      <th>geo_enabled</th>\n",
       "      <th>statuses_count</th>\n",
       "      <th>verified</th>\n",
       "      <th>average_tweets_per_day</th>\n",
       "      <th>account_age_days</th>\n",
       "    </tr>\n",
       "  </thead>\n",
       "  <tbody>\n",
       "    <tr>\n",
       "      <th>10386</th>\n",
       "      <td>0</td>\n",
       "      <td>2790</td>\n",
       "      <td>659079</td>\n",
       "      <td>838</td>\n",
       "      <td>0</td>\n",
       "      <td>3165</td>\n",
       "      <td>0</td>\n",
       "      <td>0.762</td>\n",
       "      <td>4155</td>\n",
       "    </tr>\n",
       "    <tr>\n",
       "      <th>4620</th>\n",
       "      <td>1</td>\n",
       "      <td>233</td>\n",
       "      <td>275</td>\n",
       "      <td>391</td>\n",
       "      <td>0</td>\n",
       "      <td>3206</td>\n",
       "      <td>0</td>\n",
       "      <td>1.544</td>\n",
       "      <td>2076</td>\n",
       "    </tr>\n",
       "    <tr>\n",
       "      <th>11127</th>\n",
       "      <td>0</td>\n",
       "      <td>15120</td>\n",
       "      <td>514</td>\n",
       "      <td>0</td>\n",
       "      <td>0</td>\n",
       "      <td>14750</td>\n",
       "      <td>0</td>\n",
       "      <td>4.876</td>\n",
       "      <td>3025</td>\n",
       "    </tr>\n",
       "    <tr>\n",
       "      <th>35073</th>\n",
       "      <td>1</td>\n",
       "      <td>2470</td>\n",
       "      <td>7486</td>\n",
       "      <td>2461</td>\n",
       "      <td>1</td>\n",
       "      <td>200828</td>\n",
       "      <td>1</td>\n",
       "      <td>47.680</td>\n",
       "      <td>4212</td>\n",
       "    </tr>\n",
       "    <tr>\n",
       "      <th>5042</th>\n",
       "      <td>1</td>\n",
       "      <td>30</td>\n",
       "      <td>9</td>\n",
       "      <td>0</td>\n",
       "      <td>0</td>\n",
       "      <td>283</td>\n",
       "      <td>0</td>\n",
       "      <td>0.096</td>\n",
       "      <td>2936</td>\n",
       "    </tr>\n",
       "  </tbody>\n",
       "</table>\n",
       "</div>"
      ],
      "text/plain": [
       "       default_profile  favourites_count  followers_count  friends_count  \\\n",
       "10386                0              2790           659079            838   \n",
       "4620                 1               233              275            391   \n",
       "11127                0             15120              514              0   \n",
       "35073                1              2470             7486           2461   \n",
       "5042                 1                30                9              0   \n",
       "\n",
       "       geo_enabled  statuses_count  verified  average_tweets_per_day  \\\n",
       "10386            0            3165         0                   0.762   \n",
       "4620             0            3206         0                   1.544   \n",
       "11127            0           14750         0                   4.876   \n",
       "35073            1          200828         1                  47.680   \n",
       "5042             0             283         0                   0.096   \n",
       "\n",
       "       account_age_days  \n",
       "10386              4155  \n",
       "4620               2076  \n",
       "11127              3025  \n",
       "35073              4212  \n",
       "5042               2936  "
      ]
     },
     "execution_count": 77,
     "metadata": {},
     "output_type": "execute_result"
    }
   ],
   "source": [
    "X_train.head()"
   ]
  },
  {
   "cell_type": "code",
   "execution_count": 78,
   "metadata": {},
   "outputs": [
    {
     "data": {
      "text/html": [
       "<div>\n",
       "<style scoped>\n",
       "    .dataframe tbody tr th:only-of-type {\n",
       "        vertical-align: middle;\n",
       "    }\n",
       "\n",
       "    .dataframe tbody tr th {\n",
       "        vertical-align: top;\n",
       "    }\n",
       "\n",
       "    .dataframe thead th {\n",
       "        text-align: right;\n",
       "    }\n",
       "</style>\n",
       "<table border=\"1\" class=\"dataframe\">\n",
       "  <thead>\n",
       "    <tr style=\"text-align: right;\">\n",
       "      <th></th>\n",
       "      <th>default_profile</th>\n",
       "      <th>favourites_count</th>\n",
       "      <th>followers_count</th>\n",
       "      <th>friends_count</th>\n",
       "      <th>geo_enabled</th>\n",
       "      <th>statuses_count</th>\n",
       "      <th>verified</th>\n",
       "      <th>average_tweets_per_day</th>\n",
       "      <th>account_age_days</th>\n",
       "    </tr>\n",
       "  </thead>\n",
       "  <tbody>\n",
       "    <tr>\n",
       "      <th>13121</th>\n",
       "      <td>1</td>\n",
       "      <td>531</td>\n",
       "      <td>26</td>\n",
       "      <td>0</td>\n",
       "      <td>0</td>\n",
       "      <td>96</td>\n",
       "      <td>0</td>\n",
       "      <td>0.070</td>\n",
       "      <td>1379</td>\n",
       "    </tr>\n",
       "    <tr>\n",
       "      <th>27688</th>\n",
       "      <td>0</td>\n",
       "      <td>1759</td>\n",
       "      <td>2979</td>\n",
       "      <td>788</td>\n",
       "      <td>1</td>\n",
       "      <td>3998</td>\n",
       "      <td>1</td>\n",
       "      <td>1.384</td>\n",
       "      <td>2888</td>\n",
       "    </tr>\n",
       "    <tr>\n",
       "      <th>10523</th>\n",
       "      <td>1</td>\n",
       "      <td>14</td>\n",
       "      <td>0</td>\n",
       "      <td>0</td>\n",
       "      <td>0</td>\n",
       "      <td>105</td>\n",
       "      <td>0</td>\n",
       "      <td>0.091</td>\n",
       "      <td>1155</td>\n",
       "    </tr>\n",
       "    <tr>\n",
       "      <th>33894</th>\n",
       "      <td>1</td>\n",
       "      <td>1965</td>\n",
       "      <td>91</td>\n",
       "      <td>94</td>\n",
       "      <td>0</td>\n",
       "      <td>3717</td>\n",
       "      <td>0</td>\n",
       "      <td>1.001</td>\n",
       "      <td>3713</td>\n",
       "    </tr>\n",
       "    <tr>\n",
       "      <th>14680</th>\n",
       "      <td>0</td>\n",
       "      <td>27627</td>\n",
       "      <td>195</td>\n",
       "      <td>202</td>\n",
       "      <td>0</td>\n",
       "      <td>10825</td>\n",
       "      <td>0</td>\n",
       "      <td>3.067</td>\n",
       "      <td>3530</td>\n",
       "    </tr>\n",
       "  </tbody>\n",
       "</table>\n",
       "</div>"
      ],
      "text/plain": [
       "       default_profile  favourites_count  followers_count  friends_count  \\\n",
       "13121                1               531               26              0   \n",
       "27688                0              1759             2979            788   \n",
       "10523                1                14                0              0   \n",
       "33894                1              1965               91             94   \n",
       "14680                0             27627              195            202   \n",
       "\n",
       "       geo_enabled  statuses_count  verified  average_tweets_per_day  \\\n",
       "13121            0              96         0                   0.070   \n",
       "27688            1            3998         1                   1.384   \n",
       "10523            0             105         0                   0.091   \n",
       "33894            0            3717         0                   1.001   \n",
       "14680            0           10825         0                   3.067   \n",
       "\n",
       "       account_age_days  \n",
       "13121              1379  \n",
       "27688              2888  \n",
       "10523              1155  \n",
       "33894              3713  \n",
       "14680              3530  "
      ]
     },
     "execution_count": 78,
     "metadata": {},
     "output_type": "execute_result"
    }
   ],
   "source": [
    "X_test.head()"
   ]
  },
  {
   "cell_type": "code",
   "execution_count": 79,
   "metadata": {},
   "outputs": [
    {
     "data": {
      "text/plain": [
       "10386    0\n",
       "4620     1\n",
       "11127    1\n",
       "35073    0\n",
       "5042     0\n",
       "        ..\n",
       "15275    0\n",
       "1701     0\n",
       "25269    0\n",
       "24271    1\n",
       "26324    1\n",
       "Name: account_type, Length: 25083, dtype: int64"
      ]
     },
     "execution_count": 79,
     "metadata": {},
     "output_type": "execute_result"
    }
   ],
   "source": [
    "y_train"
   ]
  },
  {
   "cell_type": "code",
   "execution_count": 80,
   "metadata": {},
   "outputs": [
    {
     "data": {
      "text/plain": [
       "13121    1\n",
       "27688    0\n",
       "10523    1\n",
       "33894    1\n",
       "14680    0\n",
       "        ..\n",
       "30258    0\n",
       "1961     0\n",
       "4618     0\n",
       "27560    1\n",
       "4201     0\n",
       "Name: account_type, Length: 12355, dtype: int64"
      ]
     },
     "execution_count": 80,
     "metadata": {},
     "output_type": "execute_result"
    }
   ],
   "source": [
    "y_test"
   ]
  },
  {
   "cell_type": "markdown",
   "metadata": {},
   "source": [
    "# Let's try logistic regression, decision tree, random forest and SVM"
   ]
  },
  {
   "cell_type": "code",
   "execution_count": 81,
   "metadata": {},
   "outputs": [],
   "source": [
    "from sklearn.linear_model import LogisticRegression\n",
    "from sklearn.tree import DecisionTreeClassifier\n",
    "from sklearn.ensemble import RandomForestClassifier\n",
    "from sklearn.svm import SVC"
   ]
  },
  {
   "cell_type": "code",
   "execution_count": 82,
   "metadata": {},
   "outputs": [],
   "source": [
    "# Logistic regression model\n",
    "LRC = LogisticRegression()\n",
    "\n",
    "# Support vector model\n",
    "SVM = SVC()\n",
    "\n",
    "# Decision tree model\n",
    "DTC = DecisionTreeClassifier()\n",
    "\n",
    "# Random Forest model\n",
    "RFC = RandomForestClassifier()"
   ]
  },
  {
   "cell_type": "code",
   "execution_count": 83,
   "metadata": {},
   "outputs": [
    {
     "data": {
      "text/plain": [
       "LogisticRegression()"
      ]
     },
     "execution_count": 83,
     "metadata": {},
     "output_type": "execute_result"
    }
   ],
   "source": [
    "LRC.fit(X_train, y_train)"
   ]
  },
  {
   "cell_type": "code",
   "execution_count": 84,
   "metadata": {},
   "outputs": [
    {
     "data": {
      "text/plain": [
       "0.6736833712075908"
      ]
     },
     "execution_count": 84,
     "metadata": {},
     "output_type": "execute_result"
    }
   ],
   "source": [
    "LRC.score(X_train, y_train)"
   ]
  },
  {
   "cell_type": "code",
   "execution_count": 85,
   "metadata": {},
   "outputs": [
    {
     "data": {
      "text/plain": [
       "0.6715499797652772"
      ]
     },
     "execution_count": 85,
     "metadata": {},
     "output_type": "execute_result"
    }
   ],
   "source": [
    "LRC.score(X_test, y_test)"
   ]
  },
  {
   "cell_type": "code",
   "execution_count": 86,
   "metadata": {},
   "outputs": [
    {
     "data": {
      "text/plain": [
       "SVC()"
      ]
     },
     "execution_count": 86,
     "metadata": {},
     "output_type": "execute_result"
    }
   ],
   "source": [
    "SVM.fit(X_train, y_train)"
   ]
  },
  {
   "cell_type": "code",
   "execution_count": 87,
   "metadata": {},
   "outputs": [
    {
     "data": {
      "text/plain": [
       "0.6685005780807718"
      ]
     },
     "execution_count": 87,
     "metadata": {},
     "output_type": "execute_result"
    }
   ],
   "source": [
    "SVM.score(X_train, y_train)"
   ]
  },
  {
   "cell_type": "code",
   "execution_count": 88,
   "metadata": {},
   "outputs": [
    {
     "data": {
      "text/plain": [
       "0.6683933630109268"
      ]
     },
     "execution_count": 88,
     "metadata": {},
     "output_type": "execute_result"
    }
   ],
   "source": [
    "SVM.score(X_test, y_test)"
   ]
  },
  {
   "cell_type": "code",
   "execution_count": 89,
   "metadata": {},
   "outputs": [
    {
     "data": {
      "text/plain": [
       "DecisionTreeClassifier()"
      ]
     },
     "execution_count": 89,
     "metadata": {},
     "output_type": "execute_result"
    }
   ],
   "source": [
    "DTC.fit(X_train, y_train)"
   ]
  },
  {
   "cell_type": "code",
   "execution_count": 90,
   "metadata": {},
   "outputs": [
    {
     "data": {
      "text/plain": [
       "1.0"
      ]
     },
     "execution_count": 90,
     "metadata": {},
     "output_type": "execute_result"
    }
   ],
   "source": [
    "DTC.score(X_train, y_train)"
   ]
  },
  {
   "cell_type": "code",
   "execution_count": 91,
   "metadata": {},
   "outputs": [
    {
     "data": {
      "text/plain": [
       "0.8316471064346418"
      ]
     },
     "execution_count": 91,
     "metadata": {},
     "output_type": "execute_result"
    }
   ],
   "source": [
    "DTC.score(X_test, y_test)"
   ]
  },
  {
   "cell_type": "code",
   "execution_count": 92,
   "metadata": {},
   "outputs": [
    {
     "data": {
      "text/plain": [
       "RandomForestClassifier()"
      ]
     },
     "execution_count": 92,
     "metadata": {},
     "output_type": "execute_result"
    }
   ],
   "source": [
    "RFC.fit(X_train, y_train)"
   ]
  },
  {
   "cell_type": "code",
   "execution_count": 93,
   "metadata": {},
   "outputs": [
    {
     "data": {
      "text/plain": [
       "0.9999601323605629"
      ]
     },
     "execution_count": 93,
     "metadata": {},
     "output_type": "execute_result"
    }
   ],
   "source": [
    "RFC.score(X_train, y_train)"
   ]
  },
  {
   "cell_type": "code",
   "execution_count": 94,
   "metadata": {},
   "outputs": [
    {
     "data": {
      "text/plain": [
       "0.8821529745042493"
      ]
     },
     "execution_count": 94,
     "metadata": {},
     "output_type": "execute_result"
    }
   ],
   "source": [
    "RFC.score(X_test, y_test)"
   ]
  },
  {
   "cell_type": "code",
   "execution_count": 95,
   "metadata": {},
   "outputs": [
    {
     "data": {
      "text/html": [
       "<div>\n",
       "<style scoped>\n",
       "    .dataframe tbody tr th:only-of-type {\n",
       "        vertical-align: middle;\n",
       "    }\n",
       "\n",
       "    .dataframe tbody tr th {\n",
       "        vertical-align: top;\n",
       "    }\n",
       "\n",
       "    .dataframe thead th {\n",
       "        text-align: right;\n",
       "    }\n",
       "</style>\n",
       "<table border=\"1\" class=\"dataframe\">\n",
       "  <thead>\n",
       "    <tr style=\"text-align: right;\">\n",
       "      <th></th>\n",
       "      <th>default_profile</th>\n",
       "      <th>favourites_count</th>\n",
       "      <th>followers_count</th>\n",
       "      <th>friends_count</th>\n",
       "      <th>geo_enabled</th>\n",
       "      <th>statuses_count</th>\n",
       "      <th>verified</th>\n",
       "      <th>average_tweets_per_day</th>\n",
       "      <th>account_age_days</th>\n",
       "    </tr>\n",
       "  </thead>\n",
       "  <tbody>\n",
       "    <tr>\n",
       "      <th>10386</th>\n",
       "      <td>0</td>\n",
       "      <td>2790</td>\n",
       "      <td>659079</td>\n",
       "      <td>838</td>\n",
       "      <td>0</td>\n",
       "      <td>3165</td>\n",
       "      <td>0</td>\n",
       "      <td>0.762</td>\n",
       "      <td>4155</td>\n",
       "    </tr>\n",
       "    <tr>\n",
       "      <th>4620</th>\n",
       "      <td>1</td>\n",
       "      <td>233</td>\n",
       "      <td>275</td>\n",
       "      <td>391</td>\n",
       "      <td>0</td>\n",
       "      <td>3206</td>\n",
       "      <td>0</td>\n",
       "      <td>1.544</td>\n",
       "      <td>2076</td>\n",
       "    </tr>\n",
       "    <tr>\n",
       "      <th>11127</th>\n",
       "      <td>0</td>\n",
       "      <td>15120</td>\n",
       "      <td>514</td>\n",
       "      <td>0</td>\n",
       "      <td>0</td>\n",
       "      <td>14750</td>\n",
       "      <td>0</td>\n",
       "      <td>4.876</td>\n",
       "      <td>3025</td>\n",
       "    </tr>\n",
       "    <tr>\n",
       "      <th>35073</th>\n",
       "      <td>1</td>\n",
       "      <td>2470</td>\n",
       "      <td>7486</td>\n",
       "      <td>2461</td>\n",
       "      <td>1</td>\n",
       "      <td>200828</td>\n",
       "      <td>1</td>\n",
       "      <td>47.680</td>\n",
       "      <td>4212</td>\n",
       "    </tr>\n",
       "    <tr>\n",
       "      <th>5042</th>\n",
       "      <td>1</td>\n",
       "      <td>30</td>\n",
       "      <td>9</td>\n",
       "      <td>0</td>\n",
       "      <td>0</td>\n",
       "      <td>283</td>\n",
       "      <td>0</td>\n",
       "      <td>0.096</td>\n",
       "      <td>2936</td>\n",
       "    </tr>\n",
       "  </tbody>\n",
       "</table>\n",
       "</div>"
      ],
      "text/plain": [
       "       default_profile  favourites_count  followers_count  friends_count  \\\n",
       "10386                0              2790           659079            838   \n",
       "4620                 1               233              275            391   \n",
       "11127                0             15120              514              0   \n",
       "35073                1              2470             7486           2461   \n",
       "5042                 1                30                9              0   \n",
       "\n",
       "       geo_enabled  statuses_count  verified  average_tweets_per_day  \\\n",
       "10386            0            3165         0                   0.762   \n",
       "4620             0            3206         0                   1.544   \n",
       "11127            0           14750         0                   4.876   \n",
       "35073            1          200828         1                  47.680   \n",
       "5042             0             283         0                   0.096   \n",
       "\n",
       "       account_age_days  \n",
       "10386              4155  \n",
       "4620               2076  \n",
       "11127              3025  \n",
       "35073              4212  \n",
       "5042               2936  "
      ]
     },
     "execution_count": 95,
     "metadata": {},
     "output_type": "execute_result"
    }
   ],
   "source": [
    "X_train.head()"
   ]
  },
  {
   "cell_type": "markdown",
   "metadata": {},
   "source": [
    "# Lets scale the feature values"
   ]
  },
  {
   "cell_type": "code",
   "execution_count": 98,
   "metadata": {},
   "outputs": [],
   "source": [
    "from sklearn.preprocessing import StandardScaler, MinMaxScaler"
   ]
  },
  {
   "cell_type": "code",
   "execution_count": 99,
   "metadata": {},
   "outputs": [],
   "source": [
    "def scale_features(train_df,test_df,scale_type):\n",
    "    to_be_scaled = ['favourites_count', 'followers_count', 'friends_count', 'statuses_count', 'average_tweets_per_day', 'account_age_days']\n",
    "    if scale_type == \"minmax\":\n",
    "        scaler = MinMaxScaler()\n",
    "    else:\n",
    "        scaler = StandardScaler()\n",
    "    \n",
    "    train_df[to_be_scaled] = scaler.fit_transform(train_df[to_be_scaled])\n",
    "    \n",
    "    # We also need to apply the same scaler strategy on test dataset, instead of fit_transform, we just have to use transform\n",
    "    test_df[to_be_scaled] = scaler.transform(test_df[to_be_scaled])\n",
    "    \n",
    "    return train_df, test_df"
   ]
  },
  {
   "cell_type": "code",
   "execution_count": 100,
   "metadata": {},
   "outputs": [],
   "source": [
    "train_df, test_df = scale_features(X_train, X_test, 'minmax')"
   ]
  },
  {
   "cell_type": "code",
   "execution_count": 101,
   "metadata": {},
   "outputs": [
    {
     "data": {
      "text/html": [
       "<div>\n",
       "<style scoped>\n",
       "    .dataframe tbody tr th:only-of-type {\n",
       "        vertical-align: middle;\n",
       "    }\n",
       "\n",
       "    .dataframe tbody tr th {\n",
       "        vertical-align: top;\n",
       "    }\n",
       "\n",
       "    .dataframe thead th {\n",
       "        text-align: right;\n",
       "    }\n",
       "</style>\n",
       "<table border=\"1\" class=\"dataframe\">\n",
       "  <thead>\n",
       "    <tr style=\"text-align: right;\">\n",
       "      <th></th>\n",
       "      <th>default_profile</th>\n",
       "      <th>favourites_count</th>\n",
       "      <th>followers_count</th>\n",
       "      <th>friends_count</th>\n",
       "      <th>geo_enabled</th>\n",
       "      <th>statuses_count</th>\n",
       "      <th>verified</th>\n",
       "      <th>average_tweets_per_day</th>\n",
       "      <th>account_age_days</th>\n",
       "    </tr>\n",
       "  </thead>\n",
       "  <tbody>\n",
       "    <tr>\n",
       "      <th>10386</th>\n",
       "      <td>0</td>\n",
       "      <td>0.003631</td>\n",
       "      <td>5.418210e-03</td>\n",
       "      <td>0.000193</td>\n",
       "      <td>0</td>\n",
       "      <td>0.001142</td>\n",
       "      <td>0</td>\n",
       "      <td>0.000640</td>\n",
       "      <td>0.785225</td>\n",
       "    </tr>\n",
       "    <tr>\n",
       "      <th>4620</th>\n",
       "      <td>1</td>\n",
       "      <td>0.000303</td>\n",
       "      <td>2.260742e-06</td>\n",
       "      <td>0.000090</td>\n",
       "      <td>0</td>\n",
       "      <td>0.001157</td>\n",
       "      <td>0</td>\n",
       "      <td>0.001296</td>\n",
       "      <td>0.340043</td>\n",
       "    </tr>\n",
       "    <tr>\n",
       "      <th>11127</th>\n",
       "      <td>0</td>\n",
       "      <td>0.019678</td>\n",
       "      <td>4.225533e-06</td>\n",
       "      <td>0.000000</td>\n",
       "      <td>0</td>\n",
       "      <td>0.005321</td>\n",
       "      <td>0</td>\n",
       "      <td>0.004093</td>\n",
       "      <td>0.543255</td>\n",
       "    </tr>\n",
       "    <tr>\n",
       "      <th>35073</th>\n",
       "      <td>1</td>\n",
       "      <td>0.003215</td>\n",
       "      <td>6.154151e-05</td>\n",
       "      <td>0.000567</td>\n",
       "      <td>1</td>\n",
       "      <td>0.072451</td>\n",
       "      <td>1</td>\n",
       "      <td>0.040024</td>\n",
       "      <td>0.797430</td>\n",
       "    </tr>\n",
       "    <tr>\n",
       "      <th>5042</th>\n",
       "      <td>1</td>\n",
       "      <td>0.000039</td>\n",
       "      <td>7.398792e-08</td>\n",
       "      <td>0.000000</td>\n",
       "      <td>0</td>\n",
       "      <td>0.000102</td>\n",
       "      <td>0</td>\n",
       "      <td>0.000081</td>\n",
       "      <td>0.524197</td>\n",
       "    </tr>\n",
       "  </tbody>\n",
       "</table>\n",
       "</div>"
      ],
      "text/plain": [
       "       default_profile  favourites_count  followers_count  friends_count  \\\n",
       "10386                0          0.003631     5.418210e-03       0.000193   \n",
       "4620                 1          0.000303     2.260742e-06       0.000090   \n",
       "11127                0          0.019678     4.225533e-06       0.000000   \n",
       "35073                1          0.003215     6.154151e-05       0.000567   \n",
       "5042                 1          0.000039     7.398792e-08       0.000000   \n",
       "\n",
       "       geo_enabled  statuses_count  verified  average_tweets_per_day  \\\n",
       "10386            0        0.001142         0                0.000640   \n",
       "4620             0        0.001157         0                0.001296   \n",
       "11127            0        0.005321         0                0.004093   \n",
       "35073            1        0.072451         1                0.040024   \n",
       "5042             0        0.000102         0                0.000081   \n",
       "\n",
       "       account_age_days  \n",
       "10386          0.785225  \n",
       "4620           0.340043  \n",
       "11127          0.543255  \n",
       "35073          0.797430  \n",
       "5042           0.524197  "
      ]
     },
     "execution_count": 101,
     "metadata": {},
     "output_type": "execute_result"
    }
   ],
   "source": [
    "train_df.head()"
   ]
  },
  {
   "cell_type": "code",
   "execution_count": 102,
   "metadata": {},
   "outputs": [
    {
     "data": {
      "text/html": [
       "<div>\n",
       "<style scoped>\n",
       "    .dataframe tbody tr th:only-of-type {\n",
       "        vertical-align: middle;\n",
       "    }\n",
       "\n",
       "    .dataframe tbody tr th {\n",
       "        vertical-align: top;\n",
       "    }\n",
       "\n",
       "    .dataframe thead th {\n",
       "        text-align: right;\n",
       "    }\n",
       "</style>\n",
       "<table border=\"1\" class=\"dataframe\">\n",
       "  <thead>\n",
       "    <tr style=\"text-align: right;\">\n",
       "      <th></th>\n",
       "      <th>default_profile</th>\n",
       "      <th>favourites_count</th>\n",
       "      <th>followers_count</th>\n",
       "      <th>friends_count</th>\n",
       "      <th>geo_enabled</th>\n",
       "      <th>statuses_count</th>\n",
       "      <th>verified</th>\n",
       "      <th>average_tweets_per_day</th>\n",
       "      <th>account_age_days</th>\n",
       "    </tr>\n",
       "  </thead>\n",
       "  <tbody>\n",
       "    <tr>\n",
       "      <th>13121</th>\n",
       "      <td>1</td>\n",
       "      <td>0.000691</td>\n",
       "      <td>2.137429e-07</td>\n",
       "      <td>0.000000</td>\n",
       "      <td>0</td>\n",
       "      <td>0.000035</td>\n",
       "      <td>0</td>\n",
       "      <td>0.000059</td>\n",
       "      <td>0.190792</td>\n",
       "    </tr>\n",
       "    <tr>\n",
       "      <th>27688</th>\n",
       "      <td>0</td>\n",
       "      <td>0.002289</td>\n",
       "      <td>2.449000e-05</td>\n",
       "      <td>0.000181</td>\n",
       "      <td>1</td>\n",
       "      <td>0.001442</td>\n",
       "      <td>1</td>\n",
       "      <td>0.001162</td>\n",
       "      <td>0.513919</td>\n",
       "    </tr>\n",
       "    <tr>\n",
       "      <th>10523</th>\n",
       "      <td>1</td>\n",
       "      <td>0.000018</td>\n",
       "      <td>0.000000e+00</td>\n",
       "      <td>0.000000</td>\n",
       "      <td>0</td>\n",
       "      <td>0.000038</td>\n",
       "      <td>0</td>\n",
       "      <td>0.000076</td>\n",
       "      <td>0.142827</td>\n",
       "    </tr>\n",
       "    <tr>\n",
       "      <th>33894</th>\n",
       "      <td>1</td>\n",
       "      <td>0.002557</td>\n",
       "      <td>7.481001e-07</td>\n",
       "      <td>0.000022</td>\n",
       "      <td>0</td>\n",
       "      <td>0.001341</td>\n",
       "      <td>0</td>\n",
       "      <td>0.000840</td>\n",
       "      <td>0.690578</td>\n",
       "    </tr>\n",
       "    <tr>\n",
       "      <th>14680</th>\n",
       "      <td>0</td>\n",
       "      <td>0.035955</td>\n",
       "      <td>1.603072e-06</td>\n",
       "      <td>0.000047</td>\n",
       "      <td>0</td>\n",
       "      <td>0.003905</td>\n",
       "      <td>0</td>\n",
       "      <td>0.002575</td>\n",
       "      <td>0.651392</td>\n",
       "    </tr>\n",
       "  </tbody>\n",
       "</table>\n",
       "</div>"
      ],
      "text/plain": [
       "       default_profile  favourites_count  followers_count  friends_count  \\\n",
       "13121                1          0.000691     2.137429e-07       0.000000   \n",
       "27688                0          0.002289     2.449000e-05       0.000181   \n",
       "10523                1          0.000018     0.000000e+00       0.000000   \n",
       "33894                1          0.002557     7.481001e-07       0.000022   \n",
       "14680                0          0.035955     1.603072e-06       0.000047   \n",
       "\n",
       "       geo_enabled  statuses_count  verified  average_tweets_per_day  \\\n",
       "13121            0        0.000035         0                0.000059   \n",
       "27688            1        0.001442         1                0.001162   \n",
       "10523            0        0.000038         0                0.000076   \n",
       "33894            0        0.001341         0                0.000840   \n",
       "14680            0        0.003905         0                0.002575   \n",
       "\n",
       "       account_age_days  \n",
       "13121          0.190792  \n",
       "27688          0.513919  \n",
       "10523          0.142827  \n",
       "33894          0.690578  \n",
       "14680          0.651392  "
      ]
     },
     "execution_count": 102,
     "metadata": {},
     "output_type": "execute_result"
    }
   ],
   "source": [
    "test_df.head()"
   ]
  },
  {
   "cell_type": "code",
   "execution_count": 103,
   "metadata": {},
   "outputs": [],
   "source": [
    "# Logistic regression model\n",
    "LRC = LogisticRegression()\n",
    "\n",
    "# Support vector model\n",
    "SVM = SVC()\n",
    "\n",
    "# Decision tree model\n",
    "DTC = DecisionTreeClassifier()\n",
    "\n",
    "# Random Forest model\n",
    "RFC = RandomForestClassifier()"
   ]
  },
  {
   "cell_type": "code",
   "execution_count": 104,
   "metadata": {},
   "outputs": [
    {
     "data": {
      "text/plain": [
       "LogisticRegression()"
      ]
     },
     "execution_count": 104,
     "metadata": {},
     "output_type": "execute_result"
    }
   ],
   "source": [
    "LRC.fit(train_df, y_train)"
   ]
  },
  {
   "cell_type": "code",
   "execution_count": 105,
   "metadata": {},
   "outputs": [
    {
     "data": {
      "text/plain": [
       "0.7397839173942511"
      ]
     },
     "execution_count": 105,
     "metadata": {},
     "output_type": "execute_result"
    }
   ],
   "source": [
    "LRC.score(train_df, y_train)"
   ]
  },
  {
   "cell_type": "code",
   "execution_count": 106,
   "metadata": {},
   "outputs": [
    {
     "data": {
      "text/plain": [
       "0.7485228652367463"
      ]
     },
     "execution_count": 106,
     "metadata": {},
     "output_type": "execute_result"
    }
   ],
   "source": [
    "LRC.score(test_df, y_test)"
   ]
  },
  {
   "cell_type": "code",
   "execution_count": 107,
   "metadata": {},
   "outputs": [
    {
     "data": {
      "text/plain": [
       "SVC()"
      ]
     },
     "execution_count": 107,
     "metadata": {},
     "output_type": "execute_result"
    }
   ],
   "source": [
    "SVM.fit(train_df, y_train)"
   ]
  },
  {
   "cell_type": "code",
   "execution_count": 108,
   "metadata": {},
   "outputs": [
    {
     "data": {
      "text/plain": [
       "0.7344815213491209"
      ]
     },
     "execution_count": 108,
     "metadata": {},
     "output_type": "execute_result"
    }
   ],
   "source": [
    "SVM.score(train_df, y_train)"
   ]
  },
  {
   "cell_type": "code",
   "execution_count": 109,
   "metadata": {},
   "outputs": [
    {
     "data": {
      "text/plain": [
       "0.7431808984216917"
      ]
     },
     "execution_count": 109,
     "metadata": {},
     "output_type": "execute_result"
    }
   ],
   "source": [
    "SVM.score(test_df, y_test)"
   ]
  },
  {
   "cell_type": "code",
   "execution_count": 110,
   "metadata": {},
   "outputs": [
    {
     "data": {
      "text/plain": [
       "DecisionTreeClassifier()"
      ]
     },
     "execution_count": 110,
     "metadata": {},
     "output_type": "execute_result"
    }
   ],
   "source": [
    "DTC.fit(train_df, y_train)"
   ]
  },
  {
   "cell_type": "code",
   "execution_count": 111,
   "metadata": {},
   "outputs": [
    {
     "data": {
      "text/plain": [
       "1.0"
      ]
     },
     "execution_count": 111,
     "metadata": {},
     "output_type": "execute_result"
    }
   ],
   "source": [
    "DTC.score(train_df, y_train)"
   ]
  },
  {
   "cell_type": "code",
   "execution_count": 112,
   "metadata": {},
   "outputs": [
    {
     "data": {
      "text/plain": [
       "0.8251719951436666"
      ]
     },
     "execution_count": 112,
     "metadata": {},
     "output_type": "execute_result"
    }
   ],
   "source": [
    "DTC.score(test_df, y_test)"
   ]
  },
  {
   "cell_type": "code",
   "execution_count": 113,
   "metadata": {},
   "outputs": [
    {
     "data": {
      "text/plain": [
       "RandomForestClassifier()"
      ]
     },
     "execution_count": 113,
     "metadata": {},
     "output_type": "execute_result"
    }
   ],
   "source": [
    "RFC.fit(train_df, y_train)"
   ]
  },
  {
   "cell_type": "code",
   "execution_count": 114,
   "metadata": {},
   "outputs": [
    {
     "data": {
      "text/plain": [
       "0.9999601323605629"
      ]
     },
     "execution_count": 114,
     "metadata": {},
     "output_type": "execute_result"
    }
   ],
   "source": [
    "RFC.score(train_df, y_train)"
   ]
  },
  {
   "cell_type": "code",
   "execution_count": 115,
   "metadata": {},
   "outputs": [
    {
     "data": {
      "text/plain": [
       "0.8792391744233105"
      ]
     },
     "execution_count": 115,
     "metadata": {},
     "output_type": "execute_result"
    }
   ],
   "source": [
    "RFC.score(test_df, y_test)"
   ]
  },
  {
   "cell_type": "markdown",
   "metadata": {},
   "source": [
    "## Logistic regression and SVM saw an improvement of around 6-7% in its performance after scaling the features, but scaling the features has no impace on DTC and RFC"
   ]
  },
  {
   "cell_type": "markdown",
   "metadata": {},
   "source": [
    "# Running k-fold cross validation"
   ]
  },
  {
   "cell_type": "code",
   "execution_count": 116,
   "metadata": {},
   "outputs": [],
   "source": [
    "from sklearn import model_selection"
   ]
  },
  {
   "cell_type": "code",
   "execution_count": 121,
   "metadata": {},
   "outputs": [],
   "source": [
    "from sklearn.neighbors import KNeighborsClassifier\n",
    "from sklearn.ensemble import GradientBoostingClassifier"
   ]
  },
  {
   "cell_type": "code",
   "execution_count": 122,
   "metadata": {},
   "outputs": [],
   "source": [
    "def kfold_validations(X_train, y_train):\n",
    "    \n",
    "    kf = model_selection.KFold(n_splits = 3, shuffle=True, random_state = 42)\n",
    "    \n",
    "    # KFold for Logistic Regression\n",
    "    print(\"\\nRunning kfold validations using Simple Logistic Regression model:\\n\")\n",
    "    LRResults = []\n",
    "    LRModels = []\n",
    "    for train_indices, val_indices in kf.split(X_train , y_train):\n",
    "        LRC = LogisticRegression(n_jobs = -1)\n",
    "        LRC.fit(X_train.iloc[train_indices], y_train.iloc[train_indices])\n",
    "        LRResults.append(LRC.score(X_train.iloc[val_indices], y_train.iloc[val_indices]))\n",
    "        LRModels.append(LRC)\n",
    "        print(\"    \",LRResults[-1])\n",
    "\n",
    "    print(\"\\nMean Accuracy for Logistic Regression model is: \", np.mean(LRResults))\n",
    "    \n",
    "    \n",
    "    # Kfold for KNN classification\n",
    "    print(\"\\nRunning kfold validations using KNN Classification model:\\n\")\n",
    "    KNNResults = []\n",
    "    KNNModels = []\n",
    "    for train_indices, val_indices in kf.split(X_train , y_train):\n",
    "        KNNC = KNeighborsClassifier(n_jobs = -1)\n",
    "        KNNC.fit(X_train.iloc[train_indices], y_train.iloc[train_indices])\n",
    "        KNNResults.append(KNNC.score(X_train.iloc[val_indices], y_train.iloc[val_indices]))\n",
    "        KNNModels.append(KNNC)\n",
    "        print(\"    \",KNNResults[-1])\n",
    "\n",
    "    print(\"\\nMean Accuracy Score for KNN Classification model is: \", np.mean(KNNResults))\n",
    "    \n",
    "    \n",
    "    # Kfold for Support Vector classication\n",
    "    print(\"\\nRunning kfold validations using support vector Classification model:\\n\")\n",
    "    SVMResults = []\n",
    "    SVMModels = []\n",
    "    for train_indices, val_indices in kf.split(X_train , y_train):\n",
    "        SVM = SVC(kernel = 'linear')\n",
    "        SVM.fit(X_train.iloc[train_indices], y_train.iloc[train_indices])\n",
    "        SVMResults.append(SVM.score(X_train.iloc[val_indices], y_train.iloc[val_indices]))\n",
    "        SVMModels.append(SVM)\n",
    "        print(\"    \",SVMResults[-1])\n",
    "\n",
    "    print(\"\\nMean Accuracy for Support Vector Classification model is: \", np.mean(SVMResults))\n",
    "    \n",
    "    \n",
    "    # Kfold for Random Forest classification\n",
    "    print(\"\\nRunning kfold valiations using Random Forest Classification:\\n\")\n",
    "    RFResults = []\n",
    "    RFModels = []\n",
    "    for train_indices, val_indices in kf.split(X_train , y_train):\n",
    "        RFM = RandomForestClassifier(random_state = 42, n_jobs = -1)\n",
    "        RFM.fit(X_train.iloc[train_indices], y_train.iloc[train_indices])\n",
    "        RFResults.append(RFM.score(X_train.iloc[val_indices], y_train.iloc[val_indices]))\n",
    "        RFModels.append(RFM)\n",
    "        print(\"    \",RFResults[-1])\n",
    "\n",
    "    print(\"\\nMean Accuracy for Random Forest Classification model is: \", np.mean(RFResults))\n",
    "    \n",
    "    \n",
    "    # Kfold for Gradient Boost classification\n",
    "    print(\"\\nRunning kfold validations using Gradient Boost Classification:\\n\")\n",
    "    GBResults = []\n",
    "    GBModels = []\n",
    "    for train_indices, val_indices in kf.split(X_train , y_train):\n",
    "        GBR = GradientBoostingClassifier(random_state = 42)\n",
    "        GBR.fit(X_train.iloc[train_indices], y_train.iloc[train_indices])\n",
    "        GBResults.append(GBR.score(X_train.iloc[val_indices], y_train.iloc[val_indices]))\n",
    "        GBModels.append(GBR)\n",
    "\n",
    "        print(\"    \",GBResults[-1])\n",
    "\n",
    "    print(\"\\nMean R2 Score for Gradient Boost Classification model is: \", np.mean(GBResults))\n",
    "    \n",
    "    BestLRM = LRModels[np.argmax(LRResults)]\n",
    "    BestKNN = KNNModels[np.argmax(GBResults)]\n",
    "    BestSVM = SVMModels[np.argmax(SVMResults)]\n",
    "    BestRFM = RFModels[np.argmax(RFResults)]\n",
    "    BestGBM = GBModels[np.argmax(GBResults)]\n",
    "   \n",
    "    \n",
    "    return BestLRM, BestKNN, BestSVM, BestRFM, BestGBM"
   ]
  },
  {
   "cell_type": "code",
   "execution_count": 123,
   "metadata": {},
   "outputs": [
    {
     "name": "stdout",
     "output_type": "stream",
     "text": [
      "\n",
      "Running kfold validations using Simple Logistic Regression model:\n",
      "\n",
      "     0.735079535940677\n",
      "     0.7423753139576605\n",
      "     0.7371127855519675\n",
      "\n",
      "Mean Accuracy for Logistic Regression model is:  0.7381892118167683\n",
      "\n",
      "Running kfold validations using KNN Classification model:\n",
      "\n",
      "     0.7767013515129769\n",
      "     0.7833991149384045\n",
      "     0.78890084918072\n",
      "\n",
      "Mean Accuracy Score for KNN Classification model is:  0.7830004385440338\n",
      "\n",
      "Running kfold validations using support vector Classification model:\n",
      "\n",
      "     0.7312522425547183\n",
      "     0.7351991388589881\n",
      "     0.729338595861739\n",
      "\n",
      "Mean Accuracy for Support Vector Classification model is:  0.7319299924251484\n",
      "\n",
      "Running kfold valiations using Random Forest Classification:\n",
      "\n",
      "     0.8705896423872742\n",
      "     0.8683171869393613\n",
      "     0.8790814495873699\n",
      "\n",
      "Mean Accuracy for Random Forest Classification model is:  0.8726627596380018\n",
      "\n",
      "Running kfold validations using Gradient Boost Classification:\n",
      "\n",
      "     0.8469082645616554\n",
      "     0.8491807200095682\n",
      "     0.8562372921899294\n",
      "\n",
      "Mean R2 Score for Gradient Boost Classification model is:  0.850775425587051\n"
     ]
    }
   ],
   "source": [
    "BestLRM, BestKNN, BestSVM, BestRFM, BestGBM = kfold_validations(X_train, y_train)"
   ]
  },
  {
   "cell_type": "markdown",
   "metadata": {},
   "source": [
    "## I will select the best performing model out of above 5, that is Random Forest classifier with accuracy of 87.90%"
   ]
  },
  {
   "cell_type": "code",
   "execution_count": 125,
   "metadata": {},
   "outputs": [],
   "source": [
    "from sklearn.model_selection import GridSearchCV"
   ]
  },
  {
   "cell_type": "code",
   "execution_count": 126,
   "metadata": {},
   "outputs": [],
   "source": [
    "def param_tuning_RFM(BestRFM, X_train, y_train):\n",
    "    \n",
    "    RF_parameters = {\"n_estimators\"      : [100,200],\n",
    "                     \"max_features\"      : [\"auto\", \"sqrt\"],\n",
    "                     \"max_depth\"         : [4,6],\n",
    "                     \"min_samples_split\" : [2,3],\n",
    "                     \"warm_start\"        : [True, False],\n",
    "                     \"random_state\"      : [43,50,42],\n",
    "                     }\n",
    "    RF_grid = GridSearchCV(BestRFM, RF_parameters, n_jobs=-1, cv=5, verbose = 2, return_train_score=True)\n",
    "    RF_grid.fit(X_train, y_train)\n",
    "    return RF_grid"
   ]
  },
  {
   "cell_type": "code",
   "execution_count": 127,
   "metadata": {},
   "outputs": [
    {
     "name": "stdout",
     "output_type": "stream",
     "text": [
      "Fitting 5 folds for each of 96 candidates, totalling 480 fits\n"
     ]
    }
   ],
   "source": [
    "RF_grid = param_tuning_RFM(BestRFM, X_train, y_train)"
   ]
  },
  {
   "cell_type": "code",
   "execution_count": 128,
   "metadata": {},
   "outputs": [
    {
     "data": {
      "text/plain": [
       "{'max_depth': 6,\n",
       " 'max_features': 'auto',\n",
       " 'min_samples_split': 2,\n",
       " 'n_estimators': 100,\n",
       " 'random_state': 50,\n",
       " 'warm_start': True}"
      ]
     },
     "execution_count": 128,
     "metadata": {},
     "output_type": "execute_result"
    }
   ],
   "source": [
    "RF_grid.best_params_"
   ]
  },
  {
   "cell_type": "code",
   "execution_count": 129,
   "metadata": {},
   "outputs": [
    {
     "data": {
      "text/plain": [
       "0.8441179336348918"
      ]
     },
     "execution_count": 129,
     "metadata": {},
     "output_type": "execute_result"
    }
   ],
   "source": [
    "RF_grid.best_score_"
   ]
  },
  {
   "cell_type": "code",
   "execution_count": 130,
   "metadata": {},
   "outputs": [],
   "source": [
    "Tuned_RFC = RandomForestClassifier(max_depth=6,\n",
    "                                  max_features='auto',\n",
    "                                  min_samples_split=2,\n",
    "                                  n_estimators = 100,\n",
    "                                  random_state= 50,\n",
    "                                  warm_start = True)"
   ]
  },
  {
   "cell_type": "code",
   "execution_count": 131,
   "metadata": {},
   "outputs": [
    {
     "data": {
      "text/plain": [
       "RandomForestClassifier(max_depth=6, random_state=50, warm_start=True)"
      ]
     },
     "execution_count": 131,
     "metadata": {},
     "output_type": "execute_result"
    }
   ],
   "source": [
    "Tuned_RFC.fit(X_train, y_train)"
   ]
  },
  {
   "cell_type": "code",
   "execution_count": 132,
   "metadata": {},
   "outputs": [
    {
     "data": {
      "text/plain": [
       "0.8492205876490053"
      ]
     },
     "execution_count": 132,
     "metadata": {},
     "output_type": "execute_result"
    }
   ],
   "source": [
    "Tuned_RFC.score(X_train, y_train)"
   ]
  },
  {
   "cell_type": "code",
   "execution_count": 133,
   "metadata": {},
   "outputs": [
    {
     "data": {
      "text/plain": [
       "0.8462970457304735"
      ]
     },
     "execution_count": 133,
     "metadata": {},
     "output_type": "execute_result"
    }
   ],
   "source": [
    "Tuned_RFC.score(X_test, y_test)"
   ]
  },
  {
   "cell_type": "code",
   "execution_count": 134,
   "metadata": {},
   "outputs": [],
   "source": [
    "from sklearn.metrics import confusion_matrix\n",
    "from sklearn.metrics import classification_report"
   ]
  },
  {
   "cell_type": "code",
   "execution_count": 135,
   "metadata": {},
   "outputs": [],
   "source": [
    "test_predictions = Tuned_RFC.predict(X_test)"
   ]
  },
  {
   "cell_type": "code",
   "execution_count": 136,
   "metadata": {},
   "outputs": [],
   "source": [
    "train_predictions = Tuned_RFC.predict(X_train)"
   ]
  },
  {
   "cell_type": "code",
   "execution_count": 137,
   "metadata": {},
   "outputs": [
    {
     "name": "stdout",
     "output_type": "stream",
     "text": [
      "[[15296  1462]\n",
      " [ 2320  6005]]\n"
     ]
    }
   ],
   "source": [
    "print(confusion_matrix(y_train, train_predictions))"
   ]
  },
  {
   "cell_type": "code",
   "execution_count": 138,
   "metadata": {},
   "outputs": [
    {
     "name": "stdout",
     "output_type": "stream",
     "text": [
      "[[7515  740]\n",
      " [1159 2941]]\n"
     ]
    }
   ],
   "source": [
    "print(confusion_matrix(y_test, test_predictions))"
   ]
  },
  {
   "cell_type": "code",
   "execution_count": 139,
   "metadata": {},
   "outputs": [
    {
     "name": "stdout",
     "output_type": "stream",
     "text": [
      "              precision    recall  f1-score   support\n",
      "\n",
      "           0       0.87      0.91      0.89     16758\n",
      "           1       0.80      0.72      0.76      8325\n",
      "\n",
      "    accuracy                           0.85     25083\n",
      "   macro avg       0.84      0.82      0.83     25083\n",
      "weighted avg       0.85      0.85      0.85     25083\n",
      "\n"
     ]
    }
   ],
   "source": [
    "print(classification_report(y_train, train_predictions))"
   ]
  },
  {
   "cell_type": "code",
   "execution_count": 140,
   "metadata": {},
   "outputs": [],
   "source": [
    "import pickle"
   ]
  },
  {
   "cell_type": "code",
   "execution_count": 141,
   "metadata": {},
   "outputs": [],
   "source": [
    "pickle.dump(Tuned_RFC, open('Tuned_RFC_model', 'wb'))"
   ]
  },
  {
   "cell_type": "code",
   "execution_count": null,
   "metadata": {},
   "outputs": [],
   "source": []
  }
 ],
 "metadata": {
  "kernelspec": {
   "display_name": "Python 3",
   "language": "python",
   "name": "python3"
  },
  "language_info": {
   "codemirror_mode": {
    "name": "ipython",
    "version": 3
   },
   "file_extension": ".py",
   "mimetype": "text/x-python",
   "name": "python",
   "nbconvert_exporter": "python",
   "pygments_lexer": "ipython3",
   "version": "3.7.8"
  }
 },
 "nbformat": 4,
 "nbformat_minor": 4
}
