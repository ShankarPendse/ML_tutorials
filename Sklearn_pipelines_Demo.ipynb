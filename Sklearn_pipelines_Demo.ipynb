{
 "cells": [
  {
   "cell_type": "code",
   "execution_count": 1,
   "metadata": {},
   "outputs": [],
   "source": [
    "import numpy as np\n",
    "import pandas as pd\n",
    "from sklearn.model_selection import train_test_split\n",
    "from sklearn.preprocessing import StandardScaler, OneHotEncoder\n",
    "from sklearn.impute import SimpleImputer\n",
    "from sklearn.compose import ColumnTransformer\n",
    "from sklearn.pipeline import Pipeline\n",
    "from sklearn.ensemble import RandomForestClassifier"
   ]
  },
  {
   "cell_type": "code",
   "execution_count": 2,
   "metadata": {},
   "outputs": [],
   "source": [
    "data_df = pd.read_csv(\"titanic/train.csv\")"
   ]
  },
  {
   "cell_type": "code",
   "execution_count": 3,
   "metadata": {},
   "outputs": [
    {
     "data": {
      "text/html": [
       "<div>\n",
       "<style scoped>\n",
       "    .dataframe tbody tr th:only-of-type {\n",
       "        vertical-align: middle;\n",
       "    }\n",
       "\n",
       "    .dataframe tbody tr th {\n",
       "        vertical-align: top;\n",
       "    }\n",
       "\n",
       "    .dataframe thead th {\n",
       "        text-align: right;\n",
       "    }\n",
       "</style>\n",
       "<table border=\"1\" class=\"dataframe\">\n",
       "  <thead>\n",
       "    <tr style=\"text-align: right;\">\n",
       "      <th></th>\n",
       "      <th>PassengerId</th>\n",
       "      <th>Survived</th>\n",
       "      <th>Pclass</th>\n",
       "      <th>Name</th>\n",
       "      <th>Sex</th>\n",
       "      <th>Age</th>\n",
       "      <th>SibSp</th>\n",
       "      <th>Parch</th>\n",
       "      <th>Ticket</th>\n",
       "      <th>Fare</th>\n",
       "      <th>Cabin</th>\n",
       "      <th>Embarked</th>\n",
       "    </tr>\n",
       "  </thead>\n",
       "  <tbody>\n",
       "    <tr>\n",
       "      <th>0</th>\n",
       "      <td>1</td>\n",
       "      <td>0</td>\n",
       "      <td>3</td>\n",
       "      <td>Braund, Mr. Owen Harris</td>\n",
       "      <td>male</td>\n",
       "      <td>22.0</td>\n",
       "      <td>1</td>\n",
       "      <td>0</td>\n",
       "      <td>A/5 21171</td>\n",
       "      <td>7.2500</td>\n",
       "      <td>NaN</td>\n",
       "      <td>S</td>\n",
       "    </tr>\n",
       "    <tr>\n",
       "      <th>1</th>\n",
       "      <td>2</td>\n",
       "      <td>1</td>\n",
       "      <td>1</td>\n",
       "      <td>Cumings, Mrs. John Bradley (Florence Briggs Th...</td>\n",
       "      <td>female</td>\n",
       "      <td>38.0</td>\n",
       "      <td>1</td>\n",
       "      <td>0</td>\n",
       "      <td>PC 17599</td>\n",
       "      <td>71.2833</td>\n",
       "      <td>C85</td>\n",
       "      <td>C</td>\n",
       "    </tr>\n",
       "    <tr>\n",
       "      <th>2</th>\n",
       "      <td>3</td>\n",
       "      <td>1</td>\n",
       "      <td>3</td>\n",
       "      <td>Heikkinen, Miss. Laina</td>\n",
       "      <td>female</td>\n",
       "      <td>26.0</td>\n",
       "      <td>0</td>\n",
       "      <td>0</td>\n",
       "      <td>STON/O2. 3101282</td>\n",
       "      <td>7.9250</td>\n",
       "      <td>NaN</td>\n",
       "      <td>S</td>\n",
       "    </tr>\n",
       "    <tr>\n",
       "      <th>3</th>\n",
       "      <td>4</td>\n",
       "      <td>1</td>\n",
       "      <td>1</td>\n",
       "      <td>Futrelle, Mrs. Jacques Heath (Lily May Peel)</td>\n",
       "      <td>female</td>\n",
       "      <td>35.0</td>\n",
       "      <td>1</td>\n",
       "      <td>0</td>\n",
       "      <td>113803</td>\n",
       "      <td>53.1000</td>\n",
       "      <td>C123</td>\n",
       "      <td>S</td>\n",
       "    </tr>\n",
       "    <tr>\n",
       "      <th>4</th>\n",
       "      <td>5</td>\n",
       "      <td>0</td>\n",
       "      <td>3</td>\n",
       "      <td>Allen, Mr. William Henry</td>\n",
       "      <td>male</td>\n",
       "      <td>35.0</td>\n",
       "      <td>0</td>\n",
       "      <td>0</td>\n",
       "      <td>373450</td>\n",
       "      <td>8.0500</td>\n",
       "      <td>NaN</td>\n",
       "      <td>S</td>\n",
       "    </tr>\n",
       "  </tbody>\n",
       "</table>\n",
       "</div>"
      ],
      "text/plain": [
       "   PassengerId  Survived  Pclass  \\\n",
       "0            1         0       3   \n",
       "1            2         1       1   \n",
       "2            3         1       3   \n",
       "3            4         1       1   \n",
       "4            5         0       3   \n",
       "\n",
       "                                                Name     Sex   Age  SibSp  \\\n",
       "0                            Braund, Mr. Owen Harris    male  22.0      1   \n",
       "1  Cumings, Mrs. John Bradley (Florence Briggs Th...  female  38.0      1   \n",
       "2                             Heikkinen, Miss. Laina  female  26.0      0   \n",
       "3       Futrelle, Mrs. Jacques Heath (Lily May Peel)  female  35.0      1   \n",
       "4                           Allen, Mr. William Henry    male  35.0      0   \n",
       "\n",
       "   Parch            Ticket     Fare Cabin Embarked  \n",
       "0      0         A/5 21171   7.2500   NaN        S  \n",
       "1      0          PC 17599  71.2833   C85        C  \n",
       "2      0  STON/O2. 3101282   7.9250   NaN        S  \n",
       "3      0            113803  53.1000  C123        S  \n",
       "4      0            373450   8.0500   NaN        S  "
      ]
     },
     "execution_count": 3,
     "metadata": {},
     "output_type": "execute_result"
    }
   ],
   "source": [
    "data_df.head()"
   ]
  },
  {
   "cell_type": "code",
   "execution_count": 4,
   "metadata": {},
   "outputs": [
    {
     "data": {
      "text/plain": [
       "(891, 12)"
      ]
     },
     "execution_count": 4,
     "metadata": {},
     "output_type": "execute_result"
    }
   ],
   "source": [
    "data_df.shape"
   ]
  },
  {
   "cell_type": "code",
   "execution_count": 5,
   "metadata": {},
   "outputs": [
    {
     "data": {
      "text/plain": [
       "PassengerId      0\n",
       "Survived         0\n",
       "Pclass           0\n",
       "Name             0\n",
       "Sex              0\n",
       "Age            177\n",
       "SibSp            0\n",
       "Parch            0\n",
       "Ticket           0\n",
       "Fare             0\n",
       "Cabin          687\n",
       "Embarked         2\n",
       "dtype: int64"
      ]
     },
     "execution_count": 5,
     "metadata": {},
     "output_type": "execute_result"
    }
   ],
   "source": [
    "data_df.isnull().sum()"
   ]
  },
  {
   "cell_type": "code",
   "execution_count": 6,
   "metadata": {},
   "outputs": [],
   "source": [
    "data_df.drop(['PassengerId', 'Name', 'Ticket', 'Cabin'], axis = 1, inplace = True)"
   ]
  },
  {
   "cell_type": "code",
   "execution_count": 7,
   "metadata": {},
   "outputs": [
    {
     "data": {
      "text/plain": [
       "Survived      0\n",
       "Pclass        0\n",
       "Sex           0\n",
       "Age         177\n",
       "SibSp         0\n",
       "Parch         0\n",
       "Fare          0\n",
       "Embarked      2\n",
       "dtype: int64"
      ]
     },
     "execution_count": 7,
     "metadata": {},
     "output_type": "execute_result"
    }
   ],
   "source": [
    "data_df.isnull().sum()"
   ]
  },
  {
   "cell_type": "code",
   "execution_count": 8,
   "metadata": {},
   "outputs": [
    {
     "data": {
      "text/html": [
       "<div>\n",
       "<style scoped>\n",
       "    .dataframe tbody tr th:only-of-type {\n",
       "        vertical-align: middle;\n",
       "    }\n",
       "\n",
       "    .dataframe tbody tr th {\n",
       "        vertical-align: top;\n",
       "    }\n",
       "\n",
       "    .dataframe thead th {\n",
       "        text-align: right;\n",
       "    }\n",
       "</style>\n",
       "<table border=\"1\" class=\"dataframe\">\n",
       "  <thead>\n",
       "    <tr style=\"text-align: right;\">\n",
       "      <th></th>\n",
       "      <th>Survived</th>\n",
       "      <th>Pclass</th>\n",
       "      <th>Sex</th>\n",
       "      <th>Age</th>\n",
       "      <th>SibSp</th>\n",
       "      <th>Parch</th>\n",
       "      <th>Fare</th>\n",
       "      <th>Embarked</th>\n",
       "    </tr>\n",
       "  </thead>\n",
       "  <tbody>\n",
       "    <tr>\n",
       "      <th>0</th>\n",
       "      <td>0</td>\n",
       "      <td>3</td>\n",
       "      <td>male</td>\n",
       "      <td>22.0</td>\n",
       "      <td>1</td>\n",
       "      <td>0</td>\n",
       "      <td>7.2500</td>\n",
       "      <td>S</td>\n",
       "    </tr>\n",
       "    <tr>\n",
       "      <th>1</th>\n",
       "      <td>1</td>\n",
       "      <td>1</td>\n",
       "      <td>female</td>\n",
       "      <td>38.0</td>\n",
       "      <td>1</td>\n",
       "      <td>0</td>\n",
       "      <td>71.2833</td>\n",
       "      <td>C</td>\n",
       "    </tr>\n",
       "    <tr>\n",
       "      <th>2</th>\n",
       "      <td>1</td>\n",
       "      <td>3</td>\n",
       "      <td>female</td>\n",
       "      <td>26.0</td>\n",
       "      <td>0</td>\n",
       "      <td>0</td>\n",
       "      <td>7.9250</td>\n",
       "      <td>S</td>\n",
       "    </tr>\n",
       "    <tr>\n",
       "      <th>3</th>\n",
       "      <td>1</td>\n",
       "      <td>1</td>\n",
       "      <td>female</td>\n",
       "      <td>35.0</td>\n",
       "      <td>1</td>\n",
       "      <td>0</td>\n",
       "      <td>53.1000</td>\n",
       "      <td>S</td>\n",
       "    </tr>\n",
       "    <tr>\n",
       "      <th>4</th>\n",
       "      <td>0</td>\n",
       "      <td>3</td>\n",
       "      <td>male</td>\n",
       "      <td>35.0</td>\n",
       "      <td>0</td>\n",
       "      <td>0</td>\n",
       "      <td>8.0500</td>\n",
       "      <td>S</td>\n",
       "    </tr>\n",
       "  </tbody>\n",
       "</table>\n",
       "</div>"
      ],
      "text/plain": [
       "   Survived  Pclass     Sex   Age  SibSp  Parch     Fare Embarked\n",
       "0         0       3    male  22.0      1      0   7.2500        S\n",
       "1         1       1  female  38.0      1      0  71.2833        C\n",
       "2         1       3  female  26.0      0      0   7.9250        S\n",
       "3         1       1  female  35.0      1      0  53.1000        S\n",
       "4         0       3    male  35.0      0      0   8.0500        S"
      ]
     },
     "execution_count": 8,
     "metadata": {},
     "output_type": "execute_result"
    }
   ],
   "source": [
    "data_df.head()"
   ]
  },
  {
   "cell_type": "markdown",
   "metadata": {},
   "source": [
    "# Split the data into train and test set"
   ]
  },
  {
   "cell_type": "code",
   "execution_count": 9,
   "metadata": {},
   "outputs": [],
   "source": [
    "X_train, X_test, y_train, y_test = train_test_split(data_df.drop('Survived', axis = 1), data_df['Survived'], test_size = 0.2)"
   ]
  },
  {
   "cell_type": "code",
   "execution_count": 10,
   "metadata": {},
   "outputs": [
    {
     "data": {
      "text/plain": [
       "((712, 7), (179, 7))"
      ]
     },
     "execution_count": 10,
     "metadata": {},
     "output_type": "execute_result"
    }
   ],
   "source": [
    "X_train.shape, X_test.shape"
   ]
  },
  {
   "cell_type": "markdown",
   "metadata": {},
   "source": [
    "# Let's create column transformers"
   ]
  },
  {
   "cell_type": "code",
   "execution_count": 11,
   "metadata": {},
   "outputs": [
    {
     "data": {
      "text/html": [
       "<div>\n",
       "<style scoped>\n",
       "    .dataframe tbody tr th:only-of-type {\n",
       "        vertical-align: middle;\n",
       "    }\n",
       "\n",
       "    .dataframe tbody tr th {\n",
       "        vertical-align: top;\n",
       "    }\n",
       "\n",
       "    .dataframe thead th {\n",
       "        text-align: right;\n",
       "    }\n",
       "</style>\n",
       "<table border=\"1\" class=\"dataframe\">\n",
       "  <thead>\n",
       "    <tr style=\"text-align: right;\">\n",
       "      <th></th>\n",
       "      <th>Pclass</th>\n",
       "      <th>Sex</th>\n",
       "      <th>Age</th>\n",
       "      <th>SibSp</th>\n",
       "      <th>Parch</th>\n",
       "      <th>Fare</th>\n",
       "      <th>Embarked</th>\n",
       "    </tr>\n",
       "  </thead>\n",
       "  <tbody>\n",
       "    <tr>\n",
       "      <th>115</th>\n",
       "      <td>3</td>\n",
       "      <td>male</td>\n",
       "      <td>21.0</td>\n",
       "      <td>0</td>\n",
       "      <td>0</td>\n",
       "      <td>7.925</td>\n",
       "      <td>S</td>\n",
       "    </tr>\n",
       "    <tr>\n",
       "      <th>417</th>\n",
       "      <td>2</td>\n",
       "      <td>female</td>\n",
       "      <td>18.0</td>\n",
       "      <td>0</td>\n",
       "      <td>2</td>\n",
       "      <td>13.000</td>\n",
       "      <td>S</td>\n",
       "    </tr>\n",
       "    <tr>\n",
       "      <th>446</th>\n",
       "      <td>2</td>\n",
       "      <td>female</td>\n",
       "      <td>13.0</td>\n",
       "      <td>0</td>\n",
       "      <td>1</td>\n",
       "      <td>19.500</td>\n",
       "      <td>S</td>\n",
       "    </tr>\n",
       "    <tr>\n",
       "      <th>249</th>\n",
       "      <td>2</td>\n",
       "      <td>male</td>\n",
       "      <td>54.0</td>\n",
       "      <td>1</td>\n",
       "      <td>0</td>\n",
       "      <td>26.000</td>\n",
       "      <td>S</td>\n",
       "    </tr>\n",
       "    <tr>\n",
       "      <th>672</th>\n",
       "      <td>2</td>\n",
       "      <td>male</td>\n",
       "      <td>70.0</td>\n",
       "      <td>0</td>\n",
       "      <td>0</td>\n",
       "      <td>10.500</td>\n",
       "      <td>S</td>\n",
       "    </tr>\n",
       "  </tbody>\n",
       "</table>\n",
       "</div>"
      ],
      "text/plain": [
       "     Pclass     Sex   Age  SibSp  Parch    Fare Embarked\n",
       "115       3    male  21.0      0      0   7.925        S\n",
       "417       2  female  18.0      0      2  13.000        S\n",
       "446       2  female  13.0      0      1  19.500        S\n",
       "249       2    male  54.0      1      0  26.000        S\n",
       "672       2    male  70.0      0      0  10.500        S"
      ]
     },
     "execution_count": 11,
     "metadata": {},
     "output_type": "execute_result"
    }
   ],
   "source": [
    "X_train.head()"
   ]
  },
  {
   "cell_type": "code",
   "execution_count": 18,
   "metadata": {},
   "outputs": [],
   "source": [
    "# 1) Handle the missing values\n",
    "\n",
    "ctrf_impute = ColumnTransformer([\n",
    "                                    (\"impute_age\", SimpleImputer(), [2]),\n",
    "                                    (\"impute_embarked\", SimpleImputer(strategy=\"most_frequent\"), [6])\n",
    "                                ], remainder = 'passthrough')"
   ]
  },
  {
   "cell_type": "code",
   "execution_count": 19,
   "metadata": {},
   "outputs": [],
   "source": [
    "transform_pipe = Pipeline([\n",
    "                            (\"ctrf_impute\", ctrf_impute)\n",
    "                        ])"
   ]
  },
  {
   "cell_type": "code",
   "execution_count": 20,
   "metadata": {},
   "outputs": [
    {
     "data": {
      "text/plain": [
       "array([[21.0, 'S', 3, ..., 0, 0, 7.925],\n",
       "       [18.0, 'S', 2, ..., 0, 2, 13.0],\n",
       "       [13.0, 'S', 2, ..., 0, 1, 19.5],\n",
       "       ...,\n",
       "       [51.0, 'S', 1, ..., 1, 0, 77.9583],\n",
       "       [33.0, 'S', 2, ..., 1, 2, 27.75],\n",
       "       [3.0, 'S', 3, ..., 4, 2, 31.3875]], dtype=object)"
      ]
     },
     "execution_count": 20,
     "metadata": {},
     "output_type": "execute_result"
    }
   ],
   "source": [
    "transform_pipe.fit_transform(X_train)"
   ]
  },
  {
   "cell_type": "markdown",
   "metadata": {},
   "source": [
    "# The column order is not preserved after applying column transformer and also, we have to set remainder to passthrough, otherwise, we will loose other columns (features)"
   ]
  },
  {
   "cell_type": "markdown",
   "metadata": {},
   "source": [
    "# How to preserve column orders while using columntransformers"
   ]
  },
  {
   "cell_type": "code",
   "execution_count": 21,
   "metadata": {},
   "outputs": [
    {
     "data": {
      "text/html": [
       "<div>\n",
       "<style scoped>\n",
       "    .dataframe tbody tr th:only-of-type {\n",
       "        vertical-align: middle;\n",
       "    }\n",
       "\n",
       "    .dataframe tbody tr th {\n",
       "        vertical-align: top;\n",
       "    }\n",
       "\n",
       "    .dataframe thead th {\n",
       "        text-align: right;\n",
       "    }\n",
       "</style>\n",
       "<table border=\"1\" class=\"dataframe\">\n",
       "  <thead>\n",
       "    <tr style=\"text-align: right;\">\n",
       "      <th></th>\n",
       "      <th>Pclass</th>\n",
       "      <th>Sex</th>\n",
       "      <th>Age</th>\n",
       "      <th>SibSp</th>\n",
       "      <th>Parch</th>\n",
       "      <th>Fare</th>\n",
       "      <th>Embarked</th>\n",
       "    </tr>\n",
       "  </thead>\n",
       "  <tbody>\n",
       "    <tr>\n",
       "      <th>115</th>\n",
       "      <td>3</td>\n",
       "      <td>male</td>\n",
       "      <td>21.0</td>\n",
       "      <td>0</td>\n",
       "      <td>0</td>\n",
       "      <td>7.925</td>\n",
       "      <td>S</td>\n",
       "    </tr>\n",
       "    <tr>\n",
       "      <th>417</th>\n",
       "      <td>2</td>\n",
       "      <td>female</td>\n",
       "      <td>18.0</td>\n",
       "      <td>0</td>\n",
       "      <td>2</td>\n",
       "      <td>13.000</td>\n",
       "      <td>S</td>\n",
       "    </tr>\n",
       "    <tr>\n",
       "      <th>446</th>\n",
       "      <td>2</td>\n",
       "      <td>female</td>\n",
       "      <td>13.0</td>\n",
       "      <td>0</td>\n",
       "      <td>1</td>\n",
       "      <td>19.500</td>\n",
       "      <td>S</td>\n",
       "    </tr>\n",
       "    <tr>\n",
       "      <th>249</th>\n",
       "      <td>2</td>\n",
       "      <td>male</td>\n",
       "      <td>54.0</td>\n",
       "      <td>1</td>\n",
       "      <td>0</td>\n",
       "      <td>26.000</td>\n",
       "      <td>S</td>\n",
       "    </tr>\n",
       "    <tr>\n",
       "      <th>672</th>\n",
       "      <td>2</td>\n",
       "      <td>male</td>\n",
       "      <td>70.0</td>\n",
       "      <td>0</td>\n",
       "      <td>0</td>\n",
       "      <td>10.500</td>\n",
       "      <td>S</td>\n",
       "    </tr>\n",
       "  </tbody>\n",
       "</table>\n",
       "</div>"
      ],
      "text/plain": [
       "     Pclass     Sex   Age  SibSp  Parch    Fare Embarked\n",
       "115       3    male  21.0      0      0   7.925        S\n",
       "417       2  female  18.0      0      2  13.000        S\n",
       "446       2  female  13.0      0      1  19.500        S\n",
       "249       2    male  54.0      1      0  26.000        S\n",
       "672       2    male  70.0      0      0  10.500        S"
      ]
     },
     "execution_count": 21,
     "metadata": {},
     "output_type": "execute_result"
    }
   ],
   "source": [
    "X_train.head()"
   ]
  },
  {
   "cell_type": "code",
   "execution_count": 22,
   "metadata": {},
   "outputs": [],
   "source": [
    "# handle missing values:\n",
    "ctrf_impute = ColumnTransformer([  (\"pclass_sex\", \"passthrough\", [0,1]),\n",
    "                                   (\"impute_age\", SimpleImputer(), [2]),\n",
    "                                   (\"sibsp_parch_fare\", \"passthrough\", [3,4,5]),\n",
    "                                   (\"impute embarked\", SimpleImputer(strategy = 'most_frequent'), [6])\n",
    "                                ], verbose = True, remainder='passthrough')"
   ]
  },
  {
   "cell_type": "code",
   "execution_count": 23,
   "metadata": {},
   "outputs": [],
   "source": [
    "# Handle categorial columns\n",
    "ctrf_categorical = ColumnTransformer([  (\"pclass\", \"passthrough\", [0]),\n",
    "                                        (\"one_hot_encoding_sex\", OneHotEncoder(sparse=False, handle_unknown='ignore'), [1]),\n",
    "                                        (\"age_sibsip_parch_fare\", \"passthrough\", [2,3,4,5]),\n",
    "                                        (\"one_hot_encoding_embarked\", OneHotEncoder(sparse=False, handle_unknown='ignore'), [6])\n",
    "                                     ], remainder='passthrough')"
   ]
  },
  {
   "cell_type": "code",
   "execution_count": 24,
   "metadata": {},
   "outputs": [],
   "source": [
    "# Scaling\n",
    "ctrf_scaling = ColumnTransformer([\n",
    "                                    (\"standard_scalar\", StandardScaler(), [3,6])\n",
    "                                 ], remainder='passthrough')"
   ]
  },
  {
   "cell_type": "code",
   "execution_count": 26,
   "metadata": {},
   "outputs": [],
   "source": [
    "clf = RandomForestClassifier()"
   ]
  },
  {
   "cell_type": "markdown",
   "metadata": {},
   "source": [
    "# Lets create a pipeline"
   ]
  },
  {
   "cell_type": "code",
   "execution_count": 27,
   "metadata": {},
   "outputs": [],
   "source": [
    "model = Pipeline([\n",
    "                    (\"handle missing values\", ctrf_impute),\n",
    "                    (\"handle categorical columns\", ctrf_categorical),\n",
    "                    (\"scaling\", ctrf_scaling),\n",
    "                    (\"train\", clf)\n",
    "                ])"
   ]
  },
  {
   "cell_type": "code",
   "execution_count": 28,
   "metadata": {
    "scrolled": true
   },
   "outputs": [
    {
     "data": {
      "text/plain": [
       "Pipeline(steps=[('handle missing values',\n",
       "                 ColumnTransformer(remainder='passthrough',\n",
       "                                   transformers=[('pclass_sex', 'passthrough',\n",
       "                                                  [0, 1]),\n",
       "                                                 ('impute_age', SimpleImputer(),\n",
       "                                                  [2]),\n",
       "                                                 ('sibsp_parch_fare',\n",
       "                                                  'passthrough', [3, 4, 5]),\n",
       "                                                 ('impute embarked',\n",
       "                                                  SimpleImputer(strategy='most_frequent'),\n",
       "                                                  [6])],\n",
       "                                   verbose=True)),\n",
       "                ('handle categorical columns',\n",
       "                 ColumnTransformer(remainder='passth...\n",
       "                                                 ('one_hot_encoding_sex',\n",
       "                                                  OneHotEncoder(handle_unknown='ignore',\n",
       "                                                                sparse=False),\n",
       "                                                  [1]),\n",
       "                                                 ('age_sibsip_parch_fare',\n",
       "                                                  'passthrough', [2, 3, 4, 5]),\n",
       "                                                 ('one_hot_encoding_embarked',\n",
       "                                                  OneHotEncoder(handle_unknown='ignore',\n",
       "                                                                sparse=False),\n",
       "                                                  [6])])),\n",
       "                ('scaling',\n",
       "                 ColumnTransformer(remainder='passthrough',\n",
       "                                   transformers=[('standard_scalar',\n",
       "                                                  StandardScaler(), [3, 6])])),\n",
       "                ('train', RandomForestClassifier())])"
      ]
     },
     "execution_count": 28,
     "metadata": {},
     "output_type": "execute_result"
    }
   ],
   "source": [
    "model"
   ]
  },
  {
   "cell_type": "code",
   "execution_count": 29,
   "metadata": {},
   "outputs": [],
   "source": [
    "from sklearn import set_config"
   ]
  },
  {
   "cell_type": "code",
   "execution_count": 30,
   "metadata": {},
   "outputs": [],
   "source": [
    "set_config(display = 'diagram')"
   ]
  },
  {
   "cell_type": "code",
   "execution_count": 31,
   "metadata": {},
   "outputs": [
    {
     "data": {
      "text/html": [
       "<style>#sk-7765c20f-17a6-4127-b4c4-7efbca672b96 {color: black;background-color: white;}#sk-7765c20f-17a6-4127-b4c4-7efbca672b96 pre{padding: 0;}#sk-7765c20f-17a6-4127-b4c4-7efbca672b96 div.sk-toggleable {background-color: white;}#sk-7765c20f-17a6-4127-b4c4-7efbca672b96 label.sk-toggleable__label {cursor: pointer;display: block;width: 100%;margin-bottom: 0;padding: 0.3em;box-sizing: border-box;text-align: center;}#sk-7765c20f-17a6-4127-b4c4-7efbca672b96 label.sk-toggleable__label-arrow:before {content: \"▸\";float: left;margin-right: 0.25em;color: #696969;}#sk-7765c20f-17a6-4127-b4c4-7efbca672b96 label.sk-toggleable__label-arrow:hover:before {color: black;}#sk-7765c20f-17a6-4127-b4c4-7efbca672b96 div.sk-estimator:hover label.sk-toggleable__label-arrow:before {color: black;}#sk-7765c20f-17a6-4127-b4c4-7efbca672b96 div.sk-toggleable__content {max-height: 0;max-width: 0;overflow: hidden;text-align: left;background-color: #f0f8ff;}#sk-7765c20f-17a6-4127-b4c4-7efbca672b96 div.sk-toggleable__content pre {margin: 0.2em;color: black;border-radius: 0.25em;background-color: #f0f8ff;}#sk-7765c20f-17a6-4127-b4c4-7efbca672b96 input.sk-toggleable__control:checked~div.sk-toggleable__content {max-height: 200px;max-width: 100%;overflow: auto;}#sk-7765c20f-17a6-4127-b4c4-7efbca672b96 input.sk-toggleable__control:checked~label.sk-toggleable__label-arrow:before {content: \"▾\";}#sk-7765c20f-17a6-4127-b4c4-7efbca672b96 div.sk-estimator input.sk-toggleable__control:checked~label.sk-toggleable__label {background-color: #d4ebff;}#sk-7765c20f-17a6-4127-b4c4-7efbca672b96 div.sk-label input.sk-toggleable__control:checked~label.sk-toggleable__label {background-color: #d4ebff;}#sk-7765c20f-17a6-4127-b4c4-7efbca672b96 input.sk-hidden--visually {border: 0;clip: rect(1px 1px 1px 1px);clip: rect(1px, 1px, 1px, 1px);height: 1px;margin: -1px;overflow: hidden;padding: 0;position: absolute;width: 1px;}#sk-7765c20f-17a6-4127-b4c4-7efbca672b96 div.sk-estimator {font-family: monospace;background-color: #f0f8ff;border: 1px dotted black;border-radius: 0.25em;box-sizing: border-box;margin-bottom: 0.5em;}#sk-7765c20f-17a6-4127-b4c4-7efbca672b96 div.sk-estimator:hover {background-color: #d4ebff;}#sk-7765c20f-17a6-4127-b4c4-7efbca672b96 div.sk-parallel-item::after {content: \"\";width: 100%;border-bottom: 1px solid gray;flex-grow: 1;}#sk-7765c20f-17a6-4127-b4c4-7efbca672b96 div.sk-label:hover label.sk-toggleable__label {background-color: #d4ebff;}#sk-7765c20f-17a6-4127-b4c4-7efbca672b96 div.sk-serial::before {content: \"\";position: absolute;border-left: 1px solid gray;box-sizing: border-box;top: 2em;bottom: 0;left: 50%;}#sk-7765c20f-17a6-4127-b4c4-7efbca672b96 div.sk-serial {display: flex;flex-direction: column;align-items: center;background-color: white;padding-right: 0.2em;padding-left: 0.2em;}#sk-7765c20f-17a6-4127-b4c4-7efbca672b96 div.sk-item {z-index: 1;}#sk-7765c20f-17a6-4127-b4c4-7efbca672b96 div.sk-parallel {display: flex;align-items: stretch;justify-content: center;background-color: white;}#sk-7765c20f-17a6-4127-b4c4-7efbca672b96 div.sk-parallel::before {content: \"\";position: absolute;border-left: 1px solid gray;box-sizing: border-box;top: 2em;bottom: 0;left: 50%;}#sk-7765c20f-17a6-4127-b4c4-7efbca672b96 div.sk-parallel-item {display: flex;flex-direction: column;position: relative;background-color: white;}#sk-7765c20f-17a6-4127-b4c4-7efbca672b96 div.sk-parallel-item:first-child::after {align-self: flex-end;width: 50%;}#sk-7765c20f-17a6-4127-b4c4-7efbca672b96 div.sk-parallel-item:last-child::after {align-self: flex-start;width: 50%;}#sk-7765c20f-17a6-4127-b4c4-7efbca672b96 div.sk-parallel-item:only-child::after {width: 0;}#sk-7765c20f-17a6-4127-b4c4-7efbca672b96 div.sk-dashed-wrapped {border: 1px dashed gray;margin: 0 0.4em 0.5em 0.4em;box-sizing: border-box;padding-bottom: 0.4em;background-color: white;position: relative;}#sk-7765c20f-17a6-4127-b4c4-7efbca672b96 div.sk-label label {font-family: monospace;font-weight: bold;background-color: white;display: inline-block;line-height: 1.2em;}#sk-7765c20f-17a6-4127-b4c4-7efbca672b96 div.sk-label-container {position: relative;z-index: 2;text-align: center;}#sk-7765c20f-17a6-4127-b4c4-7efbca672b96 div.sk-container {/* jupyter's `normalize.less` sets `[hidden] { display: none; }` but bootstrap.min.css set `[hidden] { display: none !important; }` so we also need the `!important` here to be able to override the default hidden behavior on the sphinx rendered scikit-learn.org. See: https://github.com/scikit-learn/scikit-learn/issues/21755 */display: inline-block !important;position: relative;}#sk-7765c20f-17a6-4127-b4c4-7efbca672b96 div.sk-text-repr-fallback {display: none;}</style><div id=\"sk-7765c20f-17a6-4127-b4c4-7efbca672b96\" class=\"sk-top-container\"><div class=\"sk-text-repr-fallback\"><pre>Pipeline(steps=[(&#x27;handle missing values&#x27;,\n",
       "                 ColumnTransformer(remainder=&#x27;passthrough&#x27;,\n",
       "                                   transformers=[(&#x27;pclass_sex&#x27;, &#x27;passthrough&#x27;,\n",
       "                                                  [0, 1]),\n",
       "                                                 (&#x27;impute_age&#x27;, SimpleImputer(),\n",
       "                                                  [2]),\n",
       "                                                 (&#x27;sibsp_parch_fare&#x27;,\n",
       "                                                  &#x27;passthrough&#x27;, [3, 4, 5]),\n",
       "                                                 (&#x27;impute embarked&#x27;,\n",
       "                                                  SimpleImputer(strategy=&#x27;most_frequent&#x27;),\n",
       "                                                  [6])],\n",
       "                                   verbose=True)),\n",
       "                (&#x27;handle categorical columns&#x27;,\n",
       "                 ColumnTransformer(remainder=&#x27;passth...\n",
       "                                                 (&#x27;one_hot_encoding_sex&#x27;,\n",
       "                                                  OneHotEncoder(handle_unknown=&#x27;ignore&#x27;,\n",
       "                                                                sparse=False),\n",
       "                                                  [1]),\n",
       "                                                 (&#x27;age_sibsip_parch_fare&#x27;,\n",
       "                                                  &#x27;passthrough&#x27;, [2, 3, 4, 5]),\n",
       "                                                 (&#x27;one_hot_encoding_embarked&#x27;,\n",
       "                                                  OneHotEncoder(handle_unknown=&#x27;ignore&#x27;,\n",
       "                                                                sparse=False),\n",
       "                                                  [6])])),\n",
       "                (&#x27;scaling&#x27;,\n",
       "                 ColumnTransformer(remainder=&#x27;passthrough&#x27;,\n",
       "                                   transformers=[(&#x27;standard_scalar&#x27;,\n",
       "                                                  StandardScaler(), [3, 6])])),\n",
       "                (&#x27;train&#x27;, RandomForestClassifier())])</pre><b>Please rerun this cell to show the HTML repr or trust the notebook.</b></div><div class=\"sk-container\" hidden><div class=\"sk-item sk-dashed-wrapped\"><div class=\"sk-label-container\"><div class=\"sk-label sk-toggleable\"><input class=\"sk-toggleable__control sk-hidden--visually\" id=\"07b2b146-634c-4e26-80c7-48ccb2193657\" type=\"checkbox\" ><label for=\"07b2b146-634c-4e26-80c7-48ccb2193657\" class=\"sk-toggleable__label sk-toggleable__label-arrow\">Pipeline</label><div class=\"sk-toggleable__content\"><pre>Pipeline(steps=[(&#x27;handle missing values&#x27;,\n",
       "                 ColumnTransformer(remainder=&#x27;passthrough&#x27;,\n",
       "                                   transformers=[(&#x27;pclass_sex&#x27;, &#x27;passthrough&#x27;,\n",
       "                                                  [0, 1]),\n",
       "                                                 (&#x27;impute_age&#x27;, SimpleImputer(),\n",
       "                                                  [2]),\n",
       "                                                 (&#x27;sibsp_parch_fare&#x27;,\n",
       "                                                  &#x27;passthrough&#x27;, [3, 4, 5]),\n",
       "                                                 (&#x27;impute embarked&#x27;,\n",
       "                                                  SimpleImputer(strategy=&#x27;most_frequent&#x27;),\n",
       "                                                  [6])],\n",
       "                                   verbose=True)),\n",
       "                (&#x27;handle categorical columns&#x27;,\n",
       "                 ColumnTransformer(remainder=&#x27;passth...\n",
       "                                                 (&#x27;one_hot_encoding_sex&#x27;,\n",
       "                                                  OneHotEncoder(handle_unknown=&#x27;ignore&#x27;,\n",
       "                                                                sparse=False),\n",
       "                                                  [1]),\n",
       "                                                 (&#x27;age_sibsip_parch_fare&#x27;,\n",
       "                                                  &#x27;passthrough&#x27;, [2, 3, 4, 5]),\n",
       "                                                 (&#x27;one_hot_encoding_embarked&#x27;,\n",
       "                                                  OneHotEncoder(handle_unknown=&#x27;ignore&#x27;,\n",
       "                                                                sparse=False),\n",
       "                                                  [6])])),\n",
       "                (&#x27;scaling&#x27;,\n",
       "                 ColumnTransformer(remainder=&#x27;passthrough&#x27;,\n",
       "                                   transformers=[(&#x27;standard_scalar&#x27;,\n",
       "                                                  StandardScaler(), [3, 6])])),\n",
       "                (&#x27;train&#x27;, RandomForestClassifier())])</pre></div></div></div><div class=\"sk-serial\"><div class=\"sk-item sk-dashed-wrapped\"><div class=\"sk-label-container\"><div class=\"sk-label sk-toggleable\"><input class=\"sk-toggleable__control sk-hidden--visually\" id=\"584bdd69-5d20-4aef-8892-30d78d4b2cd7\" type=\"checkbox\" ><label for=\"584bdd69-5d20-4aef-8892-30d78d4b2cd7\" class=\"sk-toggleable__label sk-toggleable__label-arrow\">handle missing values: ColumnTransformer</label><div class=\"sk-toggleable__content\"><pre>ColumnTransformer(remainder=&#x27;passthrough&#x27;,\n",
       "                  transformers=[(&#x27;pclass_sex&#x27;, &#x27;passthrough&#x27;, [0, 1]),\n",
       "                                (&#x27;impute_age&#x27;, SimpleImputer(), [2]),\n",
       "                                (&#x27;sibsp_parch_fare&#x27;, &#x27;passthrough&#x27;, [3, 4, 5]),\n",
       "                                (&#x27;impute embarked&#x27;,\n",
       "                                 SimpleImputer(strategy=&#x27;most_frequent&#x27;),\n",
       "                                 [6])],\n",
       "                  verbose=True)</pre></div></div></div><div class=\"sk-parallel\"><div class=\"sk-parallel-item\"><div class=\"sk-item\"><div class=\"sk-label-container\"><div class=\"sk-label sk-toggleable\"><input class=\"sk-toggleable__control sk-hidden--visually\" id=\"850758f5-a4e8-4b9a-8c45-9a223d2540b1\" type=\"checkbox\" ><label for=\"850758f5-a4e8-4b9a-8c45-9a223d2540b1\" class=\"sk-toggleable__label sk-toggleable__label-arrow\">pclass_sex</label><div class=\"sk-toggleable__content\"><pre>[0, 1]</pre></div></div></div><div class=\"sk-serial\"><div class=\"sk-item\"><div class=\"sk-estimator sk-toggleable\"><input class=\"sk-toggleable__control sk-hidden--visually\" id=\"7b5457ee-84c0-4f2d-a1f4-cc19a571a847\" type=\"checkbox\" ><label for=\"7b5457ee-84c0-4f2d-a1f4-cc19a571a847\" class=\"sk-toggleable__label sk-toggleable__label-arrow\">passthrough</label><div class=\"sk-toggleable__content\"><pre>passthrough</pre></div></div></div></div></div></div><div class=\"sk-parallel-item\"><div class=\"sk-item\"><div class=\"sk-label-container\"><div class=\"sk-label sk-toggleable\"><input class=\"sk-toggleable__control sk-hidden--visually\" id=\"ef86f508-f438-4e32-a728-d7958037e9fb\" type=\"checkbox\" ><label for=\"ef86f508-f438-4e32-a728-d7958037e9fb\" class=\"sk-toggleable__label sk-toggleable__label-arrow\">impute_age</label><div class=\"sk-toggleable__content\"><pre>[2]</pre></div></div></div><div class=\"sk-serial\"><div class=\"sk-item\"><div class=\"sk-estimator sk-toggleable\"><input class=\"sk-toggleable__control sk-hidden--visually\" id=\"a0e78ef8-056e-4b41-a235-7278967fd092\" type=\"checkbox\" ><label for=\"a0e78ef8-056e-4b41-a235-7278967fd092\" class=\"sk-toggleable__label sk-toggleable__label-arrow\">SimpleImputer</label><div class=\"sk-toggleable__content\"><pre>SimpleImputer()</pre></div></div></div></div></div></div><div class=\"sk-parallel-item\"><div class=\"sk-item\"><div class=\"sk-label-container\"><div class=\"sk-label sk-toggleable\"><input class=\"sk-toggleable__control sk-hidden--visually\" id=\"0b228518-2bc4-4758-817a-59d3cbd89e5c\" type=\"checkbox\" ><label for=\"0b228518-2bc4-4758-817a-59d3cbd89e5c\" class=\"sk-toggleable__label sk-toggleable__label-arrow\">sibsp_parch_fare</label><div class=\"sk-toggleable__content\"><pre>[3, 4, 5]</pre></div></div></div><div class=\"sk-serial\"><div class=\"sk-item\"><div class=\"sk-estimator sk-toggleable\"><input class=\"sk-toggleable__control sk-hidden--visually\" id=\"230429a2-5325-4e1c-a12d-e92541612e86\" type=\"checkbox\" ><label for=\"230429a2-5325-4e1c-a12d-e92541612e86\" class=\"sk-toggleable__label sk-toggleable__label-arrow\">passthrough</label><div class=\"sk-toggleable__content\"><pre>passthrough</pre></div></div></div></div></div></div><div class=\"sk-parallel-item\"><div class=\"sk-item\"><div class=\"sk-label-container\"><div class=\"sk-label sk-toggleable\"><input class=\"sk-toggleable__control sk-hidden--visually\" id=\"ad865989-19c1-440e-b3be-81b34a61d5b7\" type=\"checkbox\" ><label for=\"ad865989-19c1-440e-b3be-81b34a61d5b7\" class=\"sk-toggleable__label sk-toggleable__label-arrow\">impute embarked</label><div class=\"sk-toggleable__content\"><pre>[6]</pre></div></div></div><div class=\"sk-serial\"><div class=\"sk-item\"><div class=\"sk-estimator sk-toggleable\"><input class=\"sk-toggleable__control sk-hidden--visually\" id=\"fe7448ba-9883-4794-87c2-44545aa2f155\" type=\"checkbox\" ><label for=\"fe7448ba-9883-4794-87c2-44545aa2f155\" class=\"sk-toggleable__label sk-toggleable__label-arrow\">SimpleImputer</label><div class=\"sk-toggleable__content\"><pre>SimpleImputer(strategy=&#x27;most_frequent&#x27;)</pre></div></div></div></div></div></div><div class=\"sk-parallel-item\"><div class=\"sk-item\"><div class=\"sk-label-container\"><div class=\"sk-label sk-toggleable\"><input class=\"sk-toggleable__control sk-hidden--visually\" id=\"aa900605-ec83-460d-bf2f-c670af31ba82\" type=\"checkbox\" ><label for=\"aa900605-ec83-460d-bf2f-c670af31ba82\" class=\"sk-toggleable__label sk-toggleable__label-arrow\">remainder</label><div class=\"sk-toggleable__content\"><pre></pre></div></div></div><div class=\"sk-serial\"><div class=\"sk-item\"><div class=\"sk-estimator sk-toggleable\"><input class=\"sk-toggleable__control sk-hidden--visually\" id=\"e8821bd1-0de6-4226-b896-bcc75f02c4b1\" type=\"checkbox\" ><label for=\"e8821bd1-0de6-4226-b896-bcc75f02c4b1\" class=\"sk-toggleable__label sk-toggleable__label-arrow\">passthrough</label><div class=\"sk-toggleable__content\"><pre>passthrough</pre></div></div></div></div></div></div></div></div><div class=\"sk-item sk-dashed-wrapped\"><div class=\"sk-label-container\"><div class=\"sk-label sk-toggleable\"><input class=\"sk-toggleable__control sk-hidden--visually\" id=\"d3415e54-7470-4af7-80a5-5886d10f74d7\" type=\"checkbox\" ><label for=\"d3415e54-7470-4af7-80a5-5886d10f74d7\" class=\"sk-toggleable__label sk-toggleable__label-arrow\">handle categorical columns: ColumnTransformer</label><div class=\"sk-toggleable__content\"><pre>ColumnTransformer(remainder=&#x27;passthrough&#x27;,\n",
       "                  transformers=[(&#x27;pclass&#x27;, &#x27;passthrough&#x27;, [0]),\n",
       "                                (&#x27;one_hot_encoding_sex&#x27;,\n",
       "                                 OneHotEncoder(handle_unknown=&#x27;ignore&#x27;,\n",
       "                                               sparse=False),\n",
       "                                 [1]),\n",
       "                                (&#x27;age_sibsip_parch_fare&#x27;, &#x27;passthrough&#x27;,\n",
       "                                 [2, 3, 4, 5]),\n",
       "                                (&#x27;one_hot_encoding_embarked&#x27;,\n",
       "                                 OneHotEncoder(handle_unknown=&#x27;ignore&#x27;,\n",
       "                                               sparse=False),\n",
       "                                 [6])])</pre></div></div></div><div class=\"sk-parallel\"><div class=\"sk-parallel-item\"><div class=\"sk-item\"><div class=\"sk-label-container\"><div class=\"sk-label sk-toggleable\"><input class=\"sk-toggleable__control sk-hidden--visually\" id=\"03592132-3c9d-4f74-8df4-fcc42790161c\" type=\"checkbox\" ><label for=\"03592132-3c9d-4f74-8df4-fcc42790161c\" class=\"sk-toggleable__label sk-toggleable__label-arrow\">pclass</label><div class=\"sk-toggleable__content\"><pre>[0]</pre></div></div></div><div class=\"sk-serial\"><div class=\"sk-item\"><div class=\"sk-estimator sk-toggleable\"><input class=\"sk-toggleable__control sk-hidden--visually\" id=\"81a2fefa-0dd5-4959-8f6e-26824302ff4e\" type=\"checkbox\" ><label for=\"81a2fefa-0dd5-4959-8f6e-26824302ff4e\" class=\"sk-toggleable__label sk-toggleable__label-arrow\">passthrough</label><div class=\"sk-toggleable__content\"><pre>passthrough</pre></div></div></div></div></div></div><div class=\"sk-parallel-item\"><div class=\"sk-item\"><div class=\"sk-label-container\"><div class=\"sk-label sk-toggleable\"><input class=\"sk-toggleable__control sk-hidden--visually\" id=\"25ca8fb5-1df4-46d6-af2f-e4e2ebefa1d7\" type=\"checkbox\" ><label for=\"25ca8fb5-1df4-46d6-af2f-e4e2ebefa1d7\" class=\"sk-toggleable__label sk-toggleable__label-arrow\">one_hot_encoding_sex</label><div class=\"sk-toggleable__content\"><pre>[1]</pre></div></div></div><div class=\"sk-serial\"><div class=\"sk-item\"><div class=\"sk-estimator sk-toggleable\"><input class=\"sk-toggleable__control sk-hidden--visually\" id=\"fa3f0d15-5e7f-4652-a951-f068073c8ef5\" type=\"checkbox\" ><label for=\"fa3f0d15-5e7f-4652-a951-f068073c8ef5\" class=\"sk-toggleable__label sk-toggleable__label-arrow\">OneHotEncoder</label><div class=\"sk-toggleable__content\"><pre>OneHotEncoder(handle_unknown=&#x27;ignore&#x27;, sparse=False)</pre></div></div></div></div></div></div><div class=\"sk-parallel-item\"><div class=\"sk-item\"><div class=\"sk-label-container\"><div class=\"sk-label sk-toggleable\"><input class=\"sk-toggleable__control sk-hidden--visually\" id=\"c6b65320-59a5-4cd3-ba6b-3d66a422d07c\" type=\"checkbox\" ><label for=\"c6b65320-59a5-4cd3-ba6b-3d66a422d07c\" class=\"sk-toggleable__label sk-toggleable__label-arrow\">age_sibsip_parch_fare</label><div class=\"sk-toggleable__content\"><pre>[2, 3, 4, 5]</pre></div></div></div><div class=\"sk-serial\"><div class=\"sk-item\"><div class=\"sk-estimator sk-toggleable\"><input class=\"sk-toggleable__control sk-hidden--visually\" id=\"d5fb091e-e76e-4f2b-81c2-fce397b2fa56\" type=\"checkbox\" ><label for=\"d5fb091e-e76e-4f2b-81c2-fce397b2fa56\" class=\"sk-toggleable__label sk-toggleable__label-arrow\">passthrough</label><div class=\"sk-toggleable__content\"><pre>passthrough</pre></div></div></div></div></div></div><div class=\"sk-parallel-item\"><div class=\"sk-item\"><div class=\"sk-label-container\"><div class=\"sk-label sk-toggleable\"><input class=\"sk-toggleable__control sk-hidden--visually\" id=\"c23fb247-4bf7-4407-8ce1-574868744cb3\" type=\"checkbox\" ><label for=\"c23fb247-4bf7-4407-8ce1-574868744cb3\" class=\"sk-toggleable__label sk-toggleable__label-arrow\">one_hot_encoding_embarked</label><div class=\"sk-toggleable__content\"><pre>[6]</pre></div></div></div><div class=\"sk-serial\"><div class=\"sk-item\"><div class=\"sk-estimator sk-toggleable\"><input class=\"sk-toggleable__control sk-hidden--visually\" id=\"66cf0307-0d76-4891-8d2d-40b4ceb04851\" type=\"checkbox\" ><label for=\"66cf0307-0d76-4891-8d2d-40b4ceb04851\" class=\"sk-toggleable__label sk-toggleable__label-arrow\">OneHotEncoder</label><div class=\"sk-toggleable__content\"><pre>OneHotEncoder(handle_unknown=&#x27;ignore&#x27;, sparse=False)</pre></div></div></div></div></div></div><div class=\"sk-parallel-item\"><div class=\"sk-item\"><div class=\"sk-label-container\"><div class=\"sk-label sk-toggleable\"><input class=\"sk-toggleable__control sk-hidden--visually\" id=\"f5e2d192-8f11-4c36-875c-caabe69b0102\" type=\"checkbox\" ><label for=\"f5e2d192-8f11-4c36-875c-caabe69b0102\" class=\"sk-toggleable__label sk-toggleable__label-arrow\">remainder</label><div class=\"sk-toggleable__content\"><pre></pre></div></div></div><div class=\"sk-serial\"><div class=\"sk-item\"><div class=\"sk-estimator sk-toggleable\"><input class=\"sk-toggleable__control sk-hidden--visually\" id=\"28c4e8ca-44bf-4ea9-9e52-bf096e9a4709\" type=\"checkbox\" ><label for=\"28c4e8ca-44bf-4ea9-9e52-bf096e9a4709\" class=\"sk-toggleable__label sk-toggleable__label-arrow\">passthrough</label><div class=\"sk-toggleable__content\"><pre>passthrough</pre></div></div></div></div></div></div></div></div><div class=\"sk-item sk-dashed-wrapped\"><div class=\"sk-label-container\"><div class=\"sk-label sk-toggleable\"><input class=\"sk-toggleable__control sk-hidden--visually\" id=\"14978b21-e23e-447a-9a30-543fade655a8\" type=\"checkbox\" ><label for=\"14978b21-e23e-447a-9a30-543fade655a8\" class=\"sk-toggleable__label sk-toggleable__label-arrow\">scaling: ColumnTransformer</label><div class=\"sk-toggleable__content\"><pre>ColumnTransformer(remainder=&#x27;passthrough&#x27;,\n",
       "                  transformers=[(&#x27;standard_scalar&#x27;, StandardScaler(), [3, 6])])</pre></div></div></div><div class=\"sk-parallel\"><div class=\"sk-parallel-item\"><div class=\"sk-item\"><div class=\"sk-label-container\"><div class=\"sk-label sk-toggleable\"><input class=\"sk-toggleable__control sk-hidden--visually\" id=\"e3f99e36-5224-4300-a9a1-16ebd96a3994\" type=\"checkbox\" ><label for=\"e3f99e36-5224-4300-a9a1-16ebd96a3994\" class=\"sk-toggleable__label sk-toggleable__label-arrow\">standard_scalar</label><div class=\"sk-toggleable__content\"><pre>[3, 6]</pre></div></div></div><div class=\"sk-serial\"><div class=\"sk-item\"><div class=\"sk-estimator sk-toggleable\"><input class=\"sk-toggleable__control sk-hidden--visually\" id=\"c442c100-55f5-467b-a93c-3184833ddbfe\" type=\"checkbox\" ><label for=\"c442c100-55f5-467b-a93c-3184833ddbfe\" class=\"sk-toggleable__label sk-toggleable__label-arrow\">StandardScaler</label><div class=\"sk-toggleable__content\"><pre>StandardScaler()</pre></div></div></div></div></div></div><div class=\"sk-parallel-item\"><div class=\"sk-item\"><div class=\"sk-label-container\"><div class=\"sk-label sk-toggleable\"><input class=\"sk-toggleable__control sk-hidden--visually\" id=\"9c424f63-53db-47db-af17-2898fe0372e3\" type=\"checkbox\" ><label for=\"9c424f63-53db-47db-af17-2898fe0372e3\" class=\"sk-toggleable__label sk-toggleable__label-arrow\">remainder</label><div class=\"sk-toggleable__content\"><pre></pre></div></div></div><div class=\"sk-serial\"><div class=\"sk-item\"><div class=\"sk-estimator sk-toggleable\"><input class=\"sk-toggleable__control sk-hidden--visually\" id=\"1a94fcf1-2e5a-42fc-87bc-3b1bb5f3deb0\" type=\"checkbox\" ><label for=\"1a94fcf1-2e5a-42fc-87bc-3b1bb5f3deb0\" class=\"sk-toggleable__label sk-toggleable__label-arrow\">passthrough</label><div class=\"sk-toggleable__content\"><pre>passthrough</pre></div></div></div></div></div></div></div></div><div class=\"sk-item\"><div class=\"sk-estimator sk-toggleable\"><input class=\"sk-toggleable__control sk-hidden--visually\" id=\"da486f00-b5da-47c6-9eb2-31c6582d5bae\" type=\"checkbox\" ><label for=\"da486f00-b5da-47c6-9eb2-31c6582d5bae\" class=\"sk-toggleable__label sk-toggleable__label-arrow\">RandomForestClassifier</label><div class=\"sk-toggleable__content\"><pre>RandomForestClassifier()</pre></div></div></div></div></div></div></div>"
      ],
      "text/plain": [
       "Pipeline(steps=[('handle missing values',\n",
       "                 ColumnTransformer(remainder='passthrough',\n",
       "                                   transformers=[('pclass_sex', 'passthrough',\n",
       "                                                  [0, 1]),\n",
       "                                                 ('impute_age', SimpleImputer(),\n",
       "                                                  [2]),\n",
       "                                                 ('sibsp_parch_fare',\n",
       "                                                  'passthrough', [3, 4, 5]),\n",
       "                                                 ('impute embarked',\n",
       "                                                  SimpleImputer(strategy='most_frequent'),\n",
       "                                                  [6])],\n",
       "                                   verbose=True)),\n",
       "                ('handle categorical columns',\n",
       "                 ColumnTransformer(remainder='passth...\n",
       "                                                 ('one_hot_encoding_sex',\n",
       "                                                  OneHotEncoder(handle_unknown='ignore',\n",
       "                                                                sparse=False),\n",
       "                                                  [1]),\n",
       "                                                 ('age_sibsip_parch_fare',\n",
       "                                                  'passthrough', [2, 3, 4, 5]),\n",
       "                                                 ('one_hot_encoding_embarked',\n",
       "                                                  OneHotEncoder(handle_unknown='ignore',\n",
       "                                                                sparse=False),\n",
       "                                                  [6])])),\n",
       "                ('scaling',\n",
       "                 ColumnTransformer(remainder='passthrough',\n",
       "                                   transformers=[('standard_scalar',\n",
       "                                                  StandardScaler(), [3, 6])])),\n",
       "                ('train', RandomForestClassifier())])"
      ]
     },
     "execution_count": 31,
     "metadata": {},
     "output_type": "execute_result"
    }
   ],
   "source": [
    "model"
   ]
  },
  {
   "cell_type": "code",
   "execution_count": 32,
   "metadata": {},
   "outputs": [
    {
     "name": "stdout",
     "output_type": "stream",
     "text": [
      "[ColumnTransformer] .... (1 of 4) Processing pclass_sex, total=   0.0s\n",
      "[ColumnTransformer] .... (2 of 4) Processing impute_age, total=   0.0s\n",
      "[ColumnTransformer]  (3 of 4) Processing sibsp_parch_fare, total=   0.0s\n",
      "[ColumnTransformer]  (4 of 4) Processing impute embarked, total=   0.0s\n"
     ]
    },
    {
     "data": {
      "text/html": [
       "<style>#sk-72c779fe-70d3-4381-a8bc-502a16e7ce92 {color: black;background-color: white;}#sk-72c779fe-70d3-4381-a8bc-502a16e7ce92 pre{padding: 0;}#sk-72c779fe-70d3-4381-a8bc-502a16e7ce92 div.sk-toggleable {background-color: white;}#sk-72c779fe-70d3-4381-a8bc-502a16e7ce92 label.sk-toggleable__label {cursor: pointer;display: block;width: 100%;margin-bottom: 0;padding: 0.3em;box-sizing: border-box;text-align: center;}#sk-72c779fe-70d3-4381-a8bc-502a16e7ce92 label.sk-toggleable__label-arrow:before {content: \"▸\";float: left;margin-right: 0.25em;color: #696969;}#sk-72c779fe-70d3-4381-a8bc-502a16e7ce92 label.sk-toggleable__label-arrow:hover:before {color: black;}#sk-72c779fe-70d3-4381-a8bc-502a16e7ce92 div.sk-estimator:hover label.sk-toggleable__label-arrow:before {color: black;}#sk-72c779fe-70d3-4381-a8bc-502a16e7ce92 div.sk-toggleable__content {max-height: 0;max-width: 0;overflow: hidden;text-align: left;background-color: #f0f8ff;}#sk-72c779fe-70d3-4381-a8bc-502a16e7ce92 div.sk-toggleable__content pre {margin: 0.2em;color: black;border-radius: 0.25em;background-color: #f0f8ff;}#sk-72c779fe-70d3-4381-a8bc-502a16e7ce92 input.sk-toggleable__control:checked~div.sk-toggleable__content {max-height: 200px;max-width: 100%;overflow: auto;}#sk-72c779fe-70d3-4381-a8bc-502a16e7ce92 input.sk-toggleable__control:checked~label.sk-toggleable__label-arrow:before {content: \"▾\";}#sk-72c779fe-70d3-4381-a8bc-502a16e7ce92 div.sk-estimator input.sk-toggleable__control:checked~label.sk-toggleable__label {background-color: #d4ebff;}#sk-72c779fe-70d3-4381-a8bc-502a16e7ce92 div.sk-label input.sk-toggleable__control:checked~label.sk-toggleable__label {background-color: #d4ebff;}#sk-72c779fe-70d3-4381-a8bc-502a16e7ce92 input.sk-hidden--visually {border: 0;clip: rect(1px 1px 1px 1px);clip: rect(1px, 1px, 1px, 1px);height: 1px;margin: -1px;overflow: hidden;padding: 0;position: absolute;width: 1px;}#sk-72c779fe-70d3-4381-a8bc-502a16e7ce92 div.sk-estimator {font-family: monospace;background-color: #f0f8ff;border: 1px dotted black;border-radius: 0.25em;box-sizing: border-box;margin-bottom: 0.5em;}#sk-72c779fe-70d3-4381-a8bc-502a16e7ce92 div.sk-estimator:hover {background-color: #d4ebff;}#sk-72c779fe-70d3-4381-a8bc-502a16e7ce92 div.sk-parallel-item::after {content: \"\";width: 100%;border-bottom: 1px solid gray;flex-grow: 1;}#sk-72c779fe-70d3-4381-a8bc-502a16e7ce92 div.sk-label:hover label.sk-toggleable__label {background-color: #d4ebff;}#sk-72c779fe-70d3-4381-a8bc-502a16e7ce92 div.sk-serial::before {content: \"\";position: absolute;border-left: 1px solid gray;box-sizing: border-box;top: 2em;bottom: 0;left: 50%;}#sk-72c779fe-70d3-4381-a8bc-502a16e7ce92 div.sk-serial {display: flex;flex-direction: column;align-items: center;background-color: white;padding-right: 0.2em;padding-left: 0.2em;}#sk-72c779fe-70d3-4381-a8bc-502a16e7ce92 div.sk-item {z-index: 1;}#sk-72c779fe-70d3-4381-a8bc-502a16e7ce92 div.sk-parallel {display: flex;align-items: stretch;justify-content: center;background-color: white;}#sk-72c779fe-70d3-4381-a8bc-502a16e7ce92 div.sk-parallel::before {content: \"\";position: absolute;border-left: 1px solid gray;box-sizing: border-box;top: 2em;bottom: 0;left: 50%;}#sk-72c779fe-70d3-4381-a8bc-502a16e7ce92 div.sk-parallel-item {display: flex;flex-direction: column;position: relative;background-color: white;}#sk-72c779fe-70d3-4381-a8bc-502a16e7ce92 div.sk-parallel-item:first-child::after {align-self: flex-end;width: 50%;}#sk-72c779fe-70d3-4381-a8bc-502a16e7ce92 div.sk-parallel-item:last-child::after {align-self: flex-start;width: 50%;}#sk-72c779fe-70d3-4381-a8bc-502a16e7ce92 div.sk-parallel-item:only-child::after {width: 0;}#sk-72c779fe-70d3-4381-a8bc-502a16e7ce92 div.sk-dashed-wrapped {border: 1px dashed gray;margin: 0 0.4em 0.5em 0.4em;box-sizing: border-box;padding-bottom: 0.4em;background-color: white;position: relative;}#sk-72c779fe-70d3-4381-a8bc-502a16e7ce92 div.sk-label label {font-family: monospace;font-weight: bold;background-color: white;display: inline-block;line-height: 1.2em;}#sk-72c779fe-70d3-4381-a8bc-502a16e7ce92 div.sk-label-container {position: relative;z-index: 2;text-align: center;}#sk-72c779fe-70d3-4381-a8bc-502a16e7ce92 div.sk-container {/* jupyter's `normalize.less` sets `[hidden] { display: none; }` but bootstrap.min.css set `[hidden] { display: none !important; }` so we also need the `!important` here to be able to override the default hidden behavior on the sphinx rendered scikit-learn.org. See: https://github.com/scikit-learn/scikit-learn/issues/21755 */display: inline-block !important;position: relative;}#sk-72c779fe-70d3-4381-a8bc-502a16e7ce92 div.sk-text-repr-fallback {display: none;}</style><div id=\"sk-72c779fe-70d3-4381-a8bc-502a16e7ce92\" class=\"sk-top-container\"><div class=\"sk-text-repr-fallback\"><pre>Pipeline(steps=[(&#x27;handle missing values&#x27;,\n",
       "                 ColumnTransformer(remainder=&#x27;passthrough&#x27;,\n",
       "                                   transformers=[(&#x27;pclass_sex&#x27;, &#x27;passthrough&#x27;,\n",
       "                                                  [0, 1]),\n",
       "                                                 (&#x27;impute_age&#x27;, SimpleImputer(),\n",
       "                                                  [2]),\n",
       "                                                 (&#x27;sibsp_parch_fare&#x27;,\n",
       "                                                  &#x27;passthrough&#x27;, [3, 4, 5]),\n",
       "                                                 (&#x27;impute embarked&#x27;,\n",
       "                                                  SimpleImputer(strategy=&#x27;most_frequent&#x27;),\n",
       "                                                  [6])],\n",
       "                                   verbose=True)),\n",
       "                (&#x27;handle categorical columns&#x27;,\n",
       "                 ColumnTransformer(remainder=&#x27;passth...\n",
       "                                                 (&#x27;one_hot_encoding_sex&#x27;,\n",
       "                                                  OneHotEncoder(handle_unknown=&#x27;ignore&#x27;,\n",
       "                                                                sparse=False),\n",
       "                                                  [1]),\n",
       "                                                 (&#x27;age_sibsip_parch_fare&#x27;,\n",
       "                                                  &#x27;passthrough&#x27;, [2, 3, 4, 5]),\n",
       "                                                 (&#x27;one_hot_encoding_embarked&#x27;,\n",
       "                                                  OneHotEncoder(handle_unknown=&#x27;ignore&#x27;,\n",
       "                                                                sparse=False),\n",
       "                                                  [6])])),\n",
       "                (&#x27;scaling&#x27;,\n",
       "                 ColumnTransformer(remainder=&#x27;passthrough&#x27;,\n",
       "                                   transformers=[(&#x27;standard_scalar&#x27;,\n",
       "                                                  StandardScaler(), [3, 6])])),\n",
       "                (&#x27;train&#x27;, RandomForestClassifier())])</pre><b>Please rerun this cell to show the HTML repr or trust the notebook.</b></div><div class=\"sk-container\" hidden><div class=\"sk-item sk-dashed-wrapped\"><div class=\"sk-label-container\"><div class=\"sk-label sk-toggleable\"><input class=\"sk-toggleable__control sk-hidden--visually\" id=\"177c91e1-fc90-46e9-98b8-af6b3f746752\" type=\"checkbox\" ><label for=\"177c91e1-fc90-46e9-98b8-af6b3f746752\" class=\"sk-toggleable__label sk-toggleable__label-arrow\">Pipeline</label><div class=\"sk-toggleable__content\"><pre>Pipeline(steps=[(&#x27;handle missing values&#x27;,\n",
       "                 ColumnTransformer(remainder=&#x27;passthrough&#x27;,\n",
       "                                   transformers=[(&#x27;pclass_sex&#x27;, &#x27;passthrough&#x27;,\n",
       "                                                  [0, 1]),\n",
       "                                                 (&#x27;impute_age&#x27;, SimpleImputer(),\n",
       "                                                  [2]),\n",
       "                                                 (&#x27;sibsp_parch_fare&#x27;,\n",
       "                                                  &#x27;passthrough&#x27;, [3, 4, 5]),\n",
       "                                                 (&#x27;impute embarked&#x27;,\n",
       "                                                  SimpleImputer(strategy=&#x27;most_frequent&#x27;),\n",
       "                                                  [6])],\n",
       "                                   verbose=True)),\n",
       "                (&#x27;handle categorical columns&#x27;,\n",
       "                 ColumnTransformer(remainder=&#x27;passth...\n",
       "                                                 (&#x27;one_hot_encoding_sex&#x27;,\n",
       "                                                  OneHotEncoder(handle_unknown=&#x27;ignore&#x27;,\n",
       "                                                                sparse=False),\n",
       "                                                  [1]),\n",
       "                                                 (&#x27;age_sibsip_parch_fare&#x27;,\n",
       "                                                  &#x27;passthrough&#x27;, [2, 3, 4, 5]),\n",
       "                                                 (&#x27;one_hot_encoding_embarked&#x27;,\n",
       "                                                  OneHotEncoder(handle_unknown=&#x27;ignore&#x27;,\n",
       "                                                                sparse=False),\n",
       "                                                  [6])])),\n",
       "                (&#x27;scaling&#x27;,\n",
       "                 ColumnTransformer(remainder=&#x27;passthrough&#x27;,\n",
       "                                   transformers=[(&#x27;standard_scalar&#x27;,\n",
       "                                                  StandardScaler(), [3, 6])])),\n",
       "                (&#x27;train&#x27;, RandomForestClassifier())])</pre></div></div></div><div class=\"sk-serial\"><div class=\"sk-item sk-dashed-wrapped\"><div class=\"sk-label-container\"><div class=\"sk-label sk-toggleable\"><input class=\"sk-toggleable__control sk-hidden--visually\" id=\"3f27f9c8-e9ed-4db7-a36c-2f1d0aa41022\" type=\"checkbox\" ><label for=\"3f27f9c8-e9ed-4db7-a36c-2f1d0aa41022\" class=\"sk-toggleable__label sk-toggleable__label-arrow\">handle missing values: ColumnTransformer</label><div class=\"sk-toggleable__content\"><pre>ColumnTransformer(remainder=&#x27;passthrough&#x27;,\n",
       "                  transformers=[(&#x27;pclass_sex&#x27;, &#x27;passthrough&#x27;, [0, 1]),\n",
       "                                (&#x27;impute_age&#x27;, SimpleImputer(), [2]),\n",
       "                                (&#x27;sibsp_parch_fare&#x27;, &#x27;passthrough&#x27;, [3, 4, 5]),\n",
       "                                (&#x27;impute embarked&#x27;,\n",
       "                                 SimpleImputer(strategy=&#x27;most_frequent&#x27;),\n",
       "                                 [6])],\n",
       "                  verbose=True)</pre></div></div></div><div class=\"sk-parallel\"><div class=\"sk-parallel-item\"><div class=\"sk-item\"><div class=\"sk-label-container\"><div class=\"sk-label sk-toggleable\"><input class=\"sk-toggleable__control sk-hidden--visually\" id=\"b4ea0b3a-2aa1-47cc-875b-7147e85816ba\" type=\"checkbox\" ><label for=\"b4ea0b3a-2aa1-47cc-875b-7147e85816ba\" class=\"sk-toggleable__label sk-toggleable__label-arrow\">pclass_sex</label><div class=\"sk-toggleable__content\"><pre>[0, 1]</pre></div></div></div><div class=\"sk-serial\"><div class=\"sk-item\"><div class=\"sk-estimator sk-toggleable\"><input class=\"sk-toggleable__control sk-hidden--visually\" id=\"c6caf1c2-1078-4e23-b44b-5c6c3f79df83\" type=\"checkbox\" ><label for=\"c6caf1c2-1078-4e23-b44b-5c6c3f79df83\" class=\"sk-toggleable__label sk-toggleable__label-arrow\">passthrough</label><div class=\"sk-toggleable__content\"><pre>passthrough</pre></div></div></div></div></div></div><div class=\"sk-parallel-item\"><div class=\"sk-item\"><div class=\"sk-label-container\"><div class=\"sk-label sk-toggleable\"><input class=\"sk-toggleable__control sk-hidden--visually\" id=\"8e2f494f-d2bb-4c3f-b60b-661cc6f33fe2\" type=\"checkbox\" ><label for=\"8e2f494f-d2bb-4c3f-b60b-661cc6f33fe2\" class=\"sk-toggleable__label sk-toggleable__label-arrow\">impute_age</label><div class=\"sk-toggleable__content\"><pre>[2]</pre></div></div></div><div class=\"sk-serial\"><div class=\"sk-item\"><div class=\"sk-estimator sk-toggleable\"><input class=\"sk-toggleable__control sk-hidden--visually\" id=\"9529de6c-f32f-4131-8266-854ef5365352\" type=\"checkbox\" ><label for=\"9529de6c-f32f-4131-8266-854ef5365352\" class=\"sk-toggleable__label sk-toggleable__label-arrow\">SimpleImputer</label><div class=\"sk-toggleable__content\"><pre>SimpleImputer()</pre></div></div></div></div></div></div><div class=\"sk-parallel-item\"><div class=\"sk-item\"><div class=\"sk-label-container\"><div class=\"sk-label sk-toggleable\"><input class=\"sk-toggleable__control sk-hidden--visually\" id=\"e716dfe6-3751-40fa-bdf8-2352cbbed6a2\" type=\"checkbox\" ><label for=\"e716dfe6-3751-40fa-bdf8-2352cbbed6a2\" class=\"sk-toggleable__label sk-toggleable__label-arrow\">sibsp_parch_fare</label><div class=\"sk-toggleable__content\"><pre>[3, 4, 5]</pre></div></div></div><div class=\"sk-serial\"><div class=\"sk-item\"><div class=\"sk-estimator sk-toggleable\"><input class=\"sk-toggleable__control sk-hidden--visually\" id=\"76816fac-7933-4813-b50d-8b39a49ffb3f\" type=\"checkbox\" ><label for=\"76816fac-7933-4813-b50d-8b39a49ffb3f\" class=\"sk-toggleable__label sk-toggleable__label-arrow\">passthrough</label><div class=\"sk-toggleable__content\"><pre>passthrough</pre></div></div></div></div></div></div><div class=\"sk-parallel-item\"><div class=\"sk-item\"><div class=\"sk-label-container\"><div class=\"sk-label sk-toggleable\"><input class=\"sk-toggleable__control sk-hidden--visually\" id=\"92d32579-65f2-4e25-a196-0c75f4c3eb5a\" type=\"checkbox\" ><label for=\"92d32579-65f2-4e25-a196-0c75f4c3eb5a\" class=\"sk-toggleable__label sk-toggleable__label-arrow\">impute embarked</label><div class=\"sk-toggleable__content\"><pre>[6]</pre></div></div></div><div class=\"sk-serial\"><div class=\"sk-item\"><div class=\"sk-estimator sk-toggleable\"><input class=\"sk-toggleable__control sk-hidden--visually\" id=\"7ff569e4-5732-4a37-8d91-74f7c8fd4991\" type=\"checkbox\" ><label for=\"7ff569e4-5732-4a37-8d91-74f7c8fd4991\" class=\"sk-toggleable__label sk-toggleable__label-arrow\">SimpleImputer</label><div class=\"sk-toggleable__content\"><pre>SimpleImputer(strategy=&#x27;most_frequent&#x27;)</pre></div></div></div></div></div></div><div class=\"sk-parallel-item\"><div class=\"sk-item\"><div class=\"sk-label-container\"><div class=\"sk-label sk-toggleable\"><input class=\"sk-toggleable__control sk-hidden--visually\" id=\"01c5fa8a-74ea-4abb-89b9-8898dbac792a\" type=\"checkbox\" ><label for=\"01c5fa8a-74ea-4abb-89b9-8898dbac792a\" class=\"sk-toggleable__label sk-toggleable__label-arrow\">remainder</label><div class=\"sk-toggleable__content\"><pre>[]</pre></div></div></div><div class=\"sk-serial\"><div class=\"sk-item\"><div class=\"sk-estimator sk-toggleable\"><input class=\"sk-toggleable__control sk-hidden--visually\" id=\"2690ac07-66e5-4cab-830a-3d361b4cb5ea\" type=\"checkbox\" ><label for=\"2690ac07-66e5-4cab-830a-3d361b4cb5ea\" class=\"sk-toggleable__label sk-toggleable__label-arrow\">passthrough</label><div class=\"sk-toggleable__content\"><pre>passthrough</pre></div></div></div></div></div></div></div></div><div class=\"sk-item sk-dashed-wrapped\"><div class=\"sk-label-container\"><div class=\"sk-label sk-toggleable\"><input class=\"sk-toggleable__control sk-hidden--visually\" id=\"da27045e-a539-4968-94cc-5560e7c3bad6\" type=\"checkbox\" ><label for=\"da27045e-a539-4968-94cc-5560e7c3bad6\" class=\"sk-toggleable__label sk-toggleable__label-arrow\">handle categorical columns: ColumnTransformer</label><div class=\"sk-toggleable__content\"><pre>ColumnTransformer(remainder=&#x27;passthrough&#x27;,\n",
       "                  transformers=[(&#x27;pclass&#x27;, &#x27;passthrough&#x27;, [0]),\n",
       "                                (&#x27;one_hot_encoding_sex&#x27;,\n",
       "                                 OneHotEncoder(handle_unknown=&#x27;ignore&#x27;,\n",
       "                                               sparse=False),\n",
       "                                 [1]),\n",
       "                                (&#x27;age_sibsip_parch_fare&#x27;, &#x27;passthrough&#x27;,\n",
       "                                 [2, 3, 4, 5]),\n",
       "                                (&#x27;one_hot_encoding_embarked&#x27;,\n",
       "                                 OneHotEncoder(handle_unknown=&#x27;ignore&#x27;,\n",
       "                                               sparse=False),\n",
       "                                 [6])])</pre></div></div></div><div class=\"sk-parallel\"><div class=\"sk-parallel-item\"><div class=\"sk-item\"><div class=\"sk-label-container\"><div class=\"sk-label sk-toggleable\"><input class=\"sk-toggleable__control sk-hidden--visually\" id=\"887d2696-56ef-4c17-b25a-0d90e69dd4a5\" type=\"checkbox\" ><label for=\"887d2696-56ef-4c17-b25a-0d90e69dd4a5\" class=\"sk-toggleable__label sk-toggleable__label-arrow\">pclass</label><div class=\"sk-toggleable__content\"><pre>[0]</pre></div></div></div><div class=\"sk-serial\"><div class=\"sk-item\"><div class=\"sk-estimator sk-toggleable\"><input class=\"sk-toggleable__control sk-hidden--visually\" id=\"8f715496-1fcc-4dba-ac85-ab0e6bd14ec4\" type=\"checkbox\" ><label for=\"8f715496-1fcc-4dba-ac85-ab0e6bd14ec4\" class=\"sk-toggleable__label sk-toggleable__label-arrow\">passthrough</label><div class=\"sk-toggleable__content\"><pre>passthrough</pre></div></div></div></div></div></div><div class=\"sk-parallel-item\"><div class=\"sk-item\"><div class=\"sk-label-container\"><div class=\"sk-label sk-toggleable\"><input class=\"sk-toggleable__control sk-hidden--visually\" id=\"b143d712-829b-4df8-bb72-1cea5a21c13b\" type=\"checkbox\" ><label for=\"b143d712-829b-4df8-bb72-1cea5a21c13b\" class=\"sk-toggleable__label sk-toggleable__label-arrow\">one_hot_encoding_sex</label><div class=\"sk-toggleable__content\"><pre>[1]</pre></div></div></div><div class=\"sk-serial\"><div class=\"sk-item\"><div class=\"sk-estimator sk-toggleable\"><input class=\"sk-toggleable__control sk-hidden--visually\" id=\"3564db38-9171-48df-ba68-2baa1f98adab\" type=\"checkbox\" ><label for=\"3564db38-9171-48df-ba68-2baa1f98adab\" class=\"sk-toggleable__label sk-toggleable__label-arrow\">OneHotEncoder</label><div class=\"sk-toggleable__content\"><pre>OneHotEncoder(handle_unknown=&#x27;ignore&#x27;, sparse=False)</pre></div></div></div></div></div></div><div class=\"sk-parallel-item\"><div class=\"sk-item\"><div class=\"sk-label-container\"><div class=\"sk-label sk-toggleable\"><input class=\"sk-toggleable__control sk-hidden--visually\" id=\"ceb11a70-a880-4092-91b3-315ec35d305d\" type=\"checkbox\" ><label for=\"ceb11a70-a880-4092-91b3-315ec35d305d\" class=\"sk-toggleable__label sk-toggleable__label-arrow\">age_sibsip_parch_fare</label><div class=\"sk-toggleable__content\"><pre>[2, 3, 4, 5]</pre></div></div></div><div class=\"sk-serial\"><div class=\"sk-item\"><div class=\"sk-estimator sk-toggleable\"><input class=\"sk-toggleable__control sk-hidden--visually\" id=\"dcab740e-cf1f-43cd-8cad-a08d69aa0f7b\" type=\"checkbox\" ><label for=\"dcab740e-cf1f-43cd-8cad-a08d69aa0f7b\" class=\"sk-toggleable__label sk-toggleable__label-arrow\">passthrough</label><div class=\"sk-toggleable__content\"><pre>passthrough</pre></div></div></div></div></div></div><div class=\"sk-parallel-item\"><div class=\"sk-item\"><div class=\"sk-label-container\"><div class=\"sk-label sk-toggleable\"><input class=\"sk-toggleable__control sk-hidden--visually\" id=\"f19a51e5-ccfb-4348-9358-d8fb3961ba86\" type=\"checkbox\" ><label for=\"f19a51e5-ccfb-4348-9358-d8fb3961ba86\" class=\"sk-toggleable__label sk-toggleable__label-arrow\">one_hot_encoding_embarked</label><div class=\"sk-toggleable__content\"><pre>[6]</pre></div></div></div><div class=\"sk-serial\"><div class=\"sk-item\"><div class=\"sk-estimator sk-toggleable\"><input class=\"sk-toggleable__control sk-hidden--visually\" id=\"dce2ea94-8f74-44ce-aa05-be9dad4c3362\" type=\"checkbox\" ><label for=\"dce2ea94-8f74-44ce-aa05-be9dad4c3362\" class=\"sk-toggleable__label sk-toggleable__label-arrow\">OneHotEncoder</label><div class=\"sk-toggleable__content\"><pre>OneHotEncoder(handle_unknown=&#x27;ignore&#x27;, sparse=False)</pre></div></div></div></div></div></div><div class=\"sk-parallel-item\"><div class=\"sk-item\"><div class=\"sk-label-container\"><div class=\"sk-label sk-toggleable\"><input class=\"sk-toggleable__control sk-hidden--visually\" id=\"02056555-ceee-474f-8e0d-3e82968b0eed\" type=\"checkbox\" ><label for=\"02056555-ceee-474f-8e0d-3e82968b0eed\" class=\"sk-toggleable__label sk-toggleable__label-arrow\">remainder</label><div class=\"sk-toggleable__content\"><pre>[]</pre></div></div></div><div class=\"sk-serial\"><div class=\"sk-item\"><div class=\"sk-estimator sk-toggleable\"><input class=\"sk-toggleable__control sk-hidden--visually\" id=\"70456740-50c1-48f1-a5d6-f50716c8284f\" type=\"checkbox\" ><label for=\"70456740-50c1-48f1-a5d6-f50716c8284f\" class=\"sk-toggleable__label sk-toggleable__label-arrow\">passthrough</label><div class=\"sk-toggleable__content\"><pre>passthrough</pre></div></div></div></div></div></div></div></div><div class=\"sk-item sk-dashed-wrapped\"><div class=\"sk-label-container\"><div class=\"sk-label sk-toggleable\"><input class=\"sk-toggleable__control sk-hidden--visually\" id=\"394e43d1-4471-42a0-980b-384800478e87\" type=\"checkbox\" ><label for=\"394e43d1-4471-42a0-980b-384800478e87\" class=\"sk-toggleable__label sk-toggleable__label-arrow\">scaling: ColumnTransformer</label><div class=\"sk-toggleable__content\"><pre>ColumnTransformer(remainder=&#x27;passthrough&#x27;,\n",
       "                  transformers=[(&#x27;standard_scalar&#x27;, StandardScaler(), [3, 6])])</pre></div></div></div><div class=\"sk-parallel\"><div class=\"sk-parallel-item\"><div class=\"sk-item\"><div class=\"sk-label-container\"><div class=\"sk-label sk-toggleable\"><input class=\"sk-toggleable__control sk-hidden--visually\" id=\"1a8de413-b865-4eaa-8e3a-fedbde0b5b8d\" type=\"checkbox\" ><label for=\"1a8de413-b865-4eaa-8e3a-fedbde0b5b8d\" class=\"sk-toggleable__label sk-toggleable__label-arrow\">standard_scalar</label><div class=\"sk-toggleable__content\"><pre>[3, 6]</pre></div></div></div><div class=\"sk-serial\"><div class=\"sk-item\"><div class=\"sk-estimator sk-toggleable\"><input class=\"sk-toggleable__control sk-hidden--visually\" id=\"edb5db12-5584-4273-b9af-62a15d781d00\" type=\"checkbox\" ><label for=\"edb5db12-5584-4273-b9af-62a15d781d00\" class=\"sk-toggleable__label sk-toggleable__label-arrow\">StandardScaler</label><div class=\"sk-toggleable__content\"><pre>StandardScaler()</pre></div></div></div></div></div></div><div class=\"sk-parallel-item\"><div class=\"sk-item\"><div class=\"sk-label-container\"><div class=\"sk-label sk-toggleable\"><input class=\"sk-toggleable__control sk-hidden--visually\" id=\"ac975d73-4ea6-43d6-9716-b682b9272615\" type=\"checkbox\" ><label for=\"ac975d73-4ea6-43d6-9716-b682b9272615\" class=\"sk-toggleable__label sk-toggleable__label-arrow\">remainder</label><div class=\"sk-toggleable__content\"><pre>[0, 1, 2, 4, 5, 7, 8, 9]</pre></div></div></div><div class=\"sk-serial\"><div class=\"sk-item\"><div class=\"sk-estimator sk-toggleable\"><input class=\"sk-toggleable__control sk-hidden--visually\" id=\"36ecd19e-8606-4bf7-a4ce-d85691b42107\" type=\"checkbox\" ><label for=\"36ecd19e-8606-4bf7-a4ce-d85691b42107\" class=\"sk-toggleable__label sk-toggleable__label-arrow\">passthrough</label><div class=\"sk-toggleable__content\"><pre>passthrough</pre></div></div></div></div></div></div></div></div><div class=\"sk-item\"><div class=\"sk-estimator sk-toggleable\"><input class=\"sk-toggleable__control sk-hidden--visually\" id=\"1b3d3b34-7d84-47e3-b41c-cbce1514f8e5\" type=\"checkbox\" ><label for=\"1b3d3b34-7d84-47e3-b41c-cbce1514f8e5\" class=\"sk-toggleable__label sk-toggleable__label-arrow\">RandomForestClassifier</label><div class=\"sk-toggleable__content\"><pre>RandomForestClassifier()</pre></div></div></div></div></div></div></div>"
      ],
      "text/plain": [
       "Pipeline(steps=[('handle missing values',\n",
       "                 ColumnTransformer(remainder='passthrough',\n",
       "                                   transformers=[('pclass_sex', 'passthrough',\n",
       "                                                  [0, 1]),\n",
       "                                                 ('impute_age', SimpleImputer(),\n",
       "                                                  [2]),\n",
       "                                                 ('sibsp_parch_fare',\n",
       "                                                  'passthrough', [3, 4, 5]),\n",
       "                                                 ('impute embarked',\n",
       "                                                  SimpleImputer(strategy='most_frequent'),\n",
       "                                                  [6])],\n",
       "                                   verbose=True)),\n",
       "                ('handle categorical columns',\n",
       "                 ColumnTransformer(remainder='passth...\n",
       "                                                 ('one_hot_encoding_sex',\n",
       "                                                  OneHotEncoder(handle_unknown='ignore',\n",
       "                                                                sparse=False),\n",
       "                                                  [1]),\n",
       "                                                 ('age_sibsip_parch_fare',\n",
       "                                                  'passthrough', [2, 3, 4, 5]),\n",
       "                                                 ('one_hot_encoding_embarked',\n",
       "                                                  OneHotEncoder(handle_unknown='ignore',\n",
       "                                                                sparse=False),\n",
       "                                                  [6])])),\n",
       "                ('scaling',\n",
       "                 ColumnTransformer(remainder='passthrough',\n",
       "                                   transformers=[('standard_scalar',\n",
       "                                                  StandardScaler(), [3, 6])])),\n",
       "                ('train', RandomForestClassifier())])"
      ]
     },
     "execution_count": 32,
     "metadata": {},
     "output_type": "execute_result"
    }
   ],
   "source": [
    "model.fit(X_train, y_train)"
   ]
  },
  {
   "cell_type": "code",
   "execution_count": 33,
   "metadata": {},
   "outputs": [
    {
     "data": {
      "text/plain": [
       "0.9817415730337079"
      ]
     },
     "execution_count": 33,
     "metadata": {},
     "output_type": "execute_result"
    }
   ],
   "source": [
    "model.score(X_train, y_train)"
   ]
  },
  {
   "cell_type": "code",
   "execution_count": 34,
   "metadata": {},
   "outputs": [],
   "source": [
    "predictions = model.predict(X_test)"
   ]
  },
  {
   "cell_type": "code",
   "execution_count": 35,
   "metadata": {},
   "outputs": [],
   "source": [
    "from sklearn.metrics import accuracy_score"
   ]
  },
  {
   "cell_type": "code",
   "execution_count": 36,
   "metadata": {},
   "outputs": [
    {
     "data": {
      "text/plain": [
       "0.7877094972067039"
      ]
     },
     "execution_count": 36,
     "metadata": {},
     "output_type": "execute_result"
    }
   ],
   "source": [
    "accuracy_score(y_test, predictions)"
   ]
  },
  {
   "cell_type": "code",
   "execution_count": null,
   "metadata": {},
   "outputs": [],
   "source": []
  }
 ],
 "metadata": {
  "kernelspec": {
   "display_name": "Python 3",
   "language": "python",
   "name": "python3"
  },
  "language_info": {
   "codemirror_mode": {
    "name": "ipython",
    "version": 3
   },
   "file_extension": ".py",
   "mimetype": "text/x-python",
   "name": "python",
   "nbconvert_exporter": "python",
   "pygments_lexer": "ipython3",
   "version": "3.7.8"
  }
 },
 "nbformat": 4,
 "nbformat_minor": 4
}
