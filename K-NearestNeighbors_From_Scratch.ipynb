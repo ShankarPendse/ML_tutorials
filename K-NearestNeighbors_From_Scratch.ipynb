{
 "cells": [
  {
   "cell_type": "code",
   "execution_count": 1,
   "metadata": {},
   "outputs": [],
   "source": [
    "import numpy as np\n",
    "import pandas as pd\n",
    "import time\n",
    "import matplotlib.pyplot as plt"
   ]
  },
  {
   "cell_type": "code",
   "execution_count": 2,
   "metadata": {},
   "outputs": [],
   "source": [
    "train_data = np.genfromtxt('datasets/KNN/regression/trainingData.csv', delimiter = \",\")\n",
    "test_data = np.genfromtxt('datasets/KNN/regression/testData.csv', delimiter = \",\")"
   ]
  },
  {
   "cell_type": "code",
   "execution_count": 3,
   "metadata": {},
   "outputs": [
    {
     "data": {
      "text/plain": [
       "(6400, 13)"
      ]
     },
     "execution_count": 3,
     "metadata": {},
     "output_type": "execute_result"
    }
   ],
   "source": [
    "train_data.shape"
   ]
  },
  {
   "cell_type": "code",
   "execution_count": 4,
   "metadata": {},
   "outputs": [
    {
     "data": {
      "text/plain": [
       "(1600, 13)"
      ]
     },
     "execution_count": 4,
     "metadata": {},
     "output_type": "execute_result"
    }
   ],
   "source": [
    "test_data.shape"
   ]
  },
  {
   "cell_type": "markdown",
   "metadata": {},
   "source": [
    "# KNN Steps:\n",
    "\n",
    "## 1) Read the data\n",
    "\n",
    "## 2) For each query instance, calculate the distance with the training instances\n",
    "\n",
    "## 3) Consider K nearest neighbors based on the distance calculated in 2nd step\n",
    "\n",
    "## 4) Assign average / mean value of the K nearest neighbors as our predicted value for the query instance"
   ]
  },
  {
   "cell_type": "markdown",
   "metadata": {},
   "source": [
    "# Function to calculate euclidean distance"
   ]
  },
  {
   "cell_type": "code",
   "execution_count": 5,
   "metadata": {},
   "outputs": [],
   "source": [
    "def calculate_euclidean_distance(training_features, query_features):\n",
    "    return np.sqrt(np.sum(np.square(query_features-training_features), axis=1))"
   ]
  },
  {
   "cell_type": "markdown",
   "metadata": {},
   "source": [
    "# Function to predict using K-nearest neighbors"
   ]
  },
  {
   "cell_type": "code",
   "execution_count": 6,
   "metadata": {},
   "outputs": [],
   "source": [
    "arr1 = np.array([2,1,3,6,5,4])"
   ]
  },
  {
   "cell_type": "code",
   "execution_count": 7,
   "metadata": {},
   "outputs": [
    {
     "data": {
      "text/plain": [
       "array([1, 0, 2, 5, 4, 3], dtype=int64)"
      ]
     },
     "execution_count": 7,
     "metadata": {},
     "output_type": "execute_result"
    }
   ],
   "source": [
    "np.argsort(arr1)"
   ]
  },
  {
   "cell_type": "code",
   "execution_count": 12,
   "metadata": {},
   "outputs": [],
   "source": [
    "def predict(train_data, test_data):\n",
    "    k = 3\n",
    "    distances = calculate_euclidean_distance(train_data[:,0:-1], test_data[0:-1])\n",
    "    \n",
    "    indices = np.argsort(distances)\n",
    "    predicted_value = np.mean(train_data[indices[0:k], -1])\n",
    "    \n",
    "    return predicted_value"
   ]
  },
  {
   "cell_type": "code",
   "execution_count": 9,
   "metadata": {},
   "outputs": [],
   "source": [
    "def calculate_r2(actual_target_values, predicted_target_values):\n",
    "    sum_squared_residuals = np.sum(\n",
    "                                   np.square(predicted_target_values - actual_target_values)\n",
    "                                  )\n",
    "    \n",
    "    sum_squares = np.sum(\n",
    "                         np.square(np.mean(actual_target_values) - actual_target_values)\n",
    "                        )\n",
    "    \n",
    "    r2 = 1 - (sum_squared_residuals/sum_squares)\n",
    "    \n",
    "    return r2\n",
    "    "
   ]
  },
  {
   "cell_type": "code",
   "execution_count": 13,
   "metadata": {},
   "outputs": [
    {
     "name": "stdout",
     "output_type": "stream",
     "text": [
      "R2 Score is:  0.8165934427865968\n",
      "Time taken:  1.40625\n"
     ]
    }
   ],
   "source": [
    "start_time = time.process_time()\n",
    "\n",
    "predictions = []\n",
    "\n",
    "for i in range(len(test_data)):\n",
    "    predicted_value = predict(train_data, test_data[i])\n",
    "    predictions.append(predicted_value)\n",
    "\n",
    "r2_score = calculate_r2(test_data[:, -1], np.array(predictions))\n",
    "\n",
    "end_time = time.process_time()\n",
    "\n",
    "print(\"R2 Score is: \", r2_score)\n",
    "print(\"Time taken: \", end_time-start_time)"
   ]
  },
  {
   "cell_type": "code",
   "execution_count": 19,
   "metadata": {},
   "outputs": [
    {
     "data": {
      "text/plain": [
       "<matplotlib.collections.PathCollection at 0x19f02b4e808>"
      ]
     },
     "execution_count": 19,
     "metadata": {},
     "output_type": "execute_result"
    },
    {
     "data": {
      "image/png": "[encoded data removed]",
      "text/plain": [
       "<Figure size 432x288 with 1 Axes>"
      ]
     },
     "metadata": {
      "needs_background": "light"
     },
     "output_type": "display_data"
    }
   ],
   "source": [
    "plt.scatter(np.arange(10), test_data[0:10, -1], color= 'yellow')\n",
    "plt.scatter(np.arange(10), predictions[0:10], color= 'blue')"
   ]
  },
  {
   "cell_type": "code",
   "execution_count": 20,
   "metadata": {},
   "outputs": [],
   "source": [
    "df_train = pd.DataFrame(train_data)\n",
    "df_test = pd.DataFrame(test_data)"
   ]
  },
  {
   "cell_type": "code",
   "execution_count": 21,
   "metadata": {},
   "outputs": [
    {
     "data": {
      "text/html": [
       "<div>\n",
       "<style scoped>\n",
       "    .dataframe tbody tr th:only-of-type {\n",
       "        vertical-align: middle;\n",
       "    }\n",
       "\n",
       "    .dataframe tbody tr th {\n",
       "        vertical-align: top;\n",
       "    }\n",
       "\n",
       "    .dataframe thead th {\n",
       "        text-align: right;\n",
       "    }\n",
       "</style>\n",
       "<table border=\"1\" class=\"dataframe\">\n",
       "  <thead>\n",
       "    <tr style=\"text-align: right;\">\n",
       "      <th></th>\n",
       "      <th>0</th>\n",
       "      <th>1</th>\n",
       "      <th>2</th>\n",
       "      <th>3</th>\n",
       "      <th>4</th>\n",
       "      <th>5</th>\n",
       "      <th>6</th>\n",
       "      <th>7</th>\n",
       "      <th>8</th>\n",
       "      <th>9</th>\n",
       "      <th>10</th>\n",
       "      <th>11</th>\n",
       "      <th>12</th>\n",
       "    </tr>\n",
       "  </thead>\n",
       "  <tbody>\n",
       "    <tr>\n",
       "      <th>0</th>\n",
       "      <td>1.000000</td>\n",
       "      <td>-0.004362</td>\n",
       "      <td>0.007072</td>\n",
       "      <td>0.000705</td>\n",
       "      <td>0.008373</td>\n",
       "      <td>-0.011065</td>\n",
       "      <td>0.022645</td>\n",
       "      <td>-0.000628</td>\n",
       "      <td>0.014265</td>\n",
       "      <td>0.003355</td>\n",
       "      <td>-0.004684</td>\n",
       "      <td>-0.017824</td>\n",
       "      <td>0.004609</td>\n",
       "    </tr>\n",
       "    <tr>\n",
       "      <th>1</th>\n",
       "      <td>-0.004362</td>\n",
       "      <td>1.000000</td>\n",
       "      <td>-0.020603</td>\n",
       "      <td>-0.001333</td>\n",
       "      <td>-0.005931</td>\n",
       "      <td>0.008843</td>\n",
       "      <td>0.008947</td>\n",
       "      <td>-0.004167</td>\n",
       "      <td>-0.021844</td>\n",
       "      <td>0.004767</td>\n",
       "      <td>0.004464</td>\n",
       "      <td>-0.005987</td>\n",
       "      <td>-0.001219</td>\n",
       "    </tr>\n",
       "    <tr>\n",
       "      <th>2</th>\n",
       "      <td>0.007072</td>\n",
       "      <td>-0.020603</td>\n",
       "      <td>1.000000</td>\n",
       "      <td>0.000111</td>\n",
       "      <td>-0.014672</td>\n",
       "      <td>0.014021</td>\n",
       "      <td>-0.010896</td>\n",
       "      <td>-0.008521</td>\n",
       "      <td>0.000466</td>\n",
       "      <td>-0.013469</td>\n",
       "      <td>0.002297</td>\n",
       "      <td>-0.013291</td>\n",
       "      <td>-0.022593</td>\n",
       "    </tr>\n",
       "    <tr>\n",
       "      <th>3</th>\n",
       "      <td>0.000705</td>\n",
       "      <td>-0.001333</td>\n",
       "      <td>0.000111</td>\n",
       "      <td>1.000000</td>\n",
       "      <td>-0.000592</td>\n",
       "      <td>0.020930</td>\n",
       "      <td>0.003464</td>\n",
       "      <td>0.018884</td>\n",
       "      <td>-0.009665</td>\n",
       "      <td>-0.013561</td>\n",
       "      <td>0.014955</td>\n",
       "      <td>0.000111</td>\n",
       "      <td>0.006303</td>\n",
       "    </tr>\n",
       "    <tr>\n",
       "      <th>4</th>\n",
       "      <td>0.008373</td>\n",
       "      <td>-0.005931</td>\n",
       "      <td>-0.014672</td>\n",
       "      <td>-0.000592</td>\n",
       "      <td>1.000000</td>\n",
       "      <td>0.018053</td>\n",
       "      <td>0.000553</td>\n",
       "      <td>0.006604</td>\n",
       "      <td>-0.018079</td>\n",
       "      <td>0.001130</td>\n",
       "      <td>-0.007775</td>\n",
       "      <td>-0.002404</td>\n",
       "      <td>0.000415</td>\n",
       "    </tr>\n",
       "    <tr>\n",
       "      <th>5</th>\n",
       "      <td>-0.011065</td>\n",
       "      <td>0.008843</td>\n",
       "      <td>0.014021</td>\n",
       "      <td>0.020930</td>\n",
       "      <td>0.018053</td>\n",
       "      <td>1.000000</td>\n",
       "      <td>0.010928</td>\n",
       "      <td>0.009479</td>\n",
       "      <td>0.009403</td>\n",
       "      <td>-0.014863</td>\n",
       "      <td>0.013834</td>\n",
       "      <td>0.009100</td>\n",
       "      <td>0.009425</td>\n",
       "    </tr>\n",
       "    <tr>\n",
       "      <th>6</th>\n",
       "      <td>0.022645</td>\n",
       "      <td>0.008947</td>\n",
       "      <td>-0.010896</td>\n",
       "      <td>0.003464</td>\n",
       "      <td>0.000553</td>\n",
       "      <td>0.010928</td>\n",
       "      <td>1.000000</td>\n",
       "      <td>0.000829</td>\n",
       "      <td>0.004241</td>\n",
       "      <td>-0.012111</td>\n",
       "      <td>-0.014598</td>\n",
       "      <td>0.001990</td>\n",
       "      <td>0.500095</td>\n",
       "    </tr>\n",
       "    <tr>\n",
       "      <th>7</th>\n",
       "      <td>-0.000628</td>\n",
       "      <td>-0.004167</td>\n",
       "      <td>-0.008521</td>\n",
       "      <td>0.018884</td>\n",
       "      <td>0.006604</td>\n",
       "      <td>0.009479</td>\n",
       "      <td>0.000829</td>\n",
       "      <td>1.000000</td>\n",
       "      <td>-0.015647</td>\n",
       "      <td>-0.008439</td>\n",
       "      <td>0.006654</td>\n",
       "      <td>-0.010313</td>\n",
       "      <td>0.484448</td>\n",
       "    </tr>\n",
       "    <tr>\n",
       "      <th>8</th>\n",
       "      <td>0.014265</td>\n",
       "      <td>-0.021844</td>\n",
       "      <td>0.000466</td>\n",
       "      <td>-0.009665</td>\n",
       "      <td>-0.018079</td>\n",
       "      <td>0.009403</td>\n",
       "      <td>0.004241</td>\n",
       "      <td>-0.015647</td>\n",
       "      <td>1.000000</td>\n",
       "      <td>0.016315</td>\n",
       "      <td>-0.005209</td>\n",
       "      <td>-0.027966</td>\n",
       "      <td>0.152783</td>\n",
       "    </tr>\n",
       "    <tr>\n",
       "      <th>9</th>\n",
       "      <td>0.003355</td>\n",
       "      <td>0.004767</td>\n",
       "      <td>-0.013469</td>\n",
       "      <td>-0.013561</td>\n",
       "      <td>0.001130</td>\n",
       "      <td>-0.014863</td>\n",
       "      <td>-0.012111</td>\n",
       "      <td>-0.008439</td>\n",
       "      <td>0.016315</td>\n",
       "      <td>1.000000</td>\n",
       "      <td>0.013414</td>\n",
       "      <td>0.000968</td>\n",
       "      <td>0.466152</td>\n",
       "    </tr>\n",
       "    <tr>\n",
       "      <th>10</th>\n",
       "      <td>-0.004684</td>\n",
       "      <td>0.004464</td>\n",
       "      <td>0.002297</td>\n",
       "      <td>0.014955</td>\n",
       "      <td>-0.007775</td>\n",
       "      <td>0.013834</td>\n",
       "      <td>-0.014598</td>\n",
       "      <td>0.006654</td>\n",
       "      <td>-0.005209</td>\n",
       "      <td>0.013414</td>\n",
       "      <td>1.000000</td>\n",
       "      <td>-0.004695</td>\n",
       "      <td>-0.000782</td>\n",
       "    </tr>\n",
       "    <tr>\n",
       "      <th>11</th>\n",
       "      <td>-0.017824</td>\n",
       "      <td>-0.005987</td>\n",
       "      <td>-0.013291</td>\n",
       "      <td>0.000111</td>\n",
       "      <td>-0.002404</td>\n",
       "      <td>0.009100</td>\n",
       "      <td>0.001990</td>\n",
       "      <td>-0.010313</td>\n",
       "      <td>-0.027966</td>\n",
       "      <td>0.000968</td>\n",
       "      <td>-0.004695</td>\n",
       "      <td>1.000000</td>\n",
       "      <td>0.504330</td>\n",
       "    </tr>\n",
       "    <tr>\n",
       "      <th>12</th>\n",
       "      <td>0.004609</td>\n",
       "      <td>-0.001219</td>\n",
       "      <td>-0.022593</td>\n",
       "      <td>0.006303</td>\n",
       "      <td>0.000415</td>\n",
       "      <td>0.009425</td>\n",
       "      <td>0.500095</td>\n",
       "      <td>0.484448</td>\n",
       "      <td>0.152783</td>\n",
       "      <td>0.466152</td>\n",
       "      <td>-0.000782</td>\n",
       "      <td>0.504330</td>\n",
       "      <td>1.000000</td>\n",
       "    </tr>\n",
       "  </tbody>\n",
       "</table>\n",
       "</div>"
      ],
      "text/plain": [
       "          0         1         2         3         4         5         6   \\\n",
       "0   1.000000 -0.004362  0.007072  0.000705  0.008373 -0.011065  0.022645   \n",
       "1  -0.004362  1.000000 -0.020603 -0.001333 -0.005931  0.008843  0.008947   \n",
       "2   0.007072 -0.020603  1.000000  0.000111 -0.014672  0.014021 -0.010896   \n",
       "3   0.000705 -0.001333  0.000111  1.000000 -0.000592  0.020930  0.003464   \n",
       "4   0.008373 -0.005931 -0.014672 -0.000592  1.000000  0.018053  0.000553   \n",
       "5  -0.011065  0.008843  0.014021  0.020930  0.018053  1.000000  0.010928   \n",
       "6   0.022645  0.008947 -0.010896  0.003464  0.000553  0.010928  1.000000   \n",
       "7  -0.000628 -0.004167 -0.008521  0.018884  0.006604  0.009479  0.000829   \n",
       "8   0.014265 -0.021844  0.000466 -0.009665 -0.018079  0.009403  0.004241   \n",
       "9   0.003355  0.004767 -0.013469 -0.013561  0.001130 -0.014863 -0.012111   \n",
       "10 -0.004684  0.004464  0.002297  0.014955 -0.007775  0.013834 -0.014598   \n",
       "11 -0.017824 -0.005987 -0.013291  0.000111 -0.002404  0.009100  0.001990   \n",
       "12  0.004609 -0.001219 -0.022593  0.006303  0.000415  0.009425  0.500095   \n",
       "\n",
       "          7         8         9         10        11        12  \n",
       "0  -0.000628  0.014265  0.003355 -0.004684 -0.017824  0.004609  \n",
       "1  -0.004167 -0.021844  0.004767  0.004464 -0.005987 -0.001219  \n",
       "2  -0.008521  0.000466 -0.013469  0.002297 -0.013291 -0.022593  \n",
       "3   0.018884 -0.009665 -0.013561  0.014955  0.000111  0.006303  \n",
       "4   0.006604 -0.018079  0.001130 -0.007775 -0.002404  0.000415  \n",
       "5   0.009479  0.009403 -0.014863  0.013834  0.009100  0.009425  \n",
       "6   0.000829  0.004241 -0.012111 -0.014598  0.001990  0.500095  \n",
       "7   1.000000 -0.015647 -0.008439  0.006654 -0.010313  0.484448  \n",
       "8  -0.015647  1.000000  0.016315 -0.005209 -0.027966  0.152783  \n",
       "9  -0.008439  0.016315  1.000000  0.013414  0.000968  0.466152  \n",
       "10  0.006654 -0.005209  0.013414  1.000000 -0.004695 -0.000782  \n",
       "11 -0.010313 -0.027966  0.000968 -0.004695  1.000000  0.504330  \n",
       "12  0.484448  0.152783  0.466152 -0.000782  0.504330  1.000000  "
      ]
     },
     "execution_count": 21,
     "metadata": {},
     "output_type": "execute_result"
    }
   ],
   "source": [
    "df_train.corr()"
   ]
  },
  {
   "cell_type": "code",
   "execution_count": 22,
   "metadata": {},
   "outputs": [],
   "source": [
    "new_train_data = train_data[:, [6,7,8,9,11,12]]\n",
    "new_test_data = test_data[:, [6,7,8,9,11,12]]"
   ]
  },
  {
   "cell_type": "code",
   "execution_count": 23,
   "metadata": {},
   "outputs": [
    {
     "name": "stdout",
     "output_type": "stream",
     "text": [
      "R2 Score is:  0.9597535566295161\n",
      "Time taken:  0.90625\n"
     ]
    }
   ],
   "source": [
    "start_time = time.process_time()\n",
    "\n",
    "predictions = []\n",
    "\n",
    "for i in range(len(new_test_data)):\n",
    "    predicted_value = predict(new_train_data, new_test_data[i])\n",
    "    predictions.append(predicted_value)\n",
    "\n",
    "r2_score = calculate_r2(new_test_data[:, -1], np.array(predictions))\n",
    "\n",
    "end_time = time.process_time()\n",
    "\n",
    "print(\"R2 Score is: \", r2_score)\n",
    "print(\"Time taken: \", end_time-start_time)"
   ]
  },
  {
   "cell_type": "code",
   "execution_count": 24,
   "metadata": {},
   "outputs": [
    {
     "data": {
      "text/plain": [
       "<matplotlib.collections.PathCollection at 0x19f02c01148>"
      ]
     },
     "execution_count": 24,
     "metadata": {},
     "output_type": "execute_result"
    },
    {
     "data": {
      "image/png": "[encoded data removed]",
      "text/plain": [
       "<Figure size 432x288 with 1 Axes>"
      ]
     },
     "metadata": {
      "needs_background": "light"
     },
     "output_type": "display_data"
    }
   ],
   "source": [
    "plt.scatter(np.arange(10), new_test_data[0:10, -1], color= 'yellow')\n",
    "plt.scatter(np.arange(10), predictions[0:10], color= 'blue')"
   ]
  },
  {
   "cell_type": "code",
   "execution_count": 25,
   "metadata": {},
   "outputs": [
    {
     "data": {
      "text/plain": [
       "<matplotlib.collections.PathCollection at 0x19f02c4e2c8>"
      ]
     },
     "execution_count": 25,
     "metadata": {},
     "output_type": "execute_result"
    },
    {
     "data": {
      "image/png": "[encoded data removed]",
      "text/plain": [
       "<Figure size 432x288 with 1 Axes>"
      ]
     },
     "metadata": {
      "needs_background": "light"
     },
     "output_type": "display_data"
    }
   ],
   "source": [
    "plt.scatter(np.arange(len(new_test_data)), new_test_data[:, -1], color= 'yellow')\n",
    "plt.scatter(np.arange(len(new_test_data)), predictions, color= 'blue')"
   ]
  },
  {
   "cell_type": "code",
   "execution_count": null,
   "metadata": {},
   "outputs": [],
   "source": []
  }
 ],
 "metadata": {
  "kernelspec": {
   "display_name": "Python 3",
   "language": "python",
   "name": "python3"
  },
  "language_info": {
   "codemirror_mode": {
    "name": "ipython",
    "version": 3
   },
   "file_extension": ".py",
   "mimetype": "text/x-python",
   "name": "python",
   "nbconvert_exporter": "python",
   "pygments_lexer": "ipython3",
   "version": "3.7.8"
  }
 },
 "nbformat": 4,
 "nbformat_minor": 4
}
